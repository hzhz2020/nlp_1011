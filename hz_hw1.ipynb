{
 "cells": [
  {
   "cell_type": "code",
   "execution_count": 152,
   "metadata": {},
   "outputs": [],
   "source": [
    "import os\n",
    "import numpy as np\n",
    "import re\n",
    "import pickle as pkl\n",
    "import spacy\n",
    "import string\n",
    "import random\n",
    "from collections import Counter\n",
    "import time\n",
    "import numpy as np\n",
    "import torch\n",
    "from torch.utils.data import Dataset\n",
    "\n",
    "import torch\n",
    "import torch.nn as nn\n",
    "import torch.nn.functional as F\n",
    "\n",
    "#seems like nltk would be faster\n",
    "spacy.__version__\n",
    "from spacy.lang.en.stop_words import STOP_WORDS\n",
    "\n",
    "#!pip install BeautifulSoup4\n",
    "#use BeautifulSoup to remove html tag\n",
    "from bs4 import BeautifulSoup"
   ]
  },
  {
   "cell_type": "code",
   "execution_count": 124,
   "metadata": {},
   "outputs": [],
   "source": [
    "def convert(data_list):\n",
    "    #0 is neg, 1 is pos\n",
    "    return [0 if i =='neg' else 1 for i in data_list]"
   ]
  },
  {
   "cell_type": "code",
   "execution_count": 125,
   "metadata": {},
   "outputs": [],
   "source": [
    "# save index 0 for unk and 1 for pad\n",
    "PAD_IDX = 0\n",
    "UNK_IDX = 1\n",
    "\n",
    "#use default vocab_size = 10000, can be over-written later\n",
    "max_vocab_size = 10000\n",
    "\n",
    "def build_vocab(all_tokens):\n",
    "    # Returns:\n",
    "    # id2token: list of tokens, where id2token[i] returns token that corresponds to token i\n",
    "    # token2id: dictionary where keys represent tokens and corresponding values represent indices\n",
    "    token_counter = Counter(all_tokens)\n",
    "    vocab, count = zip(*token_counter.most_common(max_vocab_size))\n",
    "    id2token = list(vocab)\n",
    "    token2id = dict(zip(vocab, range(2,2+len(vocab)))) \n",
    "    id2token = ['<pad>', '<unk>'] + id2token\n",
    "    token2id['<pad>'] = PAD_IDX \n",
    "    token2id['<unk>'] = UNK_IDX\n",
    "    return token2id, id2token\n"
   ]
  },
  {
   "cell_type": "code",
   "execution_count": 126,
   "metadata": {},
   "outputs": [],
   "source": [
    "# convert token to id in the dataset\n",
    "# convert a sentence into a sequnce of tokens\n",
    "def token2index_dataset(tokens_data):\n",
    "    indices_data = []\n",
    "    for tokens in tokens_data:\n",
    "        index_list = [token2id[token] if token in token2id else UNK_IDX for token in tokens]\n",
    "        indices_data.append(index_list)\n",
    "    return indices_data"
   ]
  },
  {
   "cell_type": "code",
   "execution_count": 127,
   "metadata": {},
   "outputs": [],
   "source": [
    "class NewsGroupDataset(Dataset):\n",
    "    \"\"\"\n",
    "    Class that represents a train/validation/test dataset that's readable for PyTorch\n",
    "    Note that this class inherits torch.utils.data.Dataset\n",
    "    \"\"\"\n",
    "    \n",
    "    def __init__(self, data_list, target_list):\n",
    "        \"\"\"\n",
    "        @param data_list: list of newsgroup tokens \n",
    "        @param target_list: list of newsgroup targets \n",
    "\n",
    "        \"\"\"\n",
    "        self.data_list = data_list\n",
    "        self.target_list = target_list\n",
    "        assert (len(self.data_list) == len(self.target_list))\n",
    "\n",
    "    def __len__(self):\n",
    "        return len(self.data_list)\n",
    "        \n",
    "    def __getitem__(self, key):\n",
    "        \"\"\"\n",
    "        Triggered when you call dataset[i]\n",
    "        \"\"\"\n",
    "        \n",
    "        token_idx = self.data_list[key][:MAX_SENTENCE_LENGTH]\n",
    "        label = self.target_list[key]\n",
    "        return [token_idx, len(token_idx), label]\n",
    "\n",
    "def newsgroup_collate_func(batch):\n",
    "    \"\"\"\n",
    "    Customized function for DataLoader that dynamically pads the batch so that all \n",
    "    data have the same length\n",
    "    \"\"\"\n",
    "    data_list = []\n",
    "    label_list = []\n",
    "    length_list = []\n",
    "    #print(\"collate batch: \", batch[0][0])\n",
    "    #batch[0][0] = batch[0][0][:MAX_SENTENCE_LENGTH]\n",
    "    for datum in batch:\n",
    "        label_list.append(datum[2])\n",
    "        #print(datum[2])\n",
    "        length_list.append(datum[1])\n",
    "    # padding\n",
    "    for datum in batch:\n",
    "        padded_vec = np.pad(np.array(datum[0]), \n",
    "                                pad_width=((0,MAX_SENTENCE_LENGTH-datum[1])), \n",
    "                                mode=\"constant\", constant_values=0)\n",
    "        data_list.append(padded_vec)\n",
    "    return [torch.from_numpy(np.array(data_list)), torch.LongTensor(length_list), torch.LongTensor(label_list)]\n",
    "\n"
   ]
  },
  {
   "cell_type": "code",
   "execution_count": 128,
   "metadata": {},
   "outputs": [],
   "source": [
    "class BagOfWords(nn.Module):\n",
    "    \"\"\"\n",
    "    BagOfWords classification model\n",
    "    \"\"\"\n",
    "    \n",
    "    #emb_dim will make a lot difference\n",
    "    def __init__(self, vocab_size, emb_dim):\n",
    "        \"\"\"\n",
    "        @param vocab_size: size of the vocabulary. \n",
    "        @param emb_dim: size of the word embedding\n",
    "        \"\"\"\n",
    "        super(BagOfWords, self).__init__()\n",
    "        # pay attention to padding_idx \n",
    "        self.embed = nn.Embedding(vocab_size, emb_dim, padding_idx=0)\n",
    "        self.linear = nn.Linear(emb_dim,2)\n",
    "    \n",
    "    def forward(self, data, length):\n",
    "        \"\"\"\n",
    "        \n",
    "        @param data: matrix of size (batch_size, max_sentence_length). Each row in data represents a \n",
    "            review that is represented using n-gram index. Note that they are padded to have same length.\n",
    "        @param length: an int tensor of size (batch_size), which represents the non-trivial (excludes padding)\n",
    "            length of each sentences in the data.\n",
    "        \"\"\"\n",
    "        out = self.embed(data)\n",
    "        out = torch.sum(out, dim=1)\n",
    "        out /= length.view(length.size()[0],1).expand_as(out).float()\n",
    "     \n",
    "        # return logits\n",
    "        out = self.linear(out.float())\n",
    "        return out"
   ]
  },
  {
   "cell_type": "code",
   "execution_count": 129,
   "metadata": {},
   "outputs": [],
   "source": [
    "# Function for testing the model\n",
    "def test_model(loader, model):\n",
    "    \"\"\"\n",
    "    Help function that tests the model's performance on a dataset\n",
    "    @param: loader - data loader for the dataset to test against\n",
    "    \"\"\"\n",
    "    correct = 0\n",
    "    total = 0\n",
    "    model.eval()\n",
    "    for data, lengths, labels in loader:\n",
    "        data_batch, length_batch, label_batch = data, lengths, labels\n",
    "        outputs = F.softmax(model(data_batch, length_batch), dim=1)\n",
    "        predicted = outputs.max(1, keepdim=True)[1]\n",
    "        \n",
    "        total += labels.size(0)\n",
    "        correct += predicted.eq(labels.view_as(predicted)).sum().item()\n",
    "    return (100 * correct / total)"
   ]
  },
  {
   "cell_type": "code",
   "execution_count": null,
   "metadata": {},
   "outputs": [],
   "source": [
    "#function adapt from torch.optim.lr_scheduler\n",
    "class Linear_StepLR(_LRScheduler):\n",
    "\n",
    "    def __init__(self, optimizer, step_size, gamma=0.1, last_epoch=-1):\n",
    "        self.step_size = step_size\n",
    "        self.gamma = gamma\n",
    "        super(StepLR, self).__init__(optimizer, last_epoch)\n",
    "\n",
    "    def get_lr(self):\n",
    "        return [base_lr - self.gamma ** (self.last_epoch // self.step_size)\n",
    "                for base_lr in self.base_lrs]"
   ]
  },
  {
   "cell_type": "markdown",
   "metadata": {},
   "source": [
    "## Data Preparation"
   ]
  },
  {
   "cell_type": "markdown",
   "metadata": {},
   "source": [
    "## obtain data"
   ]
  },
  {
   "cell_type": "code",
   "execution_count": 5,
   "metadata": {},
   "outputs": [],
   "source": [
    "directoryPath ='./aclImdb'"
   ]
  },
  {
   "cell_type": "code",
   "execution_count": 4,
   "metadata": {},
   "outputs": [],
   "source": [
    "#Load data\n",
    "data = dict(train_data = [],\n",
    "train_targets_class = [],\n",
    "train_targets_values = [],\n",
    "\n",
    "test_data = [],\n",
    "test_targets_class = [],\n",
    "test_targets_values = [])"
   ]
  },
  {
   "cell_type": "code",
   "execution_count": 5,
   "metadata": {},
   "outputs": [
    {
     "data": {
      "text/plain": [
       "{'train_data': [],\n",
       " 'train_targets_class': [],\n",
       " 'train_targets_values': [],\n",
       " 'test_data': [],\n",
       " 'test_targets_class': [],\n",
       " 'test_targets_values': []}"
      ]
     },
     "execution_count": 5,
     "metadata": {},
     "output_type": "execute_result"
    }
   ],
   "source": [
    "data"
   ]
  },
  {
   "cell_type": "code",
   "execution_count": 6,
   "metadata": {},
   "outputs": [
    {
     "name": "stdout",
     "output_type": "stream",
     "text": [
      "train\n",
      "train_data\n",
      "<class 'str'>\n",
      "train\n",
      "train_data\n",
      "<class 'str'>\n",
      "test\n",
      "test_data\n",
      "<class 'str'>\n",
      "test\n",
      "test_data\n",
      "<class 'str'>\n"
     ]
    }
   ],
   "source": [
    "folder_list = ['train/pos','train/neg','test/pos','test/neg']\n",
    "\n",
    "for i in folder_list:\n",
    "    print(i.split('/')[0])\n",
    "    current_data = i.split('/')[0] + '_data'\n",
    "    print(current_data)\n",
    "    print(type(current_data))"
   ]
  },
  {
   "cell_type": "code",
   "execution_count": 7,
   "metadata": {},
   "outputs": [
    {
     "name": "stdout",
     "output_type": "stream",
     "text": [
      "train\n",
      "pos\n",
      "./aclImdb/train/pos\n",
      "train\n",
      "neg\n",
      "./aclImdb/train/neg\n",
      "test\n",
      "pos\n",
      "./aclImdb/test/pos\n",
      "test\n",
      "neg\n",
      "./aclImdb/test/neg\n"
     ]
    }
   ],
   "source": [
    "folder_list = ['train/pos','train/neg','test/pos','test/neg']\n",
    "\n",
    "for folder in folder_list:\n",
    "    current_data_section = folder.split('/')[0]\n",
    "    print(current_data_section)\n",
    "    current_data_label = folder.split('/')[1]\n",
    "    print(current_data_label)\n",
    "    subfolder = os.path.join(directoryPath,folder)\n",
    "    print(subfolder)\n",
    "    for file in os.listdir(subfolder):\n",
    "        #print(file)\n",
    "        score = file.split('_')[1].split('.')[0]\n",
    "        #print(score)\n",
    "        current_data = current_data_section+'_data'\n",
    "        #print(current_data)\n",
    "        current_target_class = current_data_section + '_targets_class'\n",
    "        #print(current_target_class)\n",
    "        current_target_values = current_data_section + '_targets_values'\n",
    "        #print(current_target_values)\n",
    "        try:\n",
    "            score = int(score)\n",
    "            #print(score)\n",
    "            data[current_target_class].append(current_data_label)\n",
    "            data[current_target_values].append(score)\n",
    "            with open(os.path.join(subfolder,file)) as file:\n",
    "                data[current_data].append(file.read())\n",
    "        except:\n",
    "            print('skip example {}'.format(os.path.join(subfolder,file)))\n",
    "\n",
    "\n",
    "    "
   ]
  },
  {
   "cell_type": "code",
   "execution_count": 8,
   "metadata": {},
   "outputs": [],
   "source": [
    "train_data = data['train_data']\n",
    "train_targets_class = data['train_targets_class']\n",
    "train_targets_values = data['train_targets_values']\n",
    "test_data = data['test_data']\n",
    "test_targets_class = data['test_targets_class']\n",
    "test_targets_values = data['test_targets_values']"
   ]
  },
  {
   "cell_type": "code",
   "execution_count": 9,
   "metadata": {},
   "outputs": [],
   "source": [
    "#shuffle the train data\n",
    "#train validation split: as suggested 20000 vs 5000\n",
    "\n",
    "c = list(zip(train_data, train_targets_class,train_targets_values))\n",
    "random.shuffle(c)\n",
    "train_data, train_targets_class, train_targets_values = zip(*c)\n"
   ]
  },
  {
   "cell_type": "code",
   "execution_count": 10,
   "metadata": {},
   "outputs": [],
   "source": [
    "train_split = 20000\n",
    "\n",
    "val_data = train_data[train_split:]\n",
    "val_targets_class = train_targets_class[train_split:]\n",
    "val_targets_values = train_targets_values[train_split:]\n",
    "\n",
    "train_data = train_data[:train_split]\n",
    "train_targets_class = train_targets_class[:train_split]\n",
    "train_targets_values = train_targets_values[:train_split]"
   ]
  },
  {
   "cell_type": "code",
   "execution_count": 117,
   "metadata": {},
   "outputs": [],
   "source": [
    "pkl.dump(list(train_data), open(\"train_data.p\", \"wb\"))\n",
    "pkl.dump(list(train_targets_class), open(\"train_targets_class.p\", \"wb\"))\n",
    "pkl.dump(list(train_targets_values), open(\"train_targets_values.p\", \"wb\"))\n",
    "pkl.dump(list(val_data), open(\"val_data.p\", \"wb\"))\n",
    "pkl.dump(list(val_targets_class), open(\"val_targets_class.p\", \"wb\"))\n",
    "pkl.dump(list(val_targets_values), open(\"val_targets_values.p\", \"wb\"))\n",
    "pkl.dump(list(test_data), open(\"test_data.p\", \"wb\"))\n",
    "pkl.dump(list(test_targets_class), open(\"test_targets_class.p\", \"wb\"))\n",
    "pkl.dump(list(test_targets_values), open(\"test_targets_values.p\", \"wb\"))"
   ]
  },
  {
   "cell_type": "code",
   "execution_count": null,
   "metadata": {},
   "outputs": [],
   "source": [
    "########################################################################\n",
    "########################################################################"
   ]
  },
  {
   "cell_type": "markdown",
   "metadata": {},
   "source": [
    "## Experiment with different tokenization schemes"
   ]
  },
  {
   "cell_type": "raw",
   "metadata": {},
   "source": [
    "scheme_id 1: tokenize without any preprocessing\n",
    "scheme_id 2: convert to lower case and remove punctuation \n",
    "scheme_id 3: convert to lowercase, remove punctuation and remove stopwords\n",
    "scheme_id 4: convert to lowercase, remove punctuation, remove stopwords, perform stemming"
   ]
  },
  {
   "cell_type": "code",
   "execution_count": 41,
   "metadata": {},
   "outputs": [],
   "source": [
    "train_data = pkl.load(open(\"train_data.p\", \"rb\"))\n",
    "train_targets_class = pkl.load(open(\"train_targets_class.p\", \"rb\"))\n",
    "train_targets_values = pkl.load(open(\"train_targets_values.p\", \"rb\"))\n",
    "val_data = pkl.load(open(\"val_data.p\", \"rb\"))\n",
    "val_targets_class = pkl.load(open(\"val_targets_class.p\", \"rb\"))\n",
    "val_targets_values = pkl.load(open(\"val_targets_values.p\", \"rb\"))\n",
    "test_data = pkl.load(open(\"test_data.p\",\"rb\"))\n",
    "test_targets_class = pkl.load(open(\"test_targets_class.p\", \"rb\"))\n",
    "test_targets_values = pkl.load(open(\"test_targets_values.p\", \"rb\"))"
   ]
  },
  {
   "cell_type": "code",
   "execution_count": 42,
   "metadata": {},
   "outputs": [],
   "source": [
    "# Load English tokenizer, tagger, parser, NER and word vectors\n",
    "tokenizer = spacy.load('en_core_web_sm')\n",
    "punctuations = string.punctuation\n"
   ]
  },
  {
   "cell_type": "code",
   "execution_count": 53,
   "metadata": {},
   "outputs": [],
   "source": [
    "def tokenize_dataset(dataset, scheme_id, n_gram):\n",
    "    token_dataset = []\n",
    "    # we are keeping track of all tokens in dataset \n",
    "    # in order to create vocabulary later\n",
    "    all_tokens = []\n",
    "    \n",
    "    for sample in dataset:\n",
    "        tokens = tokenize_ngram(sample, scheme_id, n_gram)\n",
    "        token_dataset.append(tokens)\n",
    "        all_tokens += tokens\n",
    "    #all token is list \n",
    "    #token_dataset is list of list\n",
    "    return token_dataset, all_tokens"
   ]
  },
  {
   "cell_type": "code",
   "execution_count": 46,
   "metadata": {},
   "outputs": [],
   "source": [
    "#make n-gram\n",
    "def make_ngram(sent, n_gram):\n",
    "    #remove punctuation and lower case\n",
    "    sent = BeautifulSoup(sent).get_text()\n",
    "    sent = re.sub('\\n', '', sent)\n",
    "    tokens = tokenizer(sent)\n",
    "    sent = [token.text.lower() for token in tokens if (token.text not in punctuations)]\n",
    "    return_list = []\n",
    "    for n in range(2,n_gram+1):\n",
    "        return_list += [sent[i:i+n] for i in range(len(sent)-(n-1))]\n",
    "        \n",
    "    return ['_'.join(i) for i in return_list]\n",
    "    "
   ]
  },
  {
   "cell_type": "code",
   "execution_count": 48,
   "metadata": {},
   "outputs": [],
   "source": [
    "STOPLIST = list(STOP_WORDS)\n",
    "def tokenize_ngram(sent, scheme_id, n_gram):\n",
    "    sent = BeautifulSoup(sent).get_text()\n",
    "    sent = re.sub('\\n', '', sent)\n",
    "    tokens = tokenizer(sent)\n",
    "    if scheme_id == 1 :\n",
    "        return_list= [token.text for token in tokens]\n",
    "    elif scheme_id == 2 :\n",
    "        return_list = [token.text.lower() for token in tokens if (token.text not in punctuations)]\n",
    "    elif scheme_id == 3 :\n",
    "        return_list = [token.text.lower() for token in tokens if ((token.text not in punctuations) & (token.text not in STOPLIST))]\n",
    "    elif scheme_id == 4 :\n",
    "        return_list = [token.lemma_.lower() for token in tokens if ((token.text not in punctuations) & (token.text not in STOPLIST))]\n",
    "    else:\n",
    "        print('not a valide scheme')\n",
    "    \n",
    "    if n_gram > 1:\n",
    "        return return_list + make_ngram(sent, n_gram)\n",
    "    else:\n",
    "        return return_list"
   ]
  },
  {
   "cell_type": "code",
   "execution_count": 49,
   "metadata": {
    "collapsed": true
   },
   "outputs": [
    {
     "name": "stdout",
     "output_type": "stream",
     "text": [
      "['Apple', 'is', 'looking', 'at', 'buying', 'U.K.', 'startup', 'for', '$', '1', 'billion']\n"
     ]
    }
   ],
   "source": [
    "# Example\n",
    "tokens = tokenize_ngram(u'Apple is looking at buying U.K. startup for $1 billion',1,1)\n",
    "print (tokens)"
   ]
  },
  {
   "cell_type": "code",
   "execution_count": 50,
   "metadata": {
    "collapsed": true
   },
   "outputs": [
    {
     "name": "stdout",
     "output_type": "stream",
     "text": [
      "['apple', 'is', 'looking', 'at', 'buying', 'u.k.', 'startup', 'for', '1', 'billion', 'apple_is', 'is_looking', 'looking_at', 'at_buying', 'buying_u.k.', 'u.k._startup', 'startup_for', 'for_1', '1_billion', 'apple_is_looking', 'is_looking_at', 'looking_at_buying', 'at_buying_u.k.', 'buying_u.k._startup', 'u.k._startup_for', 'startup_for_1', 'for_1_billion']\n"
     ]
    }
   ],
   "source": [
    "# Example\n",
    "tokens = tokenize_ngram(u'Apple is looking at buying U.K. startup for $1 billion',2,3)\n",
    "print (tokens)"
   ]
  },
  {
   "cell_type": "code",
   "execution_count": 51,
   "metadata": {
    "collapsed": true
   },
   "outputs": [
    {
     "name": "stdout",
     "output_type": "stream",
     "text": [
      "['apple', 'looking', 'buying', 'u.k.', 'startup', '1', 'billion', 'apple_is', 'is_looking', 'looking_at', 'at_buying', 'buying_u.k.', 'u.k._startup', 'startup_for', 'for_1', '1_billion']\n"
     ]
    }
   ],
   "source": [
    "# Example\n",
    "tokens = tokenize_ngram(u'Apple is looking at buying U.K. startup for $1 billion',3,2)\n",
    "print (tokens)"
   ]
  },
  {
   "cell_type": "code",
   "execution_count": 52,
   "metadata": {
    "collapsed": true
   },
   "outputs": [
    {
     "name": "stdout",
     "output_type": "stream",
     "text": [
      "['apple', 'look', 'buy', 'u.k.', 'startup', '1', 'billion', 'apples_is', 'is_looking', 'looking_at', 'at_buying', 'buying_u.k.', 'u.k._startup', 'startup_for', 'for_1', '1_billion']\n"
     ]
    }
   ],
   "source": [
    "# Example\n",
    "tokens = tokenize_ngram(u'Apples is looking at buying U.K. startup for $1 billion',4,2)\n",
    "print (tokens)"
   ]
  },
  {
   "cell_type": "code",
   "execution_count": null,
   "metadata": {},
   "outputs": [],
   "source": []
  },
  {
   "cell_type": "code",
   "execution_count": 58,
   "metadata": {},
   "outputs": [
    {
     "name": "stdout",
     "output_type": "stream",
     "text": [
      "Tokenizing val data\n",
      "Tokenizing test data\n",
      "Tokenizing train data\n"
     ]
    }
   ],
   "source": [
    "#############run this block for different schemes by passing the parameters\n",
    "\n",
    "#tokenizing scheme1:\n",
    "# val set tokens\n",
    "print (\"Tokenizing val data\")\n",
    "val_data_tokens, _ = tokenize_dataset(val_data,3,4)\n",
    "pkl.dump(val_data_tokens, open(\"val_data_tokens_scheme3_4gram.p\", \"wb\"))\n",
    "\n",
    "# test set tokens\n",
    "print (\"Tokenizing test data\")\n",
    "test_data_tokens, _ = tokenize_dataset(test_data,3,4)\n",
    "pkl.dump(test_data_tokens, open(\"test_data_tokens_scheme3_4gram.p\", \"wb\"))\n",
    "\n",
    "# train set tokens\n",
    "print (\"Tokenizing train data\")\n",
    "train_data_tokens, all_train_tokens = tokenize_dataset(train_data,3,4)\n",
    "pkl.dump(train_data_tokens, open(\"train_data_tokens_scheme3_4gram.p\", \"wb\"))\n",
    "pkl.dump(all_train_tokens, open(\"all_train_tokens_scheme3_4gram.p\", \"wb\"))"
   ]
  },
  {
   "cell_type": "code",
   "execution_count": null,
   "metadata": {},
   "outputs": [],
   "source": []
  },
  {
   "cell_type": "markdown",
   "metadata": {},
   "source": [
    "## Performance Experiments"
   ]
  },
  {
   "cell_type": "code",
   "execution_count": 118,
   "metadata": {},
   "outputs": [],
   "source": [
    "train_targets_class = pkl.load(open(\"train_targets_class.p\", \"rb\"))\n",
    "train_targets_values = pkl.load(open(\"train_targets_values.p\", \"rb\"))\n",
    "val_targets_class = pkl.load(open(\"val_targets_class.p\", \"rb\"))\n",
    "val_targets_values = pkl.load(open(\"val_targets_values.p\", \"rb\"))\n",
    "test_targets_class = pkl.load(open(\"test_targets_class.p\", \"rb\"))\n",
    "test_targets_values = pkl.load(open(\"test_targets_values.p\", \"rb\"))\n",
    "\n",
    "#convert 'pos' into 1, 'neg' into 0\n",
    "train_targets_class = convert(train_targets_class)\n",
    "val_targets_class = convert(val_targets_class)\n",
    "test_targets_class = convert(test_targets_class)"
   ]
  },
  {
   "cell_type": "code",
   "execution_count": 137,
   "metadata": {},
   "outputs": [],
   "source": []
  },
  {
   "cell_type": "markdown",
   "metadata": {},
   "source": [
    "## experiment 1: scheme1_1gram"
   ]
  },
  {
   "cell_type": "code",
   "execution_count": 142,
   "metadata": {},
   "outputs": [
    {
     "name": "stdout",
     "output_type": "stream",
     "text": [
      "Train dataset size is 20000\n",
      "Val dataset size is 5000\n",
      "Test dataset size is 25000\n",
      "Total number of tokens in train dataset is 5398126\n"
     ]
    }
   ],
   "source": [
    "###Load corresponding data\n",
    "# Then, load preprocessed train, val and test datasets\n",
    "train_data_tokens = pkl.load(open(\"train_data_tokens_scheme1_1gram.p\", \"rb\"))\n",
    "all_train_tokens = pkl.load(open(\"all_train_tokens_scheme1_1gram.p\", \"rb\"))\n",
    "\n",
    "val_data_tokens = pkl.load(open(\"val_data_tokens_scheme1_1gram.p\", \"rb\"))\n",
    "test_data_tokens = pkl.load(open(\"test_data_tokens_scheme1_1gram.p\", \"rb\"))\n",
    "\n",
    "# double checking\n",
    "print (\"Train dataset size is {}\".format(len(train_data_tokens)))\n",
    "print (\"Val dataset size is {}\".format(len(val_data_tokens)))\n",
    "print (\"Test dataset size is {}\".format(len(test_data_tokens)))\n",
    "\n",
    "print (\"Total number of tokens in train dataset is {}\".format(len(all_train_tokens)))"
   ]
  },
  {
   "cell_type": "code",
   "execution_count": null,
   "metadata": {},
   "outputs": [],
   "source": []
  },
  {
   "cell_type": "code",
   "execution_count": 143,
   "metadata": {},
   "outputs": [],
   "source": [
    "#use default vocab_size = 10000\n",
    "max_vocab_size = 10000\n",
    "token2id, id2token = build_vocab(all_train_tokens)"
   ]
  },
  {
   "cell_type": "code",
   "execution_count": 145,
   "metadata": {},
   "outputs": [
    {
     "name": "stdout",
     "output_type": "stream",
     "text": [
      "Token id 3309 ; token upset\n",
      "Token upset; token id 3309\n"
     ]
    }
   ],
   "source": [
    "# Lets check the dictionary by loading random token from it\n",
    "random_token_id = random.randint(0, len(id2token)-1)\n",
    "random_token = id2token[random_token_id]\n",
    "\n",
    "print (\"Token id {} ; token {}\".format(random_token_id, id2token[random_token_id]))\n",
    "print (\"Token {}; token id {}\".format(random_token, token2id[random_token]))"
   ]
  },
  {
   "cell_type": "code",
   "execution_count": 146,
   "metadata": {},
   "outputs": [
    {
     "name": "stdout",
     "output_type": "stream",
     "text": [
      "Train dataset size is 20000\n",
      "Val dataset size is 5000\n",
      "Test dataset size is 25000\n"
     ]
    }
   ],
   "source": [
    "train_data_indices = token2index_dataset(train_data_tokens)\n",
    "val_data_indices = token2index_dataset(val_data_tokens)\n",
    "test_data_indices = token2index_dataset(test_data_tokens)\n",
    "\n",
    "# double checking\n",
    "print (\"Train dataset size is {}\".format(len(train_data_indices)))\n",
    "print (\"Val dataset size is {}\".format(len(val_data_indices)))\n",
    "print (\"Test dataset size is {}\".format(len(test_data_indices)))"
   ]
  },
  {
   "cell_type": "code",
   "execution_count": 149,
   "metadata": {},
   "outputs": [],
   "source": [
    "#create dataloader\n",
    "#better practice, pick 80% of the length distribution\n",
    "MAX_SENTENCE_LENGTH = 200\n",
    "BATCH_SIZE = 32\n",
    "\n",
    "train_dataset = NewsGroupDataset(train_data_indices, train_targets_class)\n",
    "train_loader = torch.utils.data.DataLoader(dataset=train_dataset, \n",
    "                                           batch_size=BATCH_SIZE,\n",
    "                                           collate_fn=newsgroup_collate_func,\n",
    "                                           shuffle=True)\n",
    "\n",
    "val_dataset = NewsGroupDataset(val_data_indices, val_targets_class)\n",
    "val_loader = torch.utils.data.DataLoader(dataset=val_dataset, \n",
    "                                           batch_size=BATCH_SIZE,\n",
    "                                           collate_fn=newsgroup_collate_func,\n",
    "                                           shuffle=True)\n"
   ]
  },
  {
   "cell_type": "code",
   "execution_count": 157,
   "metadata": {},
   "outputs": [],
   "source": [
    "emb_dim = 100\n",
    "model1 = BagOfWords(len(id2token), emb_dim)"
   ]
  },
  {
   "cell_type": "code",
   "execution_count": 158,
   "metadata": {
    "scrolled": true
   },
   "outputs": [
    {
     "name": "stdout",
     "output_type": "stream",
     "text": [
      "Epoch: [1/10], Step: [101/625], Validation Acc: 79.1\n",
      "Epoch: [1/10], Step: [201/625], Validation Acc: 82.8\n",
      "Epoch: [1/10], Step: [301/625], Validation Acc: 84.26\n",
      "Epoch: [1/10], Step: [401/625], Validation Acc: 85.36\n",
      "Epoch: [1/10], Step: [501/625], Validation Acc: 83.76\n",
      "Epoch: [1/10], Step: [601/625], Validation Acc: 85.54\n",
      "Epoch: [2/10], Step: [101/625], Validation Acc: 86.06\n",
      "Epoch: [2/10], Step: [201/625], Validation Acc: 85.68\n",
      "Epoch: [2/10], Step: [301/625], Validation Acc: 85.46\n",
      "Epoch: [2/10], Step: [401/625], Validation Acc: 83.9\n",
      "Epoch: [2/10], Step: [501/625], Validation Acc: 85.34\n",
      "Epoch: [2/10], Step: [601/625], Validation Acc: 85.54\n",
      "Epoch: [3/10], Step: [101/625], Validation Acc: 85.38\n",
      "Epoch: [3/10], Step: [201/625], Validation Acc: 85.58\n",
      "Epoch: [3/10], Step: [301/625], Validation Acc: 85.08\n",
      "Epoch: [3/10], Step: [401/625], Validation Acc: 85.28\n",
      "Epoch: [3/10], Step: [501/625], Validation Acc: 83.54\n",
      "Epoch: [3/10], Step: [601/625], Validation Acc: 83.72\n",
      "Epoch: [4/10], Step: [101/625], Validation Acc: 84.72\n",
      "Epoch: [4/10], Step: [201/625], Validation Acc: 84.98\n",
      "Epoch: [4/10], Step: [301/625], Validation Acc: 85.02\n",
      "Epoch: [4/10], Step: [401/625], Validation Acc: 84.52\n",
      "Epoch: [4/10], Step: [501/625], Validation Acc: 85.0\n",
      "Epoch: [4/10], Step: [601/625], Validation Acc: 84.74\n",
      "Epoch: [5/10], Step: [101/625], Validation Acc: 84.62\n",
      "Epoch: [5/10], Step: [201/625], Validation Acc: 84.12\n",
      "Epoch: [5/10], Step: [301/625], Validation Acc: 83.92\n",
      "Epoch: [5/10], Step: [401/625], Validation Acc: 83.8\n",
      "Epoch: [5/10], Step: [501/625], Validation Acc: 83.2\n",
      "Epoch: [5/10], Step: [601/625], Validation Acc: 84.22\n",
      "Epoch: [6/10], Step: [101/625], Validation Acc: 84.08\n",
      "Epoch: [6/10], Step: [201/625], Validation Acc: 84.06\n",
      "Epoch: [6/10], Step: [301/625], Validation Acc: 83.9\n",
      "Epoch: [6/10], Step: [401/625], Validation Acc: 83.58\n",
      "Epoch: [6/10], Step: [501/625], Validation Acc: 83.46\n",
      "Epoch: [6/10], Step: [601/625], Validation Acc: 83.26\n",
      "Epoch: [7/10], Step: [101/625], Validation Acc: 83.6\n",
      "Epoch: [7/10], Step: [201/625], Validation Acc: 83.7\n",
      "Epoch: [7/10], Step: [301/625], Validation Acc: 83.54\n",
      "Epoch: [7/10], Step: [401/625], Validation Acc: 83.06\n",
      "Epoch: [7/10], Step: [501/625], Validation Acc: 83.22\n",
      "Epoch: [7/10], Step: [601/625], Validation Acc: 83.26\n",
      "Epoch: [8/10], Step: [101/625], Validation Acc: 83.22\n",
      "Epoch: [8/10], Step: [201/625], Validation Acc: 83.44\n",
      "Epoch: [8/10], Step: [301/625], Validation Acc: 83.5\n",
      "Epoch: [8/10], Step: [401/625], Validation Acc: 83.6\n",
      "Epoch: [8/10], Step: [501/625], Validation Acc: 83.34\n",
      "Epoch: [8/10], Step: [601/625], Validation Acc: 83.16\n",
      "Epoch: [9/10], Step: [101/625], Validation Acc: 82.96\n",
      "Epoch: [9/10], Step: [201/625], Validation Acc: 83.18\n",
      "Epoch: [9/10], Step: [301/625], Validation Acc: 83.06\n",
      "Epoch: [9/10], Step: [401/625], Validation Acc: 83.08\n",
      "Epoch: [9/10], Step: [501/625], Validation Acc: 83.1\n",
      "Epoch: [9/10], Step: [601/625], Validation Acc: 83.12\n",
      "Epoch: [10/10], Step: [101/625], Validation Acc: 82.76\n",
      "Epoch: [10/10], Step: [201/625], Validation Acc: 83.06\n",
      "Epoch: [10/10], Step: [301/625], Validation Acc: 82.96\n",
      "Epoch: [10/10], Step: [401/625], Validation Acc: 82.46\n",
      "Epoch: [10/10], Step: [501/625], Validation Acc: 82.5\n",
      "Epoch: [10/10], Step: [601/625], Validation Acc: 82.48\n"
     ]
    }
   ],
   "source": [
    "learning_rate = 0.01\n",
    "num_epochs = 10 \n",
    "# Criterion and Optimizer\n",
    "criterion = torch.nn.CrossEntropyLoss()  \n",
    "optimizer = torch.optim.Adam(model1.parameters(), lr=learning_rate)\n",
    "\n",
    "validation_accuracy_list_model1 = []\n",
    "for epoch in range(num_epochs):\n",
    "    for i, (data, lengths, labels) in enumerate(train_loader):\n",
    "        model1.train()\n",
    "        data_batch, length_batch, label_batch = data, lengths, labels\n",
    "        optimizer.zero_grad()\n",
    "        outputs = model1(data_batch, length_batch)\n",
    "        loss = criterion(outputs, label_batch)\n",
    "        loss.backward()\n",
    "        optimizer.step()\n",
    "        # validate every 100 iterations\n",
    "        if i > 0 and i % 100 == 0:\n",
    "            # validate\n",
    "            val_acc = test_model(val_loader, model1)\n",
    "            validation_accuracy_list_model1.append(val_acc)\n",
    "            print('Epoch: [{}/{}], Step: [{}/{}], Validation Acc: {}'.format( \n",
    "                       epoch+1, num_epochs, i+1, len(train_loader), val_acc))\n"
   ]
  },
  {
   "cell_type": "code",
   "execution_count": 170,
   "metadata": {},
   "outputs": [
    {
     "data": {
      "text/plain": [
       "83.86566666666666"
      ]
     },
     "execution_count": 170,
     "metadata": {},
     "output_type": "execute_result"
    }
   ],
   "source": [
    "np.mean(validation_accuracy_list_model1)"
   ]
  },
  {
   "cell_type": "markdown",
   "metadata": {},
   "source": [
    "## Experiment with scheme2_1gram"
   ]
  },
  {
   "cell_type": "code",
   "execution_count": null,
   "metadata": {},
   "outputs": [],
   "source": []
  },
  {
   "cell_type": "code",
   "execution_count": 160,
   "metadata": {},
   "outputs": [
    {
     "name": "stdout",
     "output_type": "stream",
     "text": [
      "Train dataset size is 20000\n",
      "Val dataset size is 5000\n",
      "Test dataset size is 25000\n",
      "Total number of tokens in train dataset is 4749113\n"
     ]
    }
   ],
   "source": [
    "###Load corresponding data\n",
    "# Then, load preprocessed train, val and test datasets\n",
    "train_data_tokens = pkl.load(open(\"train_data_tokens_scheme2_1gram.p\", \"rb\"))\n",
    "all_train_tokens = pkl.load(open(\"all_train_tokens_scheme2_1gram.p\", \"rb\"))\n",
    "\n",
    "val_data_tokens = pkl.load(open(\"val_data_tokens_scheme2_1gram.p\", \"rb\"))\n",
    "test_data_tokens = pkl.load(open(\"test_data_tokens_scheme2_1gram.p\", \"rb\"))\n",
    "\n",
    "# double checking\n",
    "print (\"Train dataset size is {}\".format(len(train_data_tokens)))\n",
    "print (\"Val dataset size is {}\".format(len(val_data_tokens)))\n",
    "print (\"Test dataset size is {}\".format(len(test_data_tokens)))\n",
    "\n",
    "print (\"Total number of tokens in train dataset is {}\".format(len(all_train_tokens)))"
   ]
  },
  {
   "cell_type": "code",
   "execution_count": 161,
   "metadata": {},
   "outputs": [],
   "source": [
    "max_vocab_size = 10000\n",
    "token2id, id2token = build_vocab(all_train_tokens)"
   ]
  },
  {
   "cell_type": "code",
   "execution_count": 163,
   "metadata": {},
   "outputs": [
    {
     "name": "stdout",
     "output_type": "stream",
     "text": [
      "Token id 9806 ; token 5th\n",
      "Token 5th; token id 9806\n"
     ]
    }
   ],
   "source": [
    "# Lets check the dictionary by loading random token from it\n",
    "random_token_id = random.randint(0, len(id2token)-1)\n",
    "random_token = id2token[random_token_id]\n",
    "\n",
    "print (\"Token id {} ; token {}\".format(random_token_id, id2token[random_token_id]))\n",
    "print (\"Token {}; token id {}\".format(random_token, token2id[random_token]))"
   ]
  },
  {
   "cell_type": "code",
   "execution_count": 164,
   "metadata": {},
   "outputs": [
    {
     "name": "stdout",
     "output_type": "stream",
     "text": [
      "Train dataset size is 20000\n",
      "Val dataset size is 5000\n",
      "Test dataset size is 25000\n"
     ]
    }
   ],
   "source": [
    "train_data_indices = token2index_dataset(train_data_tokens)\n",
    "val_data_indices = token2index_dataset(val_data_tokens)\n",
    "test_data_indices = token2index_dataset(test_data_tokens)\n",
    "\n",
    "# double checking\n",
    "print (\"Train dataset size is {}\".format(len(train_data_indices)))\n",
    "print (\"Val dataset size is {}\".format(len(val_data_indices)))\n",
    "print (\"Test dataset size is {}\".format(len(test_data_indices)))"
   ]
  },
  {
   "cell_type": "code",
   "execution_count": 165,
   "metadata": {},
   "outputs": [],
   "source": [
    "#create dataloader\n",
    "#better practice, pick 80% of the length distribution\n",
    "MAX_SENTENCE_LENGTH = 200\n",
    "BATCH_SIZE = 32\n",
    "\n",
    "train_dataset = NewsGroupDataset(train_data_indices, train_targets_class)\n",
    "train_loader = torch.utils.data.DataLoader(dataset=train_dataset, \n",
    "                                           batch_size=BATCH_SIZE,\n",
    "                                           collate_fn=newsgroup_collate_func,\n",
    "                                           shuffle=True)\n",
    "\n",
    "val_dataset = NewsGroupDataset(val_data_indices, val_targets_class)\n",
    "val_loader = torch.utils.data.DataLoader(dataset=val_dataset, \n",
    "                                           batch_size=BATCH_SIZE,\n",
    "                                           collate_fn=newsgroup_collate_func,\n",
    "                                           shuffle=True)\n",
    "\n",
    "test_dataset = NewsGroupDataset(test_data_indices, test_targets_class)\n",
    "test_loader = torch.utils.data.DataLoader(dataset=test_dataset, \n",
    "                                           batch_size=BATCH_SIZE,\n",
    "                                           collate_fn=newsgroup_collate_func,\n",
    "                                           shuffle=False)\n"
   ]
  },
  {
   "cell_type": "code",
   "execution_count": 166,
   "metadata": {},
   "outputs": [],
   "source": [
    "emb_dim = 100\n",
    "model2 = BagOfWords(len(id2token), emb_dim)"
   ]
  },
  {
   "cell_type": "code",
   "execution_count": 167,
   "metadata": {},
   "outputs": [
    {
     "name": "stdout",
     "output_type": "stream",
     "text": [
      "Epoch: [1/10], Step: [101/625], Validation Acc: 78.98\n",
      "Epoch: [1/10], Step: [201/625], Validation Acc: 83.64\n",
      "Epoch: [1/10], Step: [301/625], Validation Acc: 85.1\n",
      "Epoch: [1/10], Step: [401/625], Validation Acc: 85.64\n",
      "Epoch: [1/10], Step: [501/625], Validation Acc: 86.16\n",
      "Epoch: [1/10], Step: [601/625], Validation Acc: 86.34\n",
      "Epoch: [2/10], Step: [101/625], Validation Acc: 86.22\n",
      "Epoch: [2/10], Step: [201/625], Validation Acc: 86.16\n",
      "Epoch: [2/10], Step: [301/625], Validation Acc: 86.1\n",
      "Epoch: [2/10], Step: [401/625], Validation Acc: 86.08\n",
      "Epoch: [2/10], Step: [501/625], Validation Acc: 86.06\n",
      "Epoch: [2/10], Step: [601/625], Validation Acc: 86.54\n",
      "Epoch: [3/10], Step: [101/625], Validation Acc: 85.98\n",
      "Epoch: [3/10], Step: [201/625], Validation Acc: 86.22\n",
      "Epoch: [3/10], Step: [301/625], Validation Acc: 85.62\n",
      "Epoch: [3/10], Step: [401/625], Validation Acc: 85.48\n",
      "Epoch: [3/10], Step: [501/625], Validation Acc: 85.92\n",
      "Epoch: [3/10], Step: [601/625], Validation Acc: 85.8\n",
      "Epoch: [4/10], Step: [101/625], Validation Acc: 86.08\n",
      "Epoch: [4/10], Step: [201/625], Validation Acc: 85.64\n",
      "Epoch: [4/10], Step: [301/625], Validation Acc: 84.88\n",
      "Epoch: [4/10], Step: [401/625], Validation Acc: 84.56\n",
      "Epoch: [4/10], Step: [501/625], Validation Acc: 84.96\n",
      "Epoch: [4/10], Step: [601/625], Validation Acc: 85.04\n",
      "Epoch: [5/10], Step: [101/625], Validation Acc: 84.76\n",
      "Epoch: [5/10], Step: [201/625], Validation Acc: 84.82\n",
      "Epoch: [5/10], Step: [301/625], Validation Acc: 84.54\n",
      "Epoch: [5/10], Step: [401/625], Validation Acc: 84.9\n",
      "Epoch: [5/10], Step: [501/625], Validation Acc: 84.8\n",
      "Epoch: [5/10], Step: [601/625], Validation Acc: 84.56\n",
      "Epoch: [6/10], Step: [101/625], Validation Acc: 84.78\n",
      "Epoch: [6/10], Step: [201/625], Validation Acc: 85.0\n",
      "Epoch: [6/10], Step: [301/625], Validation Acc: 84.96\n",
      "Epoch: [6/10], Step: [401/625], Validation Acc: 83.96\n",
      "Epoch: [6/10], Step: [501/625], Validation Acc: 83.76\n",
      "Epoch: [6/10], Step: [601/625], Validation Acc: 83.18\n",
      "Epoch: [7/10], Step: [101/625], Validation Acc: 84.34\n",
      "Epoch: [7/10], Step: [201/625], Validation Acc: 84.02\n",
      "Epoch: [7/10], Step: [301/625], Validation Acc: 84.14\n",
      "Epoch: [7/10], Step: [401/625], Validation Acc: 84.08\n",
      "Epoch: [7/10], Step: [501/625], Validation Acc: 84.24\n",
      "Epoch: [7/10], Step: [601/625], Validation Acc: 84.18\n",
      "Epoch: [8/10], Step: [101/625], Validation Acc: 84.2\n",
      "Epoch: [8/10], Step: [201/625], Validation Acc: 83.76\n",
      "Epoch: [8/10], Step: [301/625], Validation Acc: 83.54\n",
      "Epoch: [8/10], Step: [401/625], Validation Acc: 83.6\n",
      "Epoch: [8/10], Step: [501/625], Validation Acc: 82.98\n",
      "Epoch: [8/10], Step: [601/625], Validation Acc: 83.24\n",
      "Epoch: [9/10], Step: [101/625], Validation Acc: 83.16\n",
      "Epoch: [9/10], Step: [201/625], Validation Acc: 83.12\n",
      "Epoch: [9/10], Step: [301/625], Validation Acc: 83.54\n",
      "Epoch: [9/10], Step: [401/625], Validation Acc: 83.26\n",
      "Epoch: [9/10], Step: [501/625], Validation Acc: 82.94\n",
      "Epoch: [9/10], Step: [601/625], Validation Acc: 83.44\n",
      "Epoch: [10/10], Step: [101/625], Validation Acc: 83.4\n",
      "Epoch: [10/10], Step: [201/625], Validation Acc: 83.64\n",
      "Epoch: [10/10], Step: [301/625], Validation Acc: 83.46\n",
      "Epoch: [10/10], Step: [401/625], Validation Acc: 83.28\n",
      "Epoch: [10/10], Step: [501/625], Validation Acc: 83.48\n",
      "Epoch: [10/10], Step: [601/625], Validation Acc: 83.26\n"
     ]
    }
   ],
   "source": [
    "learning_rate = 0.01\n",
    "num_epochs = 10 \n",
    "# Criterion and Optimizer\n",
    "criterion = torch.nn.CrossEntropyLoss()  \n",
    "optimizer = torch.optim.Adam(model2.parameters(), lr=learning_rate)\n",
    "\n",
    "\n",
    "validation_accuracy_list_model2 = []\n",
    "for epoch in range(num_epochs):\n",
    "    for i, (data, lengths, labels) in enumerate(train_loader):\n",
    "        model2.train()\n",
    "        data_batch, length_batch, label_batch = data, lengths, labels\n",
    "        optimizer.zero_grad()\n",
    "        outputs = model2(data_batch, length_batch)\n",
    "        loss = criterion(outputs, label_batch)\n",
    "        loss.backward()\n",
    "        optimizer.step()\n",
    "        # validate every 100 iterations\n",
    "        if i > 0 and i % 100 == 0:\n",
    "            # validate\n",
    "            val_acc = test_model(val_loader, model2)\n",
    "            validation_accuracy_list_model2.append(val_acc)\n",
    "            print('Epoch: [{}/{}], Step: [{}/{}], Validation Acc: {}'.format( \n",
    "                       epoch+1, num_epochs, i+1, len(train_loader), val_acc))\n",
    "\n"
   ]
  },
  {
   "cell_type": "code",
   "execution_count": 169,
   "metadata": {},
   "outputs": [
    {
     "data": {
      "text/plain": [
       "84.49199999999999"
      ]
     },
     "execution_count": 169,
     "metadata": {},
     "output_type": "execute_result"
    }
   ],
   "source": [
    "np.mean(validation_accuracy_list_model2)"
   ]
  },
  {
   "cell_type": "markdown",
   "metadata": {},
   "source": [
    "## Experiment with scheme3_1gram"
   ]
  },
  {
   "cell_type": "code",
   "execution_count": null,
   "metadata": {},
   "outputs": [],
   "source": []
  },
  {
   "cell_type": "code",
   "execution_count": 171,
   "metadata": {},
   "outputs": [
    {
     "name": "stdout",
     "output_type": "stream",
     "text": [
      "Train dataset size is 20000\n",
      "Val dataset size is 5000\n",
      "Test dataset size is 25000\n",
      "Total number of tokens in train dataset is 2452336\n"
     ]
    }
   ],
   "source": [
    "###Load corresponding data\n",
    "# Then, load preprocessed train, val and test datasets\n",
    "train_data_tokens = pkl.load(open(\"train_data_tokens_scheme3_1gram.p\", \"rb\"))\n",
    "all_train_tokens = pkl.load(open(\"all_train_tokens_scheme3_1gram.p\", \"rb\"))\n",
    "\n",
    "val_data_tokens = pkl.load(open(\"val_data_tokens_scheme3_1gram.p\", \"rb\"))\n",
    "test_data_tokens = pkl.load(open(\"test_data_tokens_scheme3_1gram.p\", \"rb\"))\n",
    "\n",
    "# double checking\n",
    "print (\"Train dataset size is {}\".format(len(train_data_tokens)))\n",
    "print (\"Val dataset size is {}\".format(len(val_data_tokens)))\n",
    "print (\"Test dataset size is {}\".format(len(test_data_tokens)))\n",
    "\n",
    "print (\"Total number of tokens in train dataset is {}\".format(len(all_train_tokens)))"
   ]
  },
  {
   "cell_type": "code",
   "execution_count": null,
   "metadata": {},
   "outputs": [],
   "source": []
  },
  {
   "cell_type": "code",
   "execution_count": 172,
   "metadata": {},
   "outputs": [],
   "source": [
    "#use default vocab_size = 10000\n",
    "max_vocab_size = 10000\n",
    "token2id, id2token = build_vocab(all_train_tokens)"
   ]
  },
  {
   "cell_type": "code",
   "execution_count": 174,
   "metadata": {},
   "outputs": [
    {
     "name": "stdout",
     "output_type": "stream",
     "text": [
      "Token id 6149 ; token hats\n",
      "Token hats; token id 6149\n"
     ]
    }
   ],
   "source": [
    "# Lets check the dictionary by loading random token from it\n",
    "random_token_id = random.randint(0, len(id2token)-1)\n",
    "random_token = id2token[random_token_id]\n",
    "\n",
    "print (\"Token id {} ; token {}\".format(random_token_id, id2token[random_token_id]))\n",
    "print (\"Token {}; token id {}\".format(random_token, token2id[random_token]))"
   ]
  },
  {
   "cell_type": "code",
   "execution_count": 175,
   "metadata": {},
   "outputs": [
    {
     "name": "stdout",
     "output_type": "stream",
     "text": [
      "Train dataset size is 20000\n",
      "Val dataset size is 5000\n",
      "Test dataset size is 25000\n"
     ]
    }
   ],
   "source": [
    "# convert token to id in the dataset\n",
    "# convert a sentence into a sequnce of tokens\n",
    "train_data_indices = token2index_dataset(train_data_tokens)\n",
    "val_data_indices = token2index_dataset(val_data_tokens)\n",
    "test_data_indices = token2index_dataset(test_data_tokens)\n",
    "\n",
    "# double checking\n",
    "print (\"Train dataset size is {}\".format(len(train_data_indices)))\n",
    "print (\"Val dataset size is {}\".format(len(val_data_indices)))\n",
    "print (\"Test dataset size is {}\".format(len(test_data_indices)))"
   ]
  },
  {
   "cell_type": "code",
   "execution_count": 176,
   "metadata": {},
   "outputs": [],
   "source": [
    "#create dataloader\n",
    "#better practice, pick 80% of the length distribution\n",
    "MAX_SENTENCE_LENGTH = 200\n",
    "BATCH_SIZE = 32\n",
    "\n",
    "train_dataset = NewsGroupDataset(train_data_indices, train_targets_class)\n",
    "train_loader = torch.utils.data.DataLoader(dataset=train_dataset, \n",
    "                                           batch_size=BATCH_SIZE,\n",
    "                                           collate_fn=newsgroup_collate_func,\n",
    "                                           shuffle=True)\n",
    "\n",
    "val_dataset = NewsGroupDataset(val_data_indices, val_targets_class)\n",
    "val_loader = torch.utils.data.DataLoader(dataset=val_dataset, \n",
    "                                           batch_size=BATCH_SIZE,\n",
    "                                           collate_fn=newsgroup_collate_func,\n",
    "                                           shuffle=True)\n",
    "\n",
    "test_dataset = NewsGroupDataset(test_data_indices, test_targets_class)\n",
    "test_loader = torch.utils.data.DataLoader(dataset=test_dataset, \n",
    "                                           batch_size=BATCH_SIZE,\n",
    "                                           collate_fn=newsgroup_collate_func,\n",
    "                                           shuffle=False)"
   ]
  },
  {
   "cell_type": "code",
   "execution_count": 177,
   "metadata": {},
   "outputs": [],
   "source": [
    "emb_dim = 100\n",
    "model3 = BagOfWords(len(id2token), emb_dim)"
   ]
  },
  {
   "cell_type": "code",
   "execution_count": 178,
   "metadata": {},
   "outputs": [
    {
     "name": "stdout",
     "output_type": "stream",
     "text": [
      "Epoch: [1/10], Step: [101/625], Validation Acc: 83.52\n",
      "Epoch: [1/10], Step: [201/625], Validation Acc: 85.12\n",
      "Epoch: [1/10], Step: [301/625], Validation Acc: 86.74\n",
      "Epoch: [1/10], Step: [401/625], Validation Acc: 87.26\n",
      "Epoch: [1/10], Step: [501/625], Validation Acc: 87.7\n",
      "Epoch: [1/10], Step: [601/625], Validation Acc: 87.52\n",
      "Epoch: [2/10], Step: [101/625], Validation Acc: 87.88\n",
      "Epoch: [2/10], Step: [201/625], Validation Acc: 87.4\n",
      "Epoch: [2/10], Step: [301/625], Validation Acc: 87.02\n",
      "Epoch: [2/10], Step: [401/625], Validation Acc: 86.84\n",
      "Epoch: [2/10], Step: [501/625], Validation Acc: 86.88\n",
      "Epoch: [2/10], Step: [601/625], Validation Acc: 87.14\n",
      "Epoch: [3/10], Step: [101/625], Validation Acc: 87.2\n",
      "Epoch: [3/10], Step: [201/625], Validation Acc: 86.96\n",
      "Epoch: [3/10], Step: [301/625], Validation Acc: 86.66\n",
      "Epoch: [3/10], Step: [401/625], Validation Acc: 86.68\n",
      "Epoch: [3/10], Step: [501/625], Validation Acc: 86.5\n",
      "Epoch: [3/10], Step: [601/625], Validation Acc: 86.1\n",
      "Epoch: [4/10], Step: [101/625], Validation Acc: 86.48\n",
      "Epoch: [4/10], Step: [201/625], Validation Acc: 86.6\n",
      "Epoch: [4/10], Step: [301/625], Validation Acc: 86.04\n",
      "Epoch: [4/10], Step: [401/625], Validation Acc: 85.72\n",
      "Epoch: [4/10], Step: [501/625], Validation Acc: 85.6\n",
      "Epoch: [4/10], Step: [601/625], Validation Acc: 85.68\n",
      "Epoch: [5/10], Step: [101/625], Validation Acc: 85.92\n",
      "Epoch: [5/10], Step: [201/625], Validation Acc: 85.62\n",
      "Epoch: [5/10], Step: [301/625], Validation Acc: 85.48\n",
      "Epoch: [5/10], Step: [401/625], Validation Acc: 85.68\n",
      "Epoch: [5/10], Step: [501/625], Validation Acc: 85.84\n",
      "Epoch: [5/10], Step: [601/625], Validation Acc: 85.42\n",
      "Epoch: [6/10], Step: [101/625], Validation Acc: 85.68\n",
      "Epoch: [6/10], Step: [201/625], Validation Acc: 85.54\n",
      "Epoch: [6/10], Step: [301/625], Validation Acc: 85.66\n",
      "Epoch: [6/10], Step: [401/625], Validation Acc: 85.02\n",
      "Epoch: [6/10], Step: [501/625], Validation Acc: 84.82\n",
      "Epoch: [6/10], Step: [601/625], Validation Acc: 84.9\n",
      "Epoch: [7/10], Step: [101/625], Validation Acc: 85.1\n",
      "Epoch: [7/10], Step: [201/625], Validation Acc: 85.12\n",
      "Epoch: [7/10], Step: [301/625], Validation Acc: 84.94\n",
      "Epoch: [7/10], Step: [401/625], Validation Acc: 84.92\n",
      "Epoch: [7/10], Step: [501/625], Validation Acc: 84.98\n",
      "Epoch: [7/10], Step: [601/625], Validation Acc: 84.8\n",
      "Epoch: [8/10], Step: [101/625], Validation Acc: 84.96\n",
      "Epoch: [8/10], Step: [201/625], Validation Acc: 85.34\n",
      "Epoch: [8/10], Step: [301/625], Validation Acc: 85.14\n",
      "Epoch: [8/10], Step: [401/625], Validation Acc: 85.12\n",
      "Epoch: [8/10], Step: [501/625], Validation Acc: 85.08\n",
      "Epoch: [8/10], Step: [601/625], Validation Acc: 85.2\n",
      "Epoch: [9/10], Step: [101/625], Validation Acc: 85.16\n",
      "Epoch: [9/10], Step: [201/625], Validation Acc: 84.64\n",
      "Epoch: [9/10], Step: [301/625], Validation Acc: 84.28\n",
      "Epoch: [9/10], Step: [401/625], Validation Acc: 84.48\n",
      "Epoch: [9/10], Step: [501/625], Validation Acc: 84.72\n",
      "Epoch: [9/10], Step: [601/625], Validation Acc: 84.9\n",
      "Epoch: [10/10], Step: [101/625], Validation Acc: 84.7\n",
      "Epoch: [10/10], Step: [201/625], Validation Acc: 84.68\n",
      "Epoch: [10/10], Step: [301/625], Validation Acc: 84.66\n",
      "Epoch: [10/10], Step: [401/625], Validation Acc: 84.6\n",
      "Epoch: [10/10], Step: [501/625], Validation Acc: 84.66\n",
      "Epoch: [10/10], Step: [601/625], Validation Acc: 84.56\n"
     ]
    }
   ],
   "source": [
    "learning_rate = 0.01\n",
    "num_epochs = 10\n",
    "# Criterion and Optimizer\n",
    "criterion = torch.nn.CrossEntropyLoss()  \n",
    "optimizer = torch.optim.Adam(model3.parameters(), lr=learning_rate)\n",
    "\n",
    "validation_accuracy_list_model3 = []\n",
    "for epoch in range(num_epochs):\n",
    "    for i, (data, lengths, labels) in enumerate(train_loader):\n",
    "        model3.train()\n",
    "        data_batch, length_batch, label_batch = data, lengths, labels\n",
    "        optimizer.zero_grad()\n",
    "        outputs = model3(data_batch, length_batch)\n",
    "        loss = criterion(outputs, label_batch)\n",
    "        loss.backward()\n",
    "        optimizer.step()\n",
    "        # validate every 100 iterations\n",
    "        if i > 0 and i % 100 == 0:\n",
    "            # validate\n",
    "            val_acc = test_model(val_loader, model3)\n",
    "            validation_accuracy_list_model3.append(val_acc)\n",
    "            print('Epoch: [{}/{}], Step: [{}/{}], Validation Acc: {}'.format( \n",
    "                       epoch+1, num_epochs, i+1, len(train_loader), val_acc))\n",
    "\n"
   ]
  },
  {
   "cell_type": "code",
   "execution_count": 179,
   "metadata": {},
   "outputs": [
    {
     "data": {
      "text/plain": [
       "85.65933333333334"
      ]
     },
     "execution_count": 179,
     "metadata": {},
     "output_type": "execute_result"
    }
   ],
   "source": [
    "np.mean(validation_accuracy_list_model3)"
   ]
  },
  {
   "cell_type": "markdown",
   "metadata": {},
   "source": [
    "## Experiment with scheme4_1gram"
   ]
  },
  {
   "cell_type": "code",
   "execution_count": null,
   "metadata": {},
   "outputs": [],
   "source": []
  },
  {
   "cell_type": "code",
   "execution_count": 180,
   "metadata": {},
   "outputs": [
    {
     "name": "stdout",
     "output_type": "stream",
     "text": [
      "Train dataset size is 20000\n",
      "Val dataset size is 5000\n",
      "Test dataset size is 25000\n",
      "Total number of tokens in train dataset is 2452336\n"
     ]
    }
   ],
   "source": [
    "###Load corresponding data\n",
    "# Then, load preprocessed train, val and test datasets\n",
    "train_data_tokens = pkl.load(open(\"train_data_tokens_scheme4_1gram.p\", \"rb\"))\n",
    "all_train_tokens = pkl.load(open(\"all_train_tokens_scheme4_1gram.p\", \"rb\"))\n",
    "\n",
    "val_data_tokens = pkl.load(open(\"val_data_tokens_scheme4_1gram.p\", \"rb\"))\n",
    "test_data_tokens = pkl.load(open(\"test_data_tokens_scheme4_1gram.p\", \"rb\"))\n",
    "\n",
    "# double checking\n",
    "print (\"Train dataset size is {}\".format(len(train_data_tokens)))\n",
    "print (\"Val dataset size is {}\".format(len(val_data_tokens)))\n",
    "print (\"Test dataset size is {}\".format(len(test_data_tokens)))\n",
    "\n",
    "print (\"Total number of tokens in train dataset is {}\".format(len(all_train_tokens)))"
   ]
  },
  {
   "cell_type": "code",
   "execution_count": 181,
   "metadata": {},
   "outputs": [],
   "source": [
    "max_vocab_size = 10000\n",
    "token2id, id2token = build_vocab(all_train_tokens)"
   ]
  },
  {
   "cell_type": "code",
   "execution_count": 183,
   "metadata": {},
   "outputs": [
    {
     "name": "stdout",
     "output_type": "stream",
     "text": [
      "Token id 9163 ; token wallow\n",
      "Token wallow; token id 9163\n"
     ]
    }
   ],
   "source": [
    "# Lets check the dictionary by loading random token from it\n",
    "random_token_id = random.randint(0, len(id2token)-1)\n",
    "random_token = id2token[random_token_id]\n",
    "\n",
    "print (\"Token id {} ; token {}\".format(random_token_id, id2token[random_token_id]))\n",
    "print (\"Token {}; token id {}\".format(random_token, token2id[random_token]))"
   ]
  },
  {
   "cell_type": "code",
   "execution_count": 184,
   "metadata": {},
   "outputs": [
    {
     "name": "stdout",
     "output_type": "stream",
     "text": [
      "Train dataset size is 20000\n",
      "Val dataset size is 5000\n",
      "Test dataset size is 25000\n"
     ]
    }
   ],
   "source": [
    "# convert token to id in the dataset\n",
    "# convert a sentence into a sequnce of tokens\n",
    "\n",
    "train_data_indices = token2index_dataset(train_data_tokens)\n",
    "val_data_indices = token2index_dataset(val_data_tokens)\n",
    "test_data_indices = token2index_dataset(test_data_tokens)\n",
    "\n",
    "# double checking\n",
    "print (\"Train dataset size is {}\".format(len(train_data_indices)))\n",
    "print (\"Val dataset size is {}\".format(len(val_data_indices)))\n",
    "print (\"Test dataset size is {}\".format(len(test_data_indices)))"
   ]
  },
  {
   "cell_type": "code",
   "execution_count": 185,
   "metadata": {},
   "outputs": [],
   "source": [
    "#create dataloader\n",
    "#better practice, pick 80% of the length distribution\n",
    "MAX_SENTENCE_LENGTH = 200\n",
    "BATCH_SIZE = 32\n",
    "\n",
    "train_dataset = NewsGroupDataset(train_data_indices, train_targets_class)\n",
    "train_loader = torch.utils.data.DataLoader(dataset=train_dataset, \n",
    "                                           batch_size=BATCH_SIZE,\n",
    "                                           collate_fn=newsgroup_collate_func,\n",
    "                                           shuffle=True)\n",
    "\n",
    "val_dataset = NewsGroupDataset(val_data_indices, val_targets_class)\n",
    "val_loader = torch.utils.data.DataLoader(dataset=val_dataset, \n",
    "                                           batch_size=BATCH_SIZE,\n",
    "                                           collate_fn=newsgroup_collate_func,\n",
    "                                           shuffle=True)\n"
   ]
  },
  {
   "cell_type": "code",
   "execution_count": 190,
   "metadata": {},
   "outputs": [],
   "source": [
    "emb_dim = 100\n",
    "model4 = BagOfWords(len(id2token), emb_dim)"
   ]
  },
  {
   "cell_type": "code",
   "execution_count": 191,
   "metadata": {},
   "outputs": [
    {
     "name": "stdout",
     "output_type": "stream",
     "text": [
      "Epoch: [1/10], Step: [101/625], Validation Acc: 82.8\n",
      "Epoch: [1/10], Step: [201/625], Validation Acc: 85.9\n",
      "Epoch: [1/10], Step: [301/625], Validation Acc: 85.76\n",
      "Epoch: [1/10], Step: [401/625], Validation Acc: 86.82\n",
      "Epoch: [1/10], Step: [501/625], Validation Acc: 87.06\n",
      "Epoch: [1/10], Step: [601/625], Validation Acc: 86.76\n",
      "Epoch: [2/10], Step: [101/625], Validation Acc: 86.84\n",
      "Epoch: [2/10], Step: [201/625], Validation Acc: 86.92\n",
      "Epoch: [2/10], Step: [301/625], Validation Acc: 87.06\n",
      "Epoch: [2/10], Step: [401/625], Validation Acc: 86.52\n",
      "Epoch: [2/10], Step: [501/625], Validation Acc: 87.2\n",
      "Epoch: [2/10], Step: [601/625], Validation Acc: 86.92\n",
      "Epoch: [3/10], Step: [101/625], Validation Acc: 86.62\n",
      "Epoch: [3/10], Step: [201/625], Validation Acc: 85.58\n",
      "Epoch: [3/10], Step: [301/625], Validation Acc: 86.44\n",
      "Epoch: [3/10], Step: [401/625], Validation Acc: 86.62\n",
      "Epoch: [3/10], Step: [501/625], Validation Acc: 86.28\n",
      "Epoch: [3/10], Step: [601/625], Validation Acc: 86.14\n",
      "Epoch: [4/10], Step: [101/625], Validation Acc: 86.3\n",
      "Epoch: [4/10], Step: [201/625], Validation Acc: 85.66\n",
      "Epoch: [4/10], Step: [301/625], Validation Acc: 85.48\n",
      "Epoch: [4/10], Step: [401/625], Validation Acc: 85.5\n",
      "Epoch: [4/10], Step: [501/625], Validation Acc: 85.56\n",
      "Epoch: [4/10], Step: [601/625], Validation Acc: 85.18\n",
      "Epoch: [5/10], Step: [101/625], Validation Acc: 85.48\n",
      "Epoch: [5/10], Step: [201/625], Validation Acc: 85.2\n",
      "Epoch: [5/10], Step: [301/625], Validation Acc: 85.98\n",
      "Epoch: [5/10], Step: [401/625], Validation Acc: 85.36\n",
      "Epoch: [5/10], Step: [501/625], Validation Acc: 85.16\n",
      "Epoch: [5/10], Step: [601/625], Validation Acc: 85.3\n",
      "Epoch: [6/10], Step: [101/625], Validation Acc: 85.04\n",
      "Epoch: [6/10], Step: [201/625], Validation Acc: 84.92\n",
      "Epoch: [6/10], Step: [301/625], Validation Acc: 84.72\n",
      "Epoch: [6/10], Step: [401/625], Validation Acc: 84.88\n",
      "Epoch: [6/10], Step: [501/625], Validation Acc: 84.62\n",
      "Epoch: [6/10], Step: [601/625], Validation Acc: 84.44\n",
      "Epoch: [7/10], Step: [101/625], Validation Acc: 84.7\n",
      "Epoch: [7/10], Step: [201/625], Validation Acc: 84.66\n",
      "Epoch: [7/10], Step: [301/625], Validation Acc: 84.36\n",
      "Epoch: [7/10], Step: [401/625], Validation Acc: 84.08\n",
      "Epoch: [7/10], Step: [501/625], Validation Acc: 84.48\n",
      "Epoch: [7/10], Step: [601/625], Validation Acc: 84.36\n",
      "Epoch: [8/10], Step: [101/625], Validation Acc: 84.18\n",
      "Epoch: [8/10], Step: [201/625], Validation Acc: 84.2\n",
      "Epoch: [8/10], Step: [301/625], Validation Acc: 84.06\n",
      "Epoch: [8/10], Step: [401/625], Validation Acc: 83.88\n",
      "Epoch: [8/10], Step: [501/625], Validation Acc: 84.28\n",
      "Epoch: [8/10], Step: [601/625], Validation Acc: 83.9\n",
      "Epoch: [9/10], Step: [101/625], Validation Acc: 83.58\n",
      "Epoch: [9/10], Step: [201/625], Validation Acc: 83.62\n",
      "Epoch: [9/10], Step: [301/625], Validation Acc: 83.78\n",
      "Epoch: [9/10], Step: [401/625], Validation Acc: 83.66\n",
      "Epoch: [9/10], Step: [501/625], Validation Acc: 84.18\n",
      "Epoch: [9/10], Step: [601/625], Validation Acc: 83.86\n",
      "Epoch: [10/10], Step: [101/625], Validation Acc: 84.12\n",
      "Epoch: [10/10], Step: [201/625], Validation Acc: 84.04\n",
      "Epoch: [10/10], Step: [301/625], Validation Acc: 83.84\n",
      "Epoch: [10/10], Step: [401/625], Validation Acc: 84.12\n",
      "Epoch: [10/10], Step: [501/625], Validation Acc: 83.84\n",
      "Epoch: [10/10], Step: [601/625], Validation Acc: 83.46\n"
     ]
    }
   ],
   "source": [
    "learning_rate = 0.01\n",
    "num_epochs = 10 \n",
    "# Criterion and Optimizer\n",
    "criterion = torch.nn.CrossEntropyLoss()  \n",
    "optimizer = torch.optim.Adam(model4.parameters(), lr=learning_rate)\n",
    "\n",
    "\n",
    "validation_accuracy_list_model4 = []\n",
    "for epoch in range(num_epochs):\n",
    "    for i, (data, lengths, labels) in enumerate(train_loader):\n",
    "        model4.train()\n",
    "        data_batch, length_batch, label_batch = data, lengths, labels\n",
    "        optimizer.zero_grad()\n",
    "        outputs = model4(data_batch, length_batch)\n",
    "        loss = criterion(outputs, label_batch)\n",
    "        loss.backward()\n",
    "        optimizer.step()\n",
    "        # validate every 100 iterations\n",
    "        if i > 0 and i % 100 == 0:\n",
    "            # validate\n",
    "            val_acc = test_model(val_loader, model4)\n",
    "            validation_accuracy_list_model4.append(val_acc)\n",
    "            print('Epoch: [{}/{}], Step: [{}/{}], Validation Acc: {}'.format( \n",
    "                       epoch+1, num_epochs, i+1, len(train_loader), val_acc))\n",
    "\n"
   ]
  },
  {
   "cell_type": "code",
   "execution_count": 193,
   "metadata": {},
   "outputs": [
    {
     "data": {
      "text/plain": [
       "85.10433333333334"
      ]
     },
     "execution_count": 193,
     "metadata": {},
     "output_type": "execute_result"
    }
   ],
   "source": [
    "np.mean(validation_accuracy_list_model4)"
   ]
  },
  {
   "cell_type": "markdown",
   "metadata": {},
   "source": [
    "## Result for part1:"
   ]
  },
  {
   "cell_type": "code",
   "execution_count": 72,
   "metadata": {},
   "outputs": [],
   "source": [
    "import matplotlib.pyplot as plt\n",
    "% matplotlib inline"
   ]
  },
  {
   "cell_type": "code",
   "execution_count": 203,
   "metadata": {},
   "outputs": [
    {
     "data": {
      "text/plain": [
       "<matplotlib.legend.Legend at 0x167689978>"
      ]
     },
     "execution_count": 203,
     "metadata": {},
     "output_type": "execute_result"
    },
    {
     "data": {
      "image/png": "[encoded data removed]",
      "text/plain": [
       "<Figure size 432x288 with 1 Axes>"
      ]
     },
     "metadata": {
      "needs_background": "light"
     },
     "output_type": "display_data"
    }
   ],
   "source": [
    "plt.figure()\n",
    "plt.plot(list(range(len(validation_accuracy_list_model1))),validation_accuracy_list_model1, label = 'scheme1')\n",
    "plt.plot(list(range(len(validation_accuracy_list_model2))),validation_accuracy_list_model2, label = 'scheme2')\n",
    "plt.plot(list(range(len(validation_accuracy_list_model3))),validation_accuracy_list_model3, label = 'scheme3')\n",
    "plt.plot(list(range(len(validation_accuracy_list_model4))),validation_accuracy_list_model4, label = 'scheme4')\n",
    "plt.xlabel('hundred iterations')\n",
    "plt.ylabel('validation accuracy')\n",
    "plt.legend()"
   ]
  },
  {
   "cell_type": "raw",
   "metadata": {},
   "source": [
    "#conclusion for step1: use scheme3"
   ]
  },
  {
   "cell_type": "code",
   "execution_count": null,
   "metadata": {},
   "outputs": [],
   "source": []
  },
  {
   "cell_type": "markdown",
   "metadata": {},
   "source": [
    "## Part2: Varing n=1,2,3,4"
   ]
  },
  {
   "cell_type": "raw",
   "metadata": {},
   "source": [
    "for tokenization scheme 3, we now examine the effect of varing n"
   ]
  },
  {
   "cell_type": "code",
   "execution_count": 60,
   "metadata": {},
   "outputs": [],
   "source": [
    "train_targets_class = pkl.load(open(\"train_targets_class.p\", \"rb\"))\n",
    "train_targets_values = pkl.load(open(\"train_targets_values.p\", \"rb\"))\n",
    "val_targets_class = pkl.load(open(\"val_targets_class.p\", \"rb\"))\n",
    "val_targets_values = pkl.load(open(\"val_targets_values.p\", \"rb\"))\n",
    "test_targets_class = pkl.load(open(\"test_targets_class.p\", \"rb\"))\n",
    "test_targets_values = pkl.load(open(\"test_targets_values.p\", \"rb\"))\n",
    "\n",
    "#convert 'pos' into 1, 'neg' into 0\n",
    "train_targets_class = convert(train_targets_class)\n",
    "val_targets_class = convert(val_targets_class)\n",
    "test_targets_class = convert(test_targets_class)"
   ]
  },
  {
   "cell_type": "code",
   "execution_count": 62,
   "metadata": {},
   "outputs": [],
   "source": [
    "experiment_file_list = dict(\n",
    "    train_data_tokens = ['train_data_tokens_scheme3_1gram.p','train_data_tokens_scheme3_2gram.p','train_data_tokens_scheme3_3gram.p','train_data_tokens_scheme3_4gram.p'],\n",
    "    all_train_tokens = ['all_train_tokens_scheme3_1gram.p','all_train_tokens_scheme3_2gram.p','all_train_tokens_scheme3_3gram.p','all_train_tokens_scheme3_4gram.p'],\n",
    "    val_data_tokens = ['val_data_tokens_scheme3_1gram.p','val_data_tokens_scheme3_2gram.p','val_data_tokens_scheme3_3gram.p','val_data_tokens_scheme3_4gram.p'],\n",
    ") "
   ]
  },
  {
   "cell_type": "code",
   "execution_count": 85,
   "metadata": {},
   "outputs": [],
   "source": [
    "experiment_validation_accuracy_list = [[],[],[],[]]"
   ]
  },
  {
   "cell_type": "code",
   "execution_count": 86,
   "metadata": {},
   "outputs": [
    {
     "name": "stdout",
     "output_type": "stream",
     "text": [
      "this is 1 gram\n",
      "Train dataset size is 20000\n",
      "Val dataset size is 5000\n",
      "Test dataset size is 25000\n",
      "Epoch: [1/10], Step: [101/800], Validation Acc: 82.64\n",
      "Epoch: [1/10], Step: [201/800], Validation Acc: 84.92\n",
      "Epoch: [1/10], Step: [301/800], Validation Acc: 86.56\n",
      "Epoch: [1/10], Step: [401/800], Validation Acc: 86.8\n",
      "Epoch: [1/10], Step: [501/800], Validation Acc: 87.64\n",
      "Epoch: [1/10], Step: [601/800], Validation Acc: 88.26\n",
      "Epoch: [1/10], Step: [701/800], Validation Acc: 87.5\n",
      "Epoch: [2/10], Step: [101/800], Validation Acc: 87.72\n",
      "Epoch: [2/10], Step: [201/800], Validation Acc: 87.7\n",
      "Epoch: [2/10], Step: [301/800], Validation Acc: 87.5\n",
      "Epoch: [2/10], Step: [401/800], Validation Acc: 87.18\n",
      "Epoch: [2/10], Step: [501/800], Validation Acc: 86.98\n",
      "Epoch: [2/10], Step: [601/800], Validation Acc: 87.12\n",
      "Epoch: [2/10], Step: [701/800], Validation Acc: 87.16\n",
      "Epoch: [3/10], Step: [101/800], Validation Acc: 87.4\n",
      "Epoch: [3/10], Step: [201/800], Validation Acc: 87.62\n",
      "Epoch: [3/10], Step: [301/800], Validation Acc: 87.28\n",
      "Epoch: [3/10], Step: [401/800], Validation Acc: 87.0\n",
      "Epoch: [3/10], Step: [501/800], Validation Acc: 86.8\n",
      "Epoch: [3/10], Step: [601/800], Validation Acc: 86.84\n",
      "Epoch: [3/10], Step: [701/800], Validation Acc: 86.62\n",
      "Epoch: [4/10], Step: [101/800], Validation Acc: 86.9\n",
      "Epoch: [4/10], Step: [201/800], Validation Acc: 86.6\n",
      "Epoch: [4/10], Step: [301/800], Validation Acc: 86.52\n",
      "Epoch: [4/10], Step: [401/800], Validation Acc: 86.52\n",
      "Epoch: [4/10], Step: [501/800], Validation Acc: 86.88\n",
      "Epoch: [4/10], Step: [601/800], Validation Acc: 86.82\n",
      "Epoch: [4/10], Step: [701/800], Validation Acc: 86.62\n",
      "Epoch: [5/10], Step: [101/800], Validation Acc: 86.4\n",
      "Epoch: [5/10], Step: [201/800], Validation Acc: 86.42\n",
      "Epoch: [5/10], Step: [301/800], Validation Acc: 86.78\n",
      "Epoch: [5/10], Step: [401/800], Validation Acc: 86.72\n",
      "Epoch: [5/10], Step: [501/800], Validation Acc: 86.34\n",
      "Epoch: [5/10], Step: [601/800], Validation Acc: 86.44\n",
      "Epoch: [5/10], Step: [701/800], Validation Acc: 86.32\n",
      "Epoch: [6/10], Step: [101/800], Validation Acc: 86.52\n",
      "Epoch: [6/10], Step: [201/800], Validation Acc: 86.42\n",
      "Epoch: [6/10], Step: [301/800], Validation Acc: 86.66\n",
      "Epoch: [6/10], Step: [401/800], Validation Acc: 86.62\n",
      "Epoch: [6/10], Step: [501/800], Validation Acc: 86.66\n",
      "Epoch: [6/10], Step: [601/800], Validation Acc: 86.44\n",
      "Epoch: [6/10], Step: [701/800], Validation Acc: 86.14\n",
      "Epoch: [7/10], Step: [101/800], Validation Acc: 86.26\n",
      "Epoch: [7/10], Step: [201/800], Validation Acc: 86.14\n",
      "Epoch: [7/10], Step: [301/800], Validation Acc: 86.18\n",
      "Epoch: [7/10], Step: [401/800], Validation Acc: 86.44\n",
      "Epoch: [7/10], Step: [501/800], Validation Acc: 86.3\n",
      "Epoch: [7/10], Step: [601/800], Validation Acc: 86.14\n",
      "Epoch: [7/10], Step: [701/800], Validation Acc: 86.08\n",
      "Epoch: [8/10], Step: [101/800], Validation Acc: 86.08\n",
      "Epoch: [8/10], Step: [201/800], Validation Acc: 85.92\n",
      "Epoch: [8/10], Step: [301/800], Validation Acc: 86.36\n",
      "Epoch: [8/10], Step: [401/800], Validation Acc: 86.62\n",
      "Epoch: [8/10], Step: [501/800], Validation Acc: 86.38\n",
      "Epoch: [8/10], Step: [601/800], Validation Acc: 86.3\n",
      "Epoch: [8/10], Step: [701/800], Validation Acc: 86.04\n",
      "Epoch: [9/10], Step: [101/800], Validation Acc: 85.66\n",
      "Epoch: [9/10], Step: [201/800], Validation Acc: 85.24\n",
      "Epoch: [9/10], Step: [301/800], Validation Acc: 85.5\n",
      "Epoch: [9/10], Step: [401/800], Validation Acc: 85.96\n",
      "Epoch: [9/10], Step: [501/800], Validation Acc: 85.16\n",
      "Epoch: [9/10], Step: [601/800], Validation Acc: 85.54\n",
      "Epoch: [9/10], Step: [701/800], Validation Acc: 84.66\n",
      "Epoch: [10/10], Step: [101/800], Validation Acc: 85.58\n",
      "Epoch: [10/10], Step: [201/800], Validation Acc: 85.52\n",
      "Epoch: [10/10], Step: [301/800], Validation Acc: 85.7\n",
      "Epoch: [10/10], Step: [401/800], Validation Acc: 85.36\n",
      "Epoch: [10/10], Step: [501/800], Validation Acc: 85.24\n",
      "Epoch: [10/10], Step: [601/800], Validation Acc: 85.78\n",
      "Epoch: [10/10], Step: [701/800], Validation Acc: 85.64\n",
      "this is 2 gram\n",
      "Train dataset size is 20000\n",
      "Val dataset size is 5000\n",
      "Test dataset size is 25000\n",
      "Epoch: [1/10], Step: [101/800], Validation Acc: 81.24\n",
      "Epoch: [1/10], Step: [201/800], Validation Acc: 85.62\n",
      "Epoch: [1/10], Step: [301/800], Validation Acc: 87.1\n",
      "Epoch: [1/10], Step: [401/800], Validation Acc: 87.44\n",
      "Epoch: [1/10], Step: [501/800], Validation Acc: 88.22\n",
      "Epoch: [1/10], Step: [601/800], Validation Acc: 88.04\n",
      "Epoch: [1/10], Step: [701/800], Validation Acc: 88.22\n",
      "Epoch: [2/10], Step: [101/800], Validation Acc: 88.92\n",
      "Epoch: [2/10], Step: [201/800], Validation Acc: 88.92\n",
      "Epoch: [2/10], Step: [301/800], Validation Acc: 88.52\n",
      "Epoch: [2/10], Step: [401/800], Validation Acc: 88.06\n",
      "Epoch: [2/10], Step: [501/800], Validation Acc: 87.74\n",
      "Epoch: [2/10], Step: [601/800], Validation Acc: 88.1\n",
      "Epoch: [2/10], Step: [701/800], Validation Acc: 87.74\n",
      "Epoch: [3/10], Step: [101/800], Validation Acc: 88.0\n",
      "Epoch: [3/10], Step: [201/800], Validation Acc: 88.52\n",
      "Epoch: [3/10], Step: [301/800], Validation Acc: 87.18\n",
      "Epoch: [3/10], Step: [401/800], Validation Acc: 88.3\n",
      "Epoch: [3/10], Step: [501/800], Validation Acc: 88.24\n",
      "Epoch: [3/10], Step: [601/800], Validation Acc: 88.38\n",
      "Epoch: [3/10], Step: [701/800], Validation Acc: 88.16\n",
      "Epoch: [4/10], Step: [101/800], Validation Acc: 87.76\n",
      "Epoch: [4/10], Step: [201/800], Validation Acc: 87.8\n",
      "Epoch: [4/10], Step: [301/800], Validation Acc: 87.84\n",
      "Epoch: [4/10], Step: [401/800], Validation Acc: 87.84\n",
      "Epoch: [4/10], Step: [501/800], Validation Acc: 87.82\n",
      "Epoch: [4/10], Step: [601/800], Validation Acc: 87.78\n",
      "Epoch: [4/10], Step: [701/800], Validation Acc: 87.6\n",
      "Epoch: [5/10], Step: [101/800], Validation Acc: 87.76\n",
      "Epoch: [5/10], Step: [201/800], Validation Acc: 87.68\n",
      "Epoch: [5/10], Step: [301/800], Validation Acc: 87.68\n",
      "Epoch: [5/10], Step: [401/800], Validation Acc: 87.76\n",
      "Epoch: [5/10], Step: [501/800], Validation Acc: 87.72\n",
      "Epoch: [5/10], Step: [601/800], Validation Acc: 87.72\n",
      "Epoch: [5/10], Step: [701/800], Validation Acc: 87.7\n",
      "Epoch: [6/10], Step: [101/800], Validation Acc: 87.68\n",
      "Epoch: [6/10], Step: [201/800], Validation Acc: 87.72\n",
      "Epoch: [6/10], Step: [301/800], Validation Acc: 87.84\n",
      "Epoch: [6/10], Step: [401/800], Validation Acc: 87.92\n",
      "Epoch: [6/10], Step: [501/800], Validation Acc: 87.84\n",
      "Epoch: [6/10], Step: [601/800], Validation Acc: 87.76\n",
      "Epoch: [6/10], Step: [701/800], Validation Acc: 87.86\n",
      "Epoch: [7/10], Step: [101/800], Validation Acc: 87.94\n",
      "Epoch: [7/10], Step: [201/800], Validation Acc: 87.78\n",
      "Epoch: [7/10], Step: [301/800], Validation Acc: 87.82\n",
      "Epoch: [7/10], Step: [401/800], Validation Acc: 87.84\n",
      "Epoch: [7/10], Step: [501/800], Validation Acc: 87.76\n",
      "Epoch: [7/10], Step: [601/800], Validation Acc: 87.82\n",
      "Epoch: [7/10], Step: [701/800], Validation Acc: 87.84\n",
      "Epoch: [8/10], Step: [101/800], Validation Acc: 87.8\n",
      "Epoch: [8/10], Step: [201/800], Validation Acc: 87.86\n",
      "Epoch: [8/10], Step: [301/800], Validation Acc: 87.86\n",
      "Epoch: [8/10], Step: [401/800], Validation Acc: 87.86\n",
      "Epoch: [8/10], Step: [501/800], Validation Acc: 87.82\n",
      "Epoch: [8/10], Step: [601/800], Validation Acc: 87.82\n",
      "Epoch: [8/10], Step: [701/800], Validation Acc: 87.9\n",
      "Epoch: [9/10], Step: [101/800], Validation Acc: 87.82\n",
      "Epoch: [9/10], Step: [201/800], Validation Acc: 87.92\n",
      "Epoch: [9/10], Step: [301/800], Validation Acc: 87.88\n",
      "Epoch: [9/10], Step: [401/800], Validation Acc: 87.9\n",
      "Epoch: [9/10], Step: [501/800], Validation Acc: 87.94\n",
      "Epoch: [9/10], Step: [601/800], Validation Acc: 87.96\n",
      "Epoch: [9/10], Step: [701/800], Validation Acc: 87.86\n",
      "Epoch: [10/10], Step: [101/800], Validation Acc: 87.9\n",
      "Epoch: [10/10], Step: [201/800], Validation Acc: 87.92\n",
      "Epoch: [10/10], Step: [301/800], Validation Acc: 87.98\n",
      "Epoch: [10/10], Step: [401/800], Validation Acc: 87.92\n",
      "Epoch: [10/10], Step: [501/800], Validation Acc: 87.96\n",
      "Epoch: [10/10], Step: [601/800], Validation Acc: 87.96\n",
      "Epoch: [10/10], Step: [701/800], Validation Acc: 87.94\n",
      "this is 3 gram\n",
      "Train dataset size is 20000\n",
      "Val dataset size is 5000\n",
      "Test dataset size is 25000\n",
      "Epoch: [1/10], Step: [101/800], Validation Acc: 81.88\n",
      "Epoch: [1/10], Step: [201/800], Validation Acc: 85.6\n",
      "Epoch: [1/10], Step: [301/800], Validation Acc: 86.68\n",
      "Epoch: [1/10], Step: [401/800], Validation Acc: 87.66\n",
      "Epoch: [1/10], Step: [501/800], Validation Acc: 86.08\n",
      "Epoch: [1/10], Step: [601/800], Validation Acc: 88.0\n",
      "Epoch: [1/10], Step: [701/800], Validation Acc: 88.78\n"
     ]
    },
    {
     "name": "stdout",
     "output_type": "stream",
     "text": [
      "Epoch: [2/10], Step: [101/800], Validation Acc: 88.64\n",
      "Epoch: [2/10], Step: [201/800], Validation Acc: 88.26\n",
      "Epoch: [2/10], Step: [301/800], Validation Acc: 88.6\n",
      "Epoch: [2/10], Step: [401/800], Validation Acc: 88.16\n",
      "Epoch: [2/10], Step: [501/800], Validation Acc: 88.22\n",
      "Epoch: [2/10], Step: [601/800], Validation Acc: 88.38\n",
      "Epoch: [2/10], Step: [701/800], Validation Acc: 87.92\n",
      "Epoch: [3/10], Step: [101/800], Validation Acc: 88.14\n",
      "Epoch: [3/10], Step: [201/800], Validation Acc: 88.08\n",
      "Epoch: [3/10], Step: [301/800], Validation Acc: 88.12\n",
      "Epoch: [3/10], Step: [401/800], Validation Acc: 88.24\n",
      "Epoch: [3/10], Step: [501/800], Validation Acc: 87.72\n",
      "Epoch: [3/10], Step: [601/800], Validation Acc: 87.62\n",
      "Epoch: [3/10], Step: [701/800], Validation Acc: 87.82\n",
      "Epoch: [4/10], Step: [101/800], Validation Acc: 87.64\n",
      "Epoch: [4/10], Step: [201/800], Validation Acc: 87.48\n",
      "Epoch: [4/10], Step: [301/800], Validation Acc: 87.64\n",
      "Epoch: [4/10], Step: [401/800], Validation Acc: 87.58\n",
      "Epoch: [4/10], Step: [501/800], Validation Acc: 87.62\n",
      "Epoch: [4/10], Step: [601/800], Validation Acc: 87.76\n",
      "Epoch: [4/10], Step: [701/800], Validation Acc: 87.72\n",
      "Epoch: [5/10], Step: [101/800], Validation Acc: 87.76\n",
      "Epoch: [5/10], Step: [201/800], Validation Acc: 87.68\n",
      "Epoch: [5/10], Step: [301/800], Validation Acc: 87.74\n",
      "Epoch: [5/10], Step: [401/800], Validation Acc: 87.66\n",
      "Epoch: [5/10], Step: [501/800], Validation Acc: 87.76\n",
      "Epoch: [5/10], Step: [601/800], Validation Acc: 87.7\n",
      "Epoch: [5/10], Step: [701/800], Validation Acc: 87.84\n",
      "Epoch: [6/10], Step: [101/800], Validation Acc: 87.72\n",
      "Epoch: [6/10], Step: [201/800], Validation Acc: 87.74\n",
      "Epoch: [6/10], Step: [301/800], Validation Acc: 87.66\n",
      "Epoch: [6/10], Step: [401/800], Validation Acc: 87.64\n",
      "Epoch: [6/10], Step: [501/800], Validation Acc: 87.72\n",
      "Epoch: [6/10], Step: [601/800], Validation Acc: 87.68\n",
      "Epoch: [6/10], Step: [701/800], Validation Acc: 87.7\n",
      "Epoch: [7/10], Step: [101/800], Validation Acc: 87.7\n",
      "Epoch: [7/10], Step: [201/800], Validation Acc: 87.66\n",
      "Epoch: [7/10], Step: [301/800], Validation Acc: 87.7\n",
      "Epoch: [7/10], Step: [401/800], Validation Acc: 87.74\n",
      "Epoch: [7/10], Step: [501/800], Validation Acc: 87.7\n",
      "Epoch: [7/10], Step: [601/800], Validation Acc: 87.76\n",
      "Epoch: [7/10], Step: [701/800], Validation Acc: 87.62\n",
      "Epoch: [8/10], Step: [101/800], Validation Acc: 87.6\n",
      "Epoch: [8/10], Step: [201/800], Validation Acc: 87.66\n",
      "Epoch: [8/10], Step: [301/800], Validation Acc: 87.7\n",
      "Epoch: [8/10], Step: [401/800], Validation Acc: 87.62\n",
      "Epoch: [8/10], Step: [501/800], Validation Acc: 87.64\n",
      "Epoch: [8/10], Step: [601/800], Validation Acc: 87.7\n",
      "Epoch: [8/10], Step: [701/800], Validation Acc: 87.64\n",
      "Epoch: [9/10], Step: [101/800], Validation Acc: 87.62\n",
      "Epoch: [9/10], Step: [201/800], Validation Acc: 87.76\n",
      "Epoch: [9/10], Step: [301/800], Validation Acc: 87.7\n",
      "Epoch: [9/10], Step: [401/800], Validation Acc: 87.66\n",
      "Epoch: [9/10], Step: [501/800], Validation Acc: 87.6\n",
      "Epoch: [9/10], Step: [601/800], Validation Acc: 87.62\n",
      "Epoch: [9/10], Step: [701/800], Validation Acc: 87.68\n",
      "Epoch: [10/10], Step: [101/800], Validation Acc: 87.56\n",
      "Epoch: [10/10], Step: [201/800], Validation Acc: 87.66\n",
      "Epoch: [10/10], Step: [301/800], Validation Acc: 87.62\n",
      "Epoch: [10/10], Step: [401/800], Validation Acc: 87.66\n",
      "Epoch: [10/10], Step: [501/800], Validation Acc: 87.64\n",
      "Epoch: [10/10], Step: [601/800], Validation Acc: 87.66\n",
      "Epoch: [10/10], Step: [701/800], Validation Acc: 87.62\n",
      "this is 4 gram\n",
      "Train dataset size is 20000\n",
      "Val dataset size is 5000\n",
      "Test dataset size is 25000\n",
      "Epoch: [1/10], Step: [101/800], Validation Acc: 81.6\n",
      "Epoch: [1/10], Step: [201/800], Validation Acc: 86.54\n",
      "Epoch: [1/10], Step: [301/800], Validation Acc: 86.22\n",
      "Epoch: [1/10], Step: [401/800], Validation Acc: 86.4\n",
      "Epoch: [1/10], Step: [501/800], Validation Acc: 86.62\n",
      "Epoch: [1/10], Step: [601/800], Validation Acc: 88.62\n",
      "Epoch: [1/10], Step: [701/800], Validation Acc: 88.06\n",
      "Epoch: [2/10], Step: [101/800], Validation Acc: 88.88\n",
      "Epoch: [2/10], Step: [201/800], Validation Acc: 88.0\n",
      "Epoch: [2/10], Step: [301/800], Validation Acc: 87.98\n",
      "Epoch: [2/10], Step: [401/800], Validation Acc: 87.88\n",
      "Epoch: [2/10], Step: [501/800], Validation Acc: 88.06\n",
      "Epoch: [2/10], Step: [601/800], Validation Acc: 87.82\n",
      "Epoch: [2/10], Step: [701/800], Validation Acc: 87.78\n",
      "Epoch: [3/10], Step: [101/800], Validation Acc: 87.82\n",
      "Epoch: [3/10], Step: [201/800], Validation Acc: 87.86\n",
      "Epoch: [3/10], Step: [301/800], Validation Acc: 87.78\n",
      "Epoch: [3/10], Step: [401/800], Validation Acc: 87.2\n",
      "Epoch: [3/10], Step: [501/800], Validation Acc: 87.94\n",
      "Epoch: [3/10], Step: [601/800], Validation Acc: 87.88\n",
      "Epoch: [3/10], Step: [701/800], Validation Acc: 87.78\n",
      "Epoch: [4/10], Step: [101/800], Validation Acc: 87.82\n",
      "Epoch: [4/10], Step: [201/800], Validation Acc: 87.76\n",
      "Epoch: [4/10], Step: [301/800], Validation Acc: 87.32\n",
      "Epoch: [4/10], Step: [401/800], Validation Acc: 87.7\n",
      "Epoch: [4/10], Step: [501/800], Validation Acc: 87.72\n",
      "Epoch: [4/10], Step: [601/800], Validation Acc: 87.5\n",
      "Epoch: [4/10], Step: [701/800], Validation Acc: 87.74\n",
      "Epoch: [5/10], Step: [101/800], Validation Acc: 87.64\n",
      "Epoch: [5/10], Step: [201/800], Validation Acc: 87.64\n",
      "Epoch: [5/10], Step: [301/800], Validation Acc: 87.74\n",
      "Epoch: [5/10], Step: [401/800], Validation Acc: 87.74\n",
      "Epoch: [5/10], Step: [501/800], Validation Acc: 87.74\n",
      "Epoch: [5/10], Step: [601/800], Validation Acc: 87.82\n",
      "Epoch: [5/10], Step: [701/800], Validation Acc: 87.7\n",
      "Epoch: [6/10], Step: [101/800], Validation Acc: 87.76\n",
      "Epoch: [6/10], Step: [201/800], Validation Acc: 87.84\n",
      "Epoch: [6/10], Step: [301/800], Validation Acc: 87.74\n",
      "Epoch: [6/10], Step: [401/800], Validation Acc: 87.7\n",
      "Epoch: [6/10], Step: [501/800], Validation Acc: 87.88\n",
      "Epoch: [6/10], Step: [601/800], Validation Acc: 87.86\n",
      "Epoch: [6/10], Step: [701/800], Validation Acc: 87.88\n",
      "Epoch: [7/10], Step: [101/800], Validation Acc: 87.82\n",
      "Epoch: [7/10], Step: [201/800], Validation Acc: 87.94\n",
      "Epoch: [7/10], Step: [301/800], Validation Acc: 87.9\n",
      "Epoch: [7/10], Step: [401/800], Validation Acc: 87.82\n",
      "Epoch: [7/10], Step: [501/800], Validation Acc: 87.84\n",
      "Epoch: [7/10], Step: [601/800], Validation Acc: 87.86\n",
      "Epoch: [7/10], Step: [701/800], Validation Acc: 87.84\n",
      "Epoch: [8/10], Step: [101/800], Validation Acc: 87.92\n",
      "Epoch: [8/10], Step: [201/800], Validation Acc: 87.88\n",
      "Epoch: [8/10], Step: [301/800], Validation Acc: 87.84\n",
      "Epoch: [8/10], Step: [401/800], Validation Acc: 87.9\n",
      "Epoch: [8/10], Step: [501/800], Validation Acc: 87.82\n",
      "Epoch: [8/10], Step: [601/800], Validation Acc: 87.88\n",
      "Epoch: [8/10], Step: [701/800], Validation Acc: 87.94\n",
      "Epoch: [9/10], Step: [101/800], Validation Acc: 87.94\n",
      "Epoch: [9/10], Step: [201/800], Validation Acc: 87.98\n",
      "Epoch: [9/10], Step: [301/800], Validation Acc: 88.02\n",
      "Epoch: [9/10], Step: [401/800], Validation Acc: 87.96\n",
      "Epoch: [9/10], Step: [501/800], Validation Acc: 87.92\n",
      "Epoch: [9/10], Step: [601/800], Validation Acc: 87.94\n",
      "Epoch: [9/10], Step: [701/800], Validation Acc: 88.04\n",
      "Epoch: [10/10], Step: [101/800], Validation Acc: 87.96\n",
      "Epoch: [10/10], Step: [201/800], Validation Acc: 87.96\n",
      "Epoch: [10/10], Step: [301/800], Validation Acc: 87.96\n",
      "Epoch: [10/10], Step: [401/800], Validation Acc: 87.96\n",
      "Epoch: [10/10], Step: [501/800], Validation Acc: 87.96\n",
      "Epoch: [10/10], Step: [601/800], Validation Acc: 87.96\n",
      "Epoch: [10/10], Step: [701/800], Validation Acc: 87.92\n"
     ]
    }
   ],
   "source": [
    "max_vocab_size = 50000\n",
    "MAX_SENTENCE_LENGTH = 200\n",
    "BATCH_SIZE = 25\n",
    "emb_dim = 100\n",
    "learning_rate = 0.01\n",
    "num_epochs = 10 \n",
    "\n",
    "\n",
    "for i in range(4):\n",
    "    print('this is {} gram'.format(i+1))\n",
    "    #load feature data for this experiment\n",
    "    train_data_tokens = pkl.load(open(experiment_file_list['train_data_tokens'][i], \"rb\"))\n",
    "    all_train_tokens = pkl.load(open(experiment_file_list['all_train_tokens'][i], \"rb\"))\n",
    "    val_data_tokens = pkl.load(open(experiment_file_list['val_data_tokens'][i], \"rb\"))\n",
    "    \n",
    "    token2id, id2token = build_vocab(all_train_tokens)\n",
    "    \n",
    "    train_data_indices = token2index_dataset(train_data_tokens)\n",
    "    val_data_indices = token2index_dataset(val_data_tokens)\n",
    "    # double checking\n",
    "    print (\"Train dataset size is {}\".format(len(train_data_indices)))\n",
    "    print (\"Val dataset size is {}\".format(len(val_data_indices)))\n",
    "    \n",
    "    train_dataset = NewsGroupDataset(train_data_indices, train_targets_class)\n",
    "    train_loader = torch.utils.data.DataLoader(dataset=train_dataset, \n",
    "                                           batch_size=BATCH_SIZE,\n",
    "                                           collate_fn=newsgroup_collate_func,\n",
    "                                           shuffle=True)\n",
    "\n",
    "    val_dataset = NewsGroupDataset(val_data_indices, val_targets_class)\n",
    "    val_loader = torch.utils.data.DataLoader(dataset=val_dataset, \n",
    "                                           batch_size=BATCH_SIZE,\n",
    "                                           collate_fn=newsgroup_collate_func,\n",
    "                                           shuffle=True)\n",
    "\n",
    "\n",
    "    model = BagOfWords(len(id2token), emb_dim)\n",
    "    criterion = torch.nn.CrossEntropyLoss()  \n",
    "    optimizer = torch.optim.Adam(model.parameters(), lr=learning_rate)\n",
    "    \n",
    "    for epoch in range(num_epochs):\n",
    "        for j, (data, lengths, labels) in enumerate(train_loader):\n",
    "            model.train()\n",
    "            data_batch, length_batch, label_batch = data, lengths, labels\n",
    "            optimizer.zero_grad()\n",
    "            outputs = model(data_batch, length_batch)\n",
    "            loss = criterion(outputs, label_batch)\n",
    "            loss.backward()\n",
    "            optimizer.step()\n",
    "            # validate every 100 iterations\n",
    "            if j > 0 and j % 100 == 0:\n",
    "                # validate\n",
    "                val_acc = test_model(val_loader, model)\n",
    "                experiment_validation_accuracy_list[i].append(val_acc)\n",
    "                print('Epoch: [{}/{}], Step: [{}/{}], Validation Acc: {}'.format( \n",
    "                           epoch+1, num_epochs, j+1, len(train_loader), val_acc))\n",
    "\n",
    "\n",
    "    "
   ]
  },
  {
   "cell_type": "code",
   "execution_count": 91,
   "metadata": {},
   "outputs": [
    {
     "data": {
      "text/plain": [
       "70"
      ]
     },
     "execution_count": 91,
     "metadata": {},
     "output_type": "execute_result"
    }
   ],
   "source": [
    "len(experiment_validation_accuracy_list[2])"
   ]
  },
  {
   "cell_type": "code",
   "execution_count": 92,
   "metadata": {},
   "outputs": [
    {
     "data": {
      "text/plain": [
       "<matplotlib.legend.Legend at 0x12029a128>"
      ]
     },
     "execution_count": 92,
     "metadata": {},
     "output_type": "execute_result"
    },
    {
     "data": {
      "image/png": "[encoded data removed]",
      "text/plain": [
       "<Figure size 432x288 with 1 Axes>"
      ]
     },
     "metadata": {
      "needs_background": "light"
     },
     "output_type": "display_data"
    }
   ],
   "source": [
    "plt.figure()\n",
    "plt.plot(list(range(len(experiment_validation_accuracy_list[0]))),experiment_validation_accuracy_list[0], label = 'scheme3_1gram')\n",
    "plt.plot(list(range(len(experiment_validation_accuracy_list[0]))),experiment_validation_accuracy_list[1], label = 'scheme3_2gram')\n",
    "plt.plot(list(range(len(experiment_validation_accuracy_list[0]))),experiment_validation_accuracy_list[2], label = 'scheme3_3gram')\n",
    "plt.plot(list(range(len(experiment_validation_accuracy_list[0]))),experiment_validation_accuracy_list[3], label = 'scheme3_4gram')\n",
    "plt.xlabel('hundred iterations')\n",
    "plt.ylabel('validation accuracy')\n",
    "plt.legend()"
   ]
  },
  {
   "cell_type": "code",
   "execution_count": 136,
   "metadata": {},
   "outputs": [
    {
     "name": "stdout",
     "output_type": "stream",
     "text": [
      "max validation accuracy achieved for 1 gram is 88.26\n",
      "max validation accuracy achieved for 2 gram is 88.92\n",
      "max validation accuracy achieved for 3 gram is 88.78\n",
      "max validation accuracy achieved for 4 gram is 88.88\n"
     ]
    }
   ],
   "source": [
    "#print('max validation accuracy achieved for 1 gram is {}'.format(np.max(experiment_validation_accuracy_list[0])))\n",
    "#print('max validation accuracy achieved for 2 gram is {}'.format(np.max(experiment_validation_accuracy_list[1])))\n",
    "#print('max validation accuracy achieved for 3 gram is {}'.format(np.max(experiment_validation_accuracy_list[2])))\n",
    "#print('max validation accuracy achieved for 4 gram is {}'.format(np.max(experiment_validation_accuracy_list[3])))"
   ]
  },
  {
   "cell_type": "raw",
   "metadata": {},
   "source": [
    "conclusion: select n=4"
   ]
  },
  {
   "cell_type": "markdown",
   "metadata": {},
   "source": [
    "## Part3. Experiment with different vocabulary size"
   ]
  },
  {
   "cell_type": "code",
   "execution_count": 93,
   "metadata": {},
   "outputs": [],
   "source": [
    "train_targets_class = pkl.load(open(\"train_targets_class.p\", \"rb\"))\n",
    "train_targets_values = pkl.load(open(\"train_targets_values.p\", \"rb\"))\n",
    "val_targets_class = pkl.load(open(\"val_targets_class.p\", \"rb\"))\n",
    "val_targets_values = pkl.load(open(\"val_targets_values.p\", \"rb\"))\n",
    "test_targets_class = pkl.load(open(\"test_targets_class.p\", \"rb\"))\n",
    "test_targets_values = pkl.load(open(\"test_targets_values.p\", \"rb\"))\n",
    "\n",
    "#convert 'pos' into 1, 'neg' into 0\n",
    "train_targets_class = convert(train_targets_class)\n",
    "val_targets_class = convert(val_targets_class)\n",
    "test_targets_class = convert(test_targets_class)"
   ]
  },
  {
   "cell_type": "code",
   "execution_count": 94,
   "metadata": {},
   "outputs": [
    {
     "name": "stdout",
     "output_type": "stream",
     "text": [
      "Train dataset size is 20000\n",
      "Val dataset size is 5000\n",
      "Test dataset size is 25000\n",
      "Total number of tokens in train dataset is 16579672\n"
     ]
    }
   ],
   "source": [
    "train_data_tokens = pkl.load(open(\"train_data_tokens_scheme3_4gram.p\", \"rb\"))\n",
    "all_train_tokens = pkl.load(open(\"all_train_tokens_scheme3_4gram.p\", \"rb\"))\n",
    "\n",
    "val_data_tokens = pkl.load(open(\"val_data_tokens_scheme3_4gram.p\", \"rb\"))\n",
    "test_data_tokens = pkl.load(open(\"test_data_tokens_scheme3_4gram.p\", \"rb\"))\n",
    "\n",
    "# double checking\n",
    "print (\"Train dataset size is {}\".format(len(train_data_tokens)))\n",
    "print (\"Val dataset size is {}\".format(len(val_data_tokens)))\n",
    "print (\"Test dataset size is {}\".format(len(test_data_tokens)))\n",
    "\n",
    "print (\"Total number of tokens in train dataset is {}\".format(len(all_train_tokens)))"
   ]
  },
  {
   "cell_type": "code",
   "execution_count": 100,
   "metadata": {},
   "outputs": [],
   "source": [
    "experiment_maxvocab_size = [int(1e3), int(1e4), int(1e5), int(1e6)]"
   ]
  },
  {
   "cell_type": "code",
   "execution_count": 103,
   "metadata": {},
   "outputs": [
    {
     "name": "stdout",
     "output_type": "stream",
     "text": [
      "Train dataset size is 20000\n",
      "Val dataset size is 5000\n",
      "Test dataset size is 25000\n",
      "Epoch: [1/10], Step: [101/625], Validation Acc: 75.72\n",
      "Epoch: [1/10], Step: [201/625], Validation Acc: 75.92\n",
      "Epoch: [1/10], Step: [301/625], Validation Acc: 77.9\n",
      "Epoch: [1/10], Step: [401/625], Validation Acc: 78.92\n",
      "Epoch: [1/10], Step: [501/625], Validation Acc: 82.96\n",
      "Epoch: [1/10], Step: [601/625], Validation Acc: 82.72\n",
      "Epoch: [2/10], Step: [101/625], Validation Acc: 82.3\n",
      "Epoch: [2/10], Step: [201/625], Validation Acc: 81.38\n",
      "Epoch: [2/10], Step: [301/625], Validation Acc: 81.86\n",
      "Epoch: [2/10], Step: [401/625], Validation Acc: 82.0\n",
      "Epoch: [2/10], Step: [501/625], Validation Acc: 82.98\n",
      "Epoch: [2/10], Step: [601/625], Validation Acc: 82.88\n",
      "Epoch: [3/10], Step: [101/625], Validation Acc: 83.04\n",
      "Epoch: [3/10], Step: [201/625], Validation Acc: 83.18\n",
      "Epoch: [3/10], Step: [301/625], Validation Acc: 81.02\n",
      "Epoch: [3/10], Step: [401/625], Validation Acc: 82.46\n",
      "Epoch: [3/10], Step: [501/625], Validation Acc: 82.68\n",
      "Epoch: [3/10], Step: [601/625], Validation Acc: 82.3\n",
      "Epoch: [4/10], Step: [101/625], Validation Acc: 83.14\n",
      "Epoch: [4/10], Step: [201/625], Validation Acc: 82.88\n",
      "Epoch: [4/10], Step: [301/625], Validation Acc: 81.88\n",
      "Epoch: [4/10], Step: [401/625], Validation Acc: 82.06\n",
      "Epoch: [4/10], Step: [501/625], Validation Acc: 82.98\n",
      "Epoch: [4/10], Step: [601/625], Validation Acc: 82.72\n",
      "Epoch: [5/10], Step: [101/625], Validation Acc: 82.36\n",
      "Epoch: [5/10], Step: [201/625], Validation Acc: 81.2\n",
      "Epoch: [5/10], Step: [301/625], Validation Acc: 81.74\n",
      "Epoch: [5/10], Step: [401/625], Validation Acc: 83.16\n",
      "Epoch: [5/10], Step: [501/625], Validation Acc: 82.92\n",
      "Epoch: [5/10], Step: [601/625], Validation Acc: 82.9\n",
      "Epoch: [6/10], Step: [101/625], Validation Acc: 81.74\n",
      "Epoch: [6/10], Step: [201/625], Validation Acc: 82.28\n",
      "Epoch: [6/10], Step: [301/625], Validation Acc: 82.98\n",
      "Epoch: [6/10], Step: [401/625], Validation Acc: 82.4\n",
      "Epoch: [6/10], Step: [501/625], Validation Acc: 83.08\n",
      "Epoch: [6/10], Step: [601/625], Validation Acc: 82.62\n",
      "Epoch: [7/10], Step: [101/625], Validation Acc: 80.44\n",
      "Epoch: [7/10], Step: [201/625], Validation Acc: 82.64\n",
      "Epoch: [7/10], Step: [301/625], Validation Acc: 82.78\n",
      "Epoch: [7/10], Step: [401/625], Validation Acc: 83.16\n",
      "Epoch: [7/10], Step: [501/625], Validation Acc: 82.96\n",
      "Epoch: [7/10], Step: [601/625], Validation Acc: 83.2\n",
      "Epoch: [8/10], Step: [101/625], Validation Acc: 83.12\n",
      "Epoch: [8/10], Step: [201/625], Validation Acc: 82.96\n",
      "Epoch: [8/10], Step: [301/625], Validation Acc: 83.08\n",
      "Epoch: [8/10], Step: [401/625], Validation Acc: 83.12\n",
      "Epoch: [8/10], Step: [501/625], Validation Acc: 82.88\n",
      "Epoch: [8/10], Step: [601/625], Validation Acc: 81.76\n",
      "Epoch: [9/10], Step: [101/625], Validation Acc: 82.42\n",
      "Epoch: [9/10], Step: [201/625], Validation Acc: 83.02\n",
      "Epoch: [9/10], Step: [301/625], Validation Acc: 82.34\n",
      "Epoch: [9/10], Step: [401/625], Validation Acc: 82.82\n",
      "Epoch: [9/10], Step: [501/625], Validation Acc: 83.08\n",
      "Epoch: [9/10], Step: [601/625], Validation Acc: 83.08\n",
      "Epoch: [10/10], Step: [101/625], Validation Acc: 81.78\n",
      "Epoch: [10/10], Step: [201/625], Validation Acc: 82.24\n",
      "Epoch: [10/10], Step: [301/625], Validation Acc: 82.94\n",
      "Epoch: [10/10], Step: [401/625], Validation Acc: 83.24\n",
      "Epoch: [10/10], Step: [501/625], Validation Acc: 81.82\n",
      "Epoch: [10/10], Step: [601/625], Validation Acc: 82.66\n",
      "Train dataset size is 20000\n",
      "Val dataset size is 5000\n",
      "Test dataset size is 25000\n",
      "Epoch: [1/10], Step: [101/625], Validation Acc: 62.7\n",
      "Epoch: [1/10], Step: [201/625], Validation Acc: 84.14\n",
      "Epoch: [1/10], Step: [301/625], Validation Acc: 86.28\n",
      "Epoch: [1/10], Step: [401/625], Validation Acc: 81.4\n",
      "Epoch: [1/10], Step: [501/625], Validation Acc: 87.58\n",
      "Epoch: [1/10], Step: [601/625], Validation Acc: 87.56\n",
      "Epoch: [2/10], Step: [101/625], Validation Acc: 87.4\n",
      "Epoch: [2/10], Step: [201/625], Validation Acc: 87.8\n",
      "Epoch: [2/10], Step: [301/625], Validation Acc: 87.26\n",
      "Epoch: [2/10], Step: [401/625], Validation Acc: 85.64\n",
      "Epoch: [2/10], Step: [501/625], Validation Acc: 87.46\n",
      "Epoch: [2/10], Step: [601/625], Validation Acc: 86.96\n",
      "Epoch: [3/10], Step: [101/625], Validation Acc: 87.28\n",
      "Epoch: [3/10], Step: [201/625], Validation Acc: 87.2\n",
      "Epoch: [3/10], Step: [301/625], Validation Acc: 86.4\n",
      "Epoch: [3/10], Step: [401/625], Validation Acc: 87.02\n",
      "Epoch: [3/10], Step: [501/625], Validation Acc: 86.96\n",
      "Epoch: [3/10], Step: [601/625], Validation Acc: 86.58\n",
      "Epoch: [4/10], Step: [101/625], Validation Acc: 86.3\n",
      "Epoch: [4/10], Step: [201/625], Validation Acc: 86.48\n",
      "Epoch: [4/10], Step: [301/625], Validation Acc: 86.0\n",
      "Epoch: [4/10], Step: [401/625], Validation Acc: 86.2\n",
      "Epoch: [4/10], Step: [501/625], Validation Acc: 86.04\n",
      "Epoch: [4/10], Step: [601/625], Validation Acc: 85.72\n",
      "Epoch: [5/10], Step: [101/625], Validation Acc: 86.26\n",
      "Epoch: [5/10], Step: [201/625], Validation Acc: 86.2\n",
      "Epoch: [5/10], Step: [301/625], Validation Acc: 86.06\n",
      "Epoch: [5/10], Step: [401/625], Validation Acc: 85.0\n",
      "Epoch: [5/10], Step: [501/625], Validation Acc: 85.44\n",
      "Epoch: [5/10], Step: [601/625], Validation Acc: 85.9\n",
      "Epoch: [6/10], Step: [101/625], Validation Acc: 85.32\n",
      "Epoch: [6/10], Step: [201/625], Validation Acc: 85.74\n",
      "Epoch: [6/10], Step: [301/625], Validation Acc: 85.08\n",
      "Epoch: [6/10], Step: [401/625], Validation Acc: 84.94\n",
      "Epoch: [6/10], Step: [501/625], Validation Acc: 85.28\n",
      "Epoch: [6/10], Step: [601/625], Validation Acc: 85.12\n",
      "Epoch: [7/10], Step: [101/625], Validation Acc: 84.92\n",
      "Epoch: [7/10], Step: [201/625], Validation Acc: 84.88\n",
      "Epoch: [7/10], Step: [301/625], Validation Acc: 85.06\n",
      "Epoch: [7/10], Step: [401/625], Validation Acc: 85.12\n",
      "Epoch: [7/10], Step: [501/625], Validation Acc: 84.76\n",
      "Epoch: [7/10], Step: [601/625], Validation Acc: 84.76\n",
      "Epoch: [8/10], Step: [101/625], Validation Acc: 84.68\n",
      "Epoch: [8/10], Step: [201/625], Validation Acc: 84.62\n",
      "Epoch: [8/10], Step: [301/625], Validation Acc: 84.68\n",
      "Epoch: [8/10], Step: [401/625], Validation Acc: 84.82\n",
      "Epoch: [8/10], Step: [501/625], Validation Acc: 84.36\n",
      "Epoch: [8/10], Step: [601/625], Validation Acc: 85.0\n",
      "Epoch: [9/10], Step: [101/625], Validation Acc: 84.64\n",
      "Epoch: [9/10], Step: [201/625], Validation Acc: 84.64\n",
      "Epoch: [9/10], Step: [301/625], Validation Acc: 84.56\n",
      "Epoch: [9/10], Step: [401/625], Validation Acc: 84.6\n",
      "Epoch: [9/10], Step: [501/625], Validation Acc: 84.48\n",
      "Epoch: [9/10], Step: [601/625], Validation Acc: 83.78\n",
      "Epoch: [10/10], Step: [101/625], Validation Acc: 84.48\n",
      "Epoch: [10/10], Step: [201/625], Validation Acc: 84.46\n",
      "Epoch: [10/10], Step: [301/625], Validation Acc: 84.48\n",
      "Epoch: [10/10], Step: [401/625], Validation Acc: 84.44\n",
      "Epoch: [10/10], Step: [501/625], Validation Acc: 84.12\n",
      "Epoch: [10/10], Step: [601/625], Validation Acc: 83.84\n",
      "Train dataset size is 20000\n",
      "Val dataset size is 5000\n",
      "Test dataset size is 25000\n",
      "Epoch: [1/10], Step: [101/625], Validation Acc: 81.3\n",
      "Epoch: [1/10], Step: [201/625], Validation Acc: 84.46\n",
      "Epoch: [1/10], Step: [301/625], Validation Acc: 87.08\n",
      "Epoch: [1/10], Step: [401/625], Validation Acc: 88.22\n",
      "Epoch: [1/10], Step: [501/625], Validation Acc: 88.6\n",
      "Epoch: [1/10], Step: [601/625], Validation Acc: 88.36\n",
      "Epoch: [2/10], Step: [101/625], Validation Acc: 89.0\n",
      "Epoch: [2/10], Step: [201/625], Validation Acc: 88.52\n",
      "Epoch: [2/10], Step: [301/625], Validation Acc: 88.78\n",
      "Epoch: [2/10], Step: [401/625], Validation Acc: 88.42\n",
      "Epoch: [2/10], Step: [501/625], Validation Acc: 88.64\n",
      "Epoch: [2/10], Step: [601/625], Validation Acc: 88.4\n",
      "Epoch: [3/10], Step: [101/625], Validation Acc: 88.32\n",
      "Epoch: [3/10], Step: [201/625], Validation Acc: 88.4\n",
      "Epoch: [3/10], Step: [301/625], Validation Acc: 88.16\n",
      "Epoch: [3/10], Step: [401/625], Validation Acc: 88.52\n",
      "Epoch: [3/10], Step: [501/625], Validation Acc: 88.52\n",
      "Epoch: [3/10], Step: [601/625], Validation Acc: 88.52\n",
      "Epoch: [4/10], Step: [101/625], Validation Acc: 88.28\n",
      "Epoch: [4/10], Step: [201/625], Validation Acc: 88.56\n",
      "Epoch: [4/10], Step: [301/625], Validation Acc: 88.32\n",
      "Epoch: [4/10], Step: [401/625], Validation Acc: 88.48\n",
      "Epoch: [4/10], Step: [501/625], Validation Acc: 88.44\n",
      "Epoch: [4/10], Step: [601/625], Validation Acc: 88.42\n",
      "Epoch: [5/10], Step: [101/625], Validation Acc: 88.5\n",
      "Epoch: [5/10], Step: [201/625], Validation Acc: 88.5\n",
      "Epoch: [5/10], Step: [301/625], Validation Acc: 88.44\n",
      "Epoch: [5/10], Step: [401/625], Validation Acc: 88.56\n"
     ]
    },
    {
     "name": "stdout",
     "output_type": "stream",
     "text": [
      "Epoch: [5/10], Step: [501/625], Validation Acc: 88.5\n",
      "Epoch: [5/10], Step: [601/625], Validation Acc: 88.48\n",
      "Epoch: [6/10], Step: [101/625], Validation Acc: 88.48\n",
      "Epoch: [6/10], Step: [201/625], Validation Acc: 88.38\n",
      "Epoch: [6/10], Step: [301/625], Validation Acc: 88.48\n",
      "Epoch: [6/10], Step: [401/625], Validation Acc: 88.46\n",
      "Epoch: [6/10], Step: [501/625], Validation Acc: 88.44\n",
      "Epoch: [6/10], Step: [601/625], Validation Acc: 88.52\n",
      "Epoch: [7/10], Step: [101/625], Validation Acc: 88.48\n",
      "Epoch: [7/10], Step: [201/625], Validation Acc: 88.52\n",
      "Epoch: [7/10], Step: [301/625], Validation Acc: 88.56\n",
      "Epoch: [7/10], Step: [401/625], Validation Acc: 88.62\n",
      "Epoch: [7/10], Step: [501/625], Validation Acc: 88.56\n",
      "Epoch: [7/10], Step: [601/625], Validation Acc: 88.52\n",
      "Epoch: [8/10], Step: [101/625], Validation Acc: 88.5\n",
      "Epoch: [8/10], Step: [201/625], Validation Acc: 88.64\n",
      "Epoch: [8/10], Step: [301/625], Validation Acc: 88.56\n",
      "Epoch: [8/10], Step: [401/625], Validation Acc: 88.58\n",
      "Epoch: [8/10], Step: [501/625], Validation Acc: 88.6\n",
      "Epoch: [8/10], Step: [601/625], Validation Acc: 88.56\n",
      "Epoch: [9/10], Step: [101/625], Validation Acc: 88.54\n",
      "Epoch: [9/10], Step: [201/625], Validation Acc: 88.58\n",
      "Epoch: [9/10], Step: [301/625], Validation Acc: 88.56\n",
      "Epoch: [9/10], Step: [401/625], Validation Acc: 88.56\n",
      "Epoch: [9/10], Step: [501/625], Validation Acc: 88.6\n",
      "Epoch: [9/10], Step: [601/625], Validation Acc: 88.6\n",
      "Epoch: [10/10], Step: [101/625], Validation Acc: 88.56\n",
      "Epoch: [10/10], Step: [201/625], Validation Acc: 88.6\n",
      "Epoch: [10/10], Step: [301/625], Validation Acc: 88.62\n",
      "Epoch: [10/10], Step: [401/625], Validation Acc: 88.66\n",
      "Epoch: [10/10], Step: [501/625], Validation Acc: 88.64\n",
      "Epoch: [10/10], Step: [601/625], Validation Acc: 88.54\n",
      "Train dataset size is 20000\n",
      "Val dataset size is 5000\n",
      "Test dataset size is 25000\n",
      "Epoch: [1/10], Step: [101/625], Validation Acc: 78.58\n",
      "Epoch: [1/10], Step: [201/625], Validation Acc: 86.46\n",
      "Epoch: [1/10], Step: [301/625], Validation Acc: 87.08\n",
      "Epoch: [1/10], Step: [401/625], Validation Acc: 87.96\n",
      "Epoch: [1/10], Step: [501/625], Validation Acc: 86.08\n",
      "Epoch: [1/10], Step: [601/625], Validation Acc: 88.76\n",
      "Epoch: [2/10], Step: [101/625], Validation Acc: 89.02\n",
      "Epoch: [2/10], Step: [201/625], Validation Acc: 89.04\n",
      "Epoch: [2/10], Step: [301/625], Validation Acc: 88.8\n",
      "Epoch: [2/10], Step: [401/625], Validation Acc: 89.06\n",
      "Epoch: [2/10], Step: [501/625], Validation Acc: 88.4\n",
      "Epoch: [2/10], Step: [601/625], Validation Acc: 88.26\n",
      "Epoch: [3/10], Step: [101/625], Validation Acc: 89.22\n",
      "Epoch: [3/10], Step: [201/625], Validation Acc: 89.12\n",
      "Epoch: [3/10], Step: [301/625], Validation Acc: 89.16\n",
      "Epoch: [3/10], Step: [401/625], Validation Acc: 89.24\n",
      "Epoch: [3/10], Step: [501/625], Validation Acc: 89.22\n",
      "Epoch: [3/10], Step: [601/625], Validation Acc: 89.18\n",
      "Epoch: [4/10], Step: [101/625], Validation Acc: 89.36\n",
      "Epoch: [4/10], Step: [201/625], Validation Acc: 89.34\n",
      "Epoch: [4/10], Step: [301/625], Validation Acc: 89.28\n",
      "Epoch: [4/10], Step: [401/625], Validation Acc: 89.32\n",
      "Epoch: [4/10], Step: [501/625], Validation Acc: 89.28\n",
      "Epoch: [4/10], Step: [601/625], Validation Acc: 89.34\n",
      "Epoch: [5/10], Step: [101/625], Validation Acc: 89.3\n",
      "Epoch: [5/10], Step: [201/625], Validation Acc: 89.28\n",
      "Epoch: [5/10], Step: [301/625], Validation Acc: 89.26\n",
      "Epoch: [5/10], Step: [401/625], Validation Acc: 89.32\n",
      "Epoch: [5/10], Step: [501/625], Validation Acc: 89.28\n",
      "Epoch: [5/10], Step: [601/625], Validation Acc: 89.28\n",
      "Epoch: [6/10], Step: [101/625], Validation Acc: 89.24\n",
      "Epoch: [6/10], Step: [201/625], Validation Acc: 89.28\n",
      "Epoch: [6/10], Step: [301/625], Validation Acc: 89.28\n",
      "Epoch: [6/10], Step: [401/625], Validation Acc: 89.22\n",
      "Epoch: [6/10], Step: [501/625], Validation Acc: 89.28\n",
      "Epoch: [6/10], Step: [601/625], Validation Acc: 89.28\n",
      "Epoch: [7/10], Step: [101/625], Validation Acc: 89.26\n",
      "Epoch: [7/10], Step: [201/625], Validation Acc: 89.28\n",
      "Epoch: [7/10], Step: [301/625], Validation Acc: 89.26\n",
      "Epoch: [7/10], Step: [401/625], Validation Acc: 89.26\n",
      "Epoch: [7/10], Step: [501/625], Validation Acc: 89.36\n",
      "Epoch: [7/10], Step: [601/625], Validation Acc: 89.3\n",
      "Epoch: [8/10], Step: [101/625], Validation Acc: 89.2\n",
      "Epoch: [8/10], Step: [201/625], Validation Acc: 89.24\n",
      "Epoch: [8/10], Step: [301/625], Validation Acc: 89.32\n",
      "Epoch: [8/10], Step: [401/625], Validation Acc: 89.22\n",
      "Epoch: [8/10], Step: [501/625], Validation Acc: 89.28\n",
      "Epoch: [8/10], Step: [601/625], Validation Acc: 89.32\n",
      "Epoch: [9/10], Step: [101/625], Validation Acc: 89.24\n",
      "Epoch: [9/10], Step: [201/625], Validation Acc: 89.3\n",
      "Epoch: [9/10], Step: [301/625], Validation Acc: 89.26\n",
      "Epoch: [9/10], Step: [401/625], Validation Acc: 89.34\n",
      "Epoch: [9/10], Step: [501/625], Validation Acc: 89.32\n",
      "Epoch: [9/10], Step: [601/625], Validation Acc: 89.32\n",
      "Epoch: [10/10], Step: [101/625], Validation Acc: 89.26\n",
      "Epoch: [10/10], Step: [201/625], Validation Acc: 89.24\n",
      "Epoch: [10/10], Step: [301/625], Validation Acc: 89.26\n",
      "Epoch: [10/10], Step: [401/625], Validation Acc: 89.3\n",
      "Epoch: [10/10], Step: [501/625], Validation Acc: 89.26\n",
      "Epoch: [10/10], Step: [601/625], Validation Acc: 89.28\n"
     ]
    }
   ],
   "source": [
    "MAX_SENTENCE_LENGTH = 200\n",
    "BATCH_SIZE = 32\n",
    "emb_dim = 100\n",
    "num_epochs = 10 \n",
    "\n",
    "experiment_maxvocab_validation_accuracy_list = [[],[],[],[]]\n",
    "for i in range(len(experiment_maxvocab_size)):\n",
    "    max_vocab_size = experiment_maxvocab_size[i]\n",
    "    token2id, id2token = build_vocab(all_train_tokens)\n",
    "    train_data_indices = token2index_dataset(train_data_tokens)\n",
    "    val_data_indices = token2index_dataset(val_data_tokens)\n",
    "    test_data_indices = token2index_dataset(test_data_tokens)\n",
    "    \n",
    "    print (\"Train dataset size is {}\".format(len(train_data_indices)))\n",
    "    print (\"Val dataset size is {}\".format(len(val_data_indices)))\n",
    "    print (\"Test dataset size is {}\".format(len(test_data_indices)))\n",
    "    \n",
    "    train_dataset = NewsGroupDataset(train_data_indices, train_targets_class)\n",
    "    train_loader = torch.utils.data.DataLoader(dataset=train_dataset, \n",
    "                                           batch_size=BATCH_SIZE,\n",
    "                                           collate_fn=newsgroup_collate_func,\n",
    "                                           shuffle=True)\n",
    "\n",
    "    val_dataset = NewsGroupDataset(val_data_indices, val_targets_class)\n",
    "    val_loader = torch.utils.data.DataLoader(dataset=val_dataset, \n",
    "                                           batch_size=BATCH_SIZE,\n",
    "                                           collate_fn=newsgroup_collate_func,\n",
    "                                           shuffle=True)\n",
    "\n",
    "    model = BagOfWords(len(id2token), emb_dim)\n",
    "    \n",
    "    criterion = torch.nn.CrossEntropyLoss()  \n",
    "    optimizer = torch.optim.Adam(model.parameters(), lr=learning_rate)\n",
    "    \n",
    "    for epoch in range(num_epochs):\n",
    "        for j, (data, lengths, labels) in enumerate(train_loader):\n",
    "            model.train()\n",
    "            data_batch, length_batch, label_batch = data, lengths, labels\n",
    "            optimizer.zero_grad()\n",
    "            outputs = model(data_batch, length_batch)\n",
    "            loss = criterion(outputs, label_batch)\n",
    "            loss.backward()\n",
    "            optimizer.step()\n",
    "            # validate every 100 iterations\n",
    "            if j > 0 and j % 100 == 0:\n",
    "                # validate\n",
    "                val_acc = test_model(val_loader, model)\n",
    "                experiment_maxvocab_validation_accuracy_list[i].append(val_acc)\n",
    "                print('Epoch: [{}/{}], Step: [{}/{}], Validation Acc: {}'.format( \n",
    "                           epoch+1, num_epochs, j+1, len(train_loader), val_acc))\n",
    "\n",
    "\n",
    "    "
   ]
  },
  {
   "cell_type": "code",
   "execution_count": 105,
   "metadata": {},
   "outputs": [
    {
     "data": {
      "text/plain": [
       "<matplotlib.legend.Legend at 0x12cd8fdd8>"
      ]
     },
     "execution_count": 105,
     "metadata": {},
     "output_type": "execute_result"
    },
    {
     "data": {
      "image/png": "[encoded data removed]",
      "text/plain": [
       "<Figure size 432x288 with 1 Axes>"
      ]
     },
     "metadata": {
      "needs_background": "light"
     },
     "output_type": "display_data"
    }
   ],
   "source": [
    "plt.figure()\n",
    "plt.plot(list(range(len(experiment_maxvocab_validation_accuracy_list[0]))),experiment_maxvocab_validation_accuracy_list[0], label = 'scheme3_4gram_Maxvocab1000')\n",
    "plt.plot(list(range(len(experiment_maxvocab_validation_accuracy_list[0]))),experiment_maxvocab_validation_accuracy_list[1], label = 'scheme3_4gram_Maxvocab10000')\n",
    "plt.plot(list(range(len(experiment_maxvocab_validation_accuracy_list[0]))),experiment_maxvocab_validation_accuracy_list[2], label = 'scheme3_4gram_Maxvocab100000')\n",
    "plt.plot(list(range(len(experiment_maxvocab_validation_accuracy_list[0]))),experiment_maxvocab_validation_accuracy_list[3], label = 'scheme3_4gram_Maxvocab1000000')\n",
    "plt.xlabel('hundred iterations')\n",
    "plt.ylabel('validation accuracy')\n",
    "plt.legend()"
   ]
  },
  {
   "cell_type": "raw",
   "metadata": {},
   "source": [
    "#conclusion: Maxvocab 1000000 better, however, using max_vocab size of 1000000 takes substaintially longer time, while the gain is slim. So for the following experiment, I choose to use 100000"
   ]
  },
  {
   "cell_type": "code",
   "execution_count": null,
   "metadata": {},
   "outputs": [],
   "source": []
  },
  {
   "cell_type": "code",
   "execution_count": null,
   "metadata": {},
   "outputs": [],
   "source": []
  },
  {
   "cell_type": "markdown",
   "metadata": {},
   "source": [
    "## Experiment with Embedding size"
   ]
  },
  {
   "cell_type": "code",
   "execution_count": 116,
   "metadata": {},
   "outputs": [],
   "source": [
    "train_targets_class = pkl.load(open(\"train_targets_class.p\", \"rb\"))\n",
    "train_targets_values = pkl.load(open(\"train_targets_values.p\", \"rb\"))\n",
    "val_targets_class = pkl.load(open(\"val_targets_class.p\", \"rb\"))\n",
    "val_targets_values = pkl.load(open(\"val_targets_values.p\", \"rb\"))\n",
    "test_targets_class = pkl.load(open(\"test_targets_class.p\", \"rb\"))\n",
    "test_targets_values = pkl.load(open(\"test_targets_values.p\", \"rb\"))\n",
    "\n",
    "#convert 'pos' into 1, 'neg' into 0\n",
    "train_targets_class = convert(train_targets_class)\n",
    "val_targets_class = convert(val_targets_class)\n",
    "test_targets_class = convert(test_targets_class)"
   ]
  },
  {
   "cell_type": "code",
   "execution_count": 117,
   "metadata": {},
   "outputs": [
    {
     "name": "stdout",
     "output_type": "stream",
     "text": [
      "Train dataset size is 20000\n",
      "Val dataset size is 5000\n",
      "Test dataset size is 25000\n",
      "Total number of tokens in train dataset is 16579672\n"
     ]
    }
   ],
   "source": [
    "train_data_tokens = pkl.load(open(\"train_data_tokens_scheme3_4gram.p\", \"rb\"))\n",
    "all_train_tokens = pkl.load(open(\"all_train_tokens_scheme3_4gram.p\", \"rb\"))\n",
    "\n",
    "val_data_tokens = pkl.load(open(\"val_data_tokens_scheme3_4gram.p\", \"rb\"))\n",
    "test_data_tokens = pkl.load(open(\"test_data_tokens_scheme3_4gram.p\", \"rb\"))\n",
    "\n",
    "# double checking\n",
    "print (\"Train dataset size is {}\".format(len(train_data_tokens)))\n",
    "print (\"Val dataset size is {}\".format(len(val_data_tokens)))\n",
    "print (\"Test dataset size is {}\".format(len(test_data_tokens)))\n",
    "\n",
    "print (\"Total number of tokens in train dataset is {}\".format(len(all_train_tokens)))"
   ]
  },
  {
   "cell_type": "code",
   "execution_count": 130,
   "metadata": {},
   "outputs": [],
   "source": [
    "experiment_embed_size = [50, 100, 200, 300, 500]"
   ]
  },
  {
   "cell_type": "code",
   "execution_count": 131,
   "metadata": {},
   "outputs": [
    {
     "name": "stdout",
     "output_type": "stream",
     "text": [
      "Train dataset size is 20000\n",
      "Val dataset size is 5000\n",
      "Test dataset size is 25000\n",
      "\n",
      "\n",
      "Epoch: [1/10], Step: [101/625], Validation Acc: 82.1\n",
      "Epoch: [1/10], Step: [201/625], Validation Acc: 86.02\n",
      "Epoch: [1/10], Step: [301/625], Validation Acc: 87.64\n",
      "Epoch: [1/10], Step: [401/625], Validation Acc: 88.32\n",
      "Epoch: [1/10], Step: [501/625], Validation Acc: 88.98\n",
      "Epoch: [1/10], Step: [601/625], Validation Acc: 89.26\n",
      "Epoch: [2/10], Step: [101/625], Validation Acc: 88.96\n",
      "Epoch: [2/10], Step: [201/625], Validation Acc: 89.0\n",
      "Epoch: [2/10], Step: [301/625], Validation Acc: 88.88\n",
      "Epoch: [2/10], Step: [401/625], Validation Acc: 88.64\n",
      "Epoch: [2/10], Step: [501/625], Validation Acc: 88.38\n",
      "Epoch: [2/10], Step: [601/625], Validation Acc: 88.62\n",
      "Epoch: [3/10], Step: [101/625], Validation Acc: 88.86\n",
      "Epoch: [3/10], Step: [201/625], Validation Acc: 88.66\n",
      "Epoch: [3/10], Step: [301/625], Validation Acc: 88.66\n",
      "Epoch: [3/10], Step: [401/625], Validation Acc: 88.74\n",
      "Epoch: [3/10], Step: [501/625], Validation Acc: 88.86\n",
      "Epoch: [3/10], Step: [601/625], Validation Acc: 88.52\n",
      "Epoch: [4/10], Step: [101/625], Validation Acc: 88.66\n",
      "Epoch: [4/10], Step: [201/625], Validation Acc: 88.62\n",
      "Epoch: [4/10], Step: [301/625], Validation Acc: 88.62\n",
      "Epoch: [4/10], Step: [401/625], Validation Acc: 88.74\n",
      "Epoch: [4/10], Step: [501/625], Validation Acc: 88.66\n",
      "Epoch: [4/10], Step: [601/625], Validation Acc: 88.6\n",
      "Epoch: [5/10], Step: [101/625], Validation Acc: 88.66\n",
      "Epoch: [5/10], Step: [201/625], Validation Acc: 88.72\n",
      "Epoch: [5/10], Step: [301/625], Validation Acc: 88.74\n",
      "Epoch: [5/10], Step: [401/625], Validation Acc: 88.68\n",
      "Epoch: [5/10], Step: [501/625], Validation Acc: 88.68\n",
      "Epoch: [5/10], Step: [601/625], Validation Acc: 88.78\n",
      "Epoch: [6/10], Step: [101/625], Validation Acc: 88.6\n",
      "Epoch: [6/10], Step: [201/625], Validation Acc: 88.76\n",
      "Epoch: [6/10], Step: [301/625], Validation Acc: 88.76\n",
      "Epoch: [6/10], Step: [401/625], Validation Acc: 88.8\n",
      "Epoch: [6/10], Step: [501/625], Validation Acc: 88.76\n",
      "Epoch: [6/10], Step: [601/625], Validation Acc: 88.7\n",
      "Epoch: [7/10], Step: [101/625], Validation Acc: 88.74\n",
      "Epoch: [7/10], Step: [201/625], Validation Acc: 88.66\n",
      "Epoch: [7/10], Step: [301/625], Validation Acc: 88.74\n",
      "Epoch: [7/10], Step: [401/625], Validation Acc: 88.68\n",
      "Epoch: [7/10], Step: [501/625], Validation Acc: 88.68\n",
      "Epoch: [7/10], Step: [601/625], Validation Acc: 88.66\n",
      "Epoch: [8/10], Step: [101/625], Validation Acc: 88.7\n",
      "Epoch: [8/10], Step: [201/625], Validation Acc: 88.68\n",
      "Epoch: [8/10], Step: [301/625], Validation Acc: 88.62\n",
      "Epoch: [8/10], Step: [401/625], Validation Acc: 88.66\n",
      "Epoch: [8/10], Step: [501/625], Validation Acc: 88.66\n",
      "Epoch: [8/10], Step: [601/625], Validation Acc: 88.7\n",
      "Epoch: [9/10], Step: [101/625], Validation Acc: 88.78\n",
      "Epoch: [9/10], Step: [201/625], Validation Acc: 88.74\n",
      "Epoch: [9/10], Step: [301/625], Validation Acc: 88.66\n",
      "Epoch: [9/10], Step: [401/625], Validation Acc: 88.7\n",
      "Epoch: [9/10], Step: [501/625], Validation Acc: 88.74\n",
      "Epoch: [9/10], Step: [601/625], Validation Acc: 88.72\n",
      "Epoch: [10/10], Step: [101/625], Validation Acc: 88.66\n",
      "Epoch: [10/10], Step: [201/625], Validation Acc: 88.68\n",
      "Epoch: [10/10], Step: [301/625], Validation Acc: 88.7\n",
      "Epoch: [10/10], Step: [401/625], Validation Acc: 88.64\n",
      "Epoch: [10/10], Step: [501/625], Validation Acc: 88.66\n",
      "Epoch: [10/10], Step: [601/625], Validation Acc: 88.72\n",
      "Epoch: [1/10], Step: [101/625], Validation Acc: 83.44\n",
      "Epoch: [1/10], Step: [201/625], Validation Acc: 84.82\n",
      "Epoch: [1/10], Step: [301/625], Validation Acc: 87.68\n",
      "Epoch: [1/10], Step: [401/625], Validation Acc: 88.44\n",
      "Epoch: [1/10], Step: [501/625], Validation Acc: 89.28\n",
      "Epoch: [1/10], Step: [601/625], Validation Acc: 89.02\n",
      "Epoch: [2/10], Step: [101/625], Validation Acc: 89.14\n",
      "Epoch: [2/10], Step: [201/625], Validation Acc: 88.84\n",
      "Epoch: [2/10], Step: [301/625], Validation Acc: 88.9\n",
      "Epoch: [2/10], Step: [401/625], Validation Acc: 88.98\n",
      "Epoch: [2/10], Step: [501/625], Validation Acc: 88.32\n",
      "Epoch: [2/10], Step: [601/625], Validation Acc: 88.14\n",
      "Epoch: [3/10], Step: [101/625], Validation Acc: 88.3\n",
      "Epoch: [3/10], Step: [201/625], Validation Acc: 88.28\n",
      "Epoch: [3/10], Step: [301/625], Validation Acc: 88.56\n",
      "Epoch: [3/10], Step: [401/625], Validation Acc: 88.4\n",
      "Epoch: [3/10], Step: [501/625], Validation Acc: 88.22\n",
      "Epoch: [3/10], Step: [601/625], Validation Acc: 88.18\n",
      "Epoch: [4/10], Step: [101/625], Validation Acc: 88.3\n",
      "Epoch: [4/10], Step: [201/625], Validation Acc: 88.32\n",
      "Epoch: [4/10], Step: [301/625], Validation Acc: 88.46\n",
      "Epoch: [4/10], Step: [401/625], Validation Acc: 88.34\n",
      "Epoch: [4/10], Step: [501/625], Validation Acc: 88.4\n",
      "Epoch: [4/10], Step: [601/625], Validation Acc: 88.48\n",
      "Epoch: [5/10], Step: [101/625], Validation Acc: 88.3\n",
      "Epoch: [5/10], Step: [201/625], Validation Acc: 88.46\n",
      "Epoch: [5/10], Step: [301/625], Validation Acc: 88.4\n",
      "Epoch: [5/10], Step: [401/625], Validation Acc: 88.48\n",
      "Epoch: [5/10], Step: [501/625], Validation Acc: 88.38\n",
      "Epoch: [5/10], Step: [601/625], Validation Acc: 88.1\n",
      "Epoch: [6/10], Step: [101/625], Validation Acc: 88.4\n",
      "Epoch: [6/10], Step: [201/625], Validation Acc: 88.4\n",
      "Epoch: [6/10], Step: [301/625], Validation Acc: 88.46\n",
      "Epoch: [6/10], Step: [401/625], Validation Acc: 88.46\n",
      "Epoch: [6/10], Step: [501/625], Validation Acc: 88.42\n",
      "Epoch: [6/10], Step: [601/625], Validation Acc: 88.44\n",
      "Epoch: [7/10], Step: [101/625], Validation Acc: 88.44\n",
      "Epoch: [7/10], Step: [201/625], Validation Acc: 88.44\n",
      "Epoch: [7/10], Step: [301/625], Validation Acc: 88.4\n",
      "Epoch: [7/10], Step: [401/625], Validation Acc: 88.48\n",
      "Epoch: [7/10], Step: [501/625], Validation Acc: 88.48\n",
      "Epoch: [7/10], Step: [601/625], Validation Acc: 88.46\n",
      "Epoch: [8/10], Step: [101/625], Validation Acc: 88.48\n",
      "Epoch: [8/10], Step: [201/625], Validation Acc: 88.46\n",
      "Epoch: [8/10], Step: [301/625], Validation Acc: 88.56\n",
      "Epoch: [8/10], Step: [401/625], Validation Acc: 88.56\n",
      "Epoch: [8/10], Step: [501/625], Validation Acc: 88.42\n",
      "Epoch: [8/10], Step: [601/625], Validation Acc: 88.5\n",
      "Epoch: [9/10], Step: [101/625], Validation Acc: 88.52\n",
      "Epoch: [9/10], Step: [201/625], Validation Acc: 88.56\n",
      "Epoch: [9/10], Step: [301/625], Validation Acc: 88.44\n",
      "Epoch: [9/10], Step: [401/625], Validation Acc: 88.5\n",
      "Epoch: [9/10], Step: [501/625], Validation Acc: 88.52\n",
      "Epoch: [9/10], Step: [601/625], Validation Acc: 88.62\n",
      "Epoch: [10/10], Step: [101/625], Validation Acc: 88.5\n",
      "Epoch: [10/10], Step: [201/625], Validation Acc: 88.52\n",
      "Epoch: [10/10], Step: [301/625], Validation Acc: 88.56\n",
      "Epoch: [10/10], Step: [401/625], Validation Acc: 88.56\n",
      "Epoch: [10/10], Step: [501/625], Validation Acc: 88.54\n",
      "Epoch: [10/10], Step: [601/625], Validation Acc: 88.56\n",
      "Epoch: [1/10], Step: [101/625], Validation Acc: 82.66\n",
      "Epoch: [1/10], Step: [201/625], Validation Acc: 86.8\n",
      "Epoch: [1/10], Step: [301/625], Validation Acc: 87.84\n",
      "Epoch: [1/10], Step: [401/625], Validation Acc: 87.28\n",
      "Epoch: [1/10], Step: [501/625], Validation Acc: 87.72\n",
      "Epoch: [1/10], Step: [601/625], Validation Acc: 88.98\n",
      "Epoch: [2/10], Step: [101/625], Validation Acc: 89.26\n",
      "Epoch: [2/10], Step: [201/625], Validation Acc: 88.96\n",
      "Epoch: [2/10], Step: [301/625], Validation Acc: 88.4\n",
      "Epoch: [2/10], Step: [401/625], Validation Acc: 88.84\n",
      "Epoch: [2/10], Step: [501/625], Validation Acc: 88.48\n",
      "Epoch: [2/10], Step: [601/625], Validation Acc: 88.56\n",
      "Epoch: [3/10], Step: [101/625], Validation Acc: 88.86\n",
      "Epoch: [3/10], Step: [201/625], Validation Acc: 88.98\n",
      "Epoch: [3/10], Step: [301/625], Validation Acc: 88.92\n",
      "Epoch: [3/10], Step: [401/625], Validation Acc: 88.92\n",
      "Epoch: [3/10], Step: [501/625], Validation Acc: 88.76\n",
      "Epoch: [3/10], Step: [601/625], Validation Acc: 88.82\n",
      "Epoch: [4/10], Step: [101/625], Validation Acc: 88.68\n",
      "Epoch: [4/10], Step: [201/625], Validation Acc: 88.92\n",
      "Epoch: [4/10], Step: [301/625], Validation Acc: 89.04\n",
      "Epoch: [4/10], Step: [401/625], Validation Acc: 89.02\n",
      "Epoch: [4/10], Step: [501/625], Validation Acc: 89.0\n",
      "Epoch: [4/10], Step: [601/625], Validation Acc: 88.8\n",
      "Epoch: [5/10], Step: [101/625], Validation Acc: 88.82\n",
      "Epoch: [5/10], Step: [201/625], Validation Acc: 88.76\n",
      "Epoch: [5/10], Step: [301/625], Validation Acc: 88.94\n",
      "Epoch: [5/10], Step: [401/625], Validation Acc: 89.0\n",
      "Epoch: [5/10], Step: [501/625], Validation Acc: 89.04\n",
      "Epoch: [5/10], Step: [601/625], Validation Acc: 89.1\n",
      "Epoch: [6/10], Step: [101/625], Validation Acc: 89.04\n"
     ]
    },
    {
     "name": "stdout",
     "output_type": "stream",
     "text": [
      "Epoch: [6/10], Step: [201/625], Validation Acc: 89.02\n",
      "Epoch: [6/10], Step: [301/625], Validation Acc: 89.06\n",
      "Epoch: [6/10], Step: [401/625], Validation Acc: 89.16\n",
      "Epoch: [6/10], Step: [501/625], Validation Acc: 88.82\n",
      "Epoch: [6/10], Step: [601/625], Validation Acc: 89.14\n",
      "Epoch: [7/10], Step: [101/625], Validation Acc: 89.1\n",
      "Epoch: [7/10], Step: [201/625], Validation Acc: 89.12\n",
      "Epoch: [7/10], Step: [301/625], Validation Acc: 89.14\n",
      "Epoch: [7/10], Step: [401/625], Validation Acc: 89.12\n",
      "Epoch: [7/10], Step: [501/625], Validation Acc: 89.1\n",
      "Epoch: [7/10], Step: [601/625], Validation Acc: 89.18\n",
      "Epoch: [8/10], Step: [101/625], Validation Acc: 89.1\n",
      "Epoch: [8/10], Step: [201/625], Validation Acc: 89.1\n",
      "Epoch: [8/10], Step: [301/625], Validation Acc: 89.1\n",
      "Epoch: [8/10], Step: [401/625], Validation Acc: 89.14\n",
      "Epoch: [8/10], Step: [501/625], Validation Acc: 89.06\n",
      "Epoch: [8/10], Step: [601/625], Validation Acc: 89.1\n",
      "Epoch: [9/10], Step: [101/625], Validation Acc: 89.06\n",
      "Epoch: [9/10], Step: [201/625], Validation Acc: 89.1\n",
      "Epoch: [9/10], Step: [301/625], Validation Acc: 89.1\n",
      "Epoch: [9/10], Step: [401/625], Validation Acc: 89.02\n",
      "Epoch: [9/10], Step: [501/625], Validation Acc: 89.1\n",
      "Epoch: [9/10], Step: [601/625], Validation Acc: 89.04\n",
      "Epoch: [10/10], Step: [101/625], Validation Acc: 89.02\n",
      "Epoch: [10/10], Step: [201/625], Validation Acc: 88.92\n",
      "Epoch: [10/10], Step: [301/625], Validation Acc: 88.98\n",
      "Epoch: [10/10], Step: [401/625], Validation Acc: 89.04\n",
      "Epoch: [10/10], Step: [501/625], Validation Acc: 88.98\n",
      "Epoch: [10/10], Step: [601/625], Validation Acc: 89.06\n",
      "Epoch: [1/10], Step: [101/625], Validation Acc: 84.7\n",
      "Epoch: [1/10], Step: [201/625], Validation Acc: 86.56\n",
      "Epoch: [1/10], Step: [301/625], Validation Acc: 87.66\n",
      "Epoch: [1/10], Step: [401/625], Validation Acc: 88.24\n",
      "Epoch: [1/10], Step: [501/625], Validation Acc: 86.4\n",
      "Epoch: [1/10], Step: [601/625], Validation Acc: 88.18\n",
      "Epoch: [2/10], Step: [101/625], Validation Acc: 88.8\n",
      "Epoch: [2/10], Step: [201/625], Validation Acc: 88.62\n",
      "Epoch: [2/10], Step: [301/625], Validation Acc: 88.52\n",
      "Epoch: [2/10], Step: [401/625], Validation Acc: 88.48\n",
      "Epoch: [2/10], Step: [501/625], Validation Acc: 88.56\n",
      "Epoch: [2/10], Step: [601/625], Validation Acc: 88.08\n",
      "Epoch: [3/10], Step: [101/625], Validation Acc: 88.52\n",
      "Epoch: [3/10], Step: [201/625], Validation Acc: 88.44\n",
      "Epoch: [3/10], Step: [301/625], Validation Acc: 88.68\n",
      "Epoch: [3/10], Step: [401/625], Validation Acc: 88.42\n",
      "Epoch: [3/10], Step: [501/625], Validation Acc: 88.36\n",
      "Epoch: [3/10], Step: [601/625], Validation Acc: 88.62\n",
      "Epoch: [4/10], Step: [101/625], Validation Acc: 88.36\n",
      "Epoch: [4/10], Step: [201/625], Validation Acc: 88.4\n",
      "Epoch: [4/10], Step: [301/625], Validation Acc: 88.48\n",
      "Epoch: [4/10], Step: [401/625], Validation Acc: 88.2\n",
      "Epoch: [4/10], Step: [501/625], Validation Acc: 88.32\n",
      "Epoch: [4/10], Step: [601/625], Validation Acc: 88.12\n",
      "Epoch: [5/10], Step: [101/625], Validation Acc: 88.24\n",
      "Epoch: [5/10], Step: [201/625], Validation Acc: 88.36\n",
      "Epoch: [5/10], Step: [301/625], Validation Acc: 88.32\n",
      "Epoch: [5/10], Step: [401/625], Validation Acc: 88.34\n",
      "Epoch: [5/10], Step: [501/625], Validation Acc: 88.36\n",
      "Epoch: [5/10], Step: [601/625], Validation Acc: 88.4\n",
      "Epoch: [6/10], Step: [101/625], Validation Acc: 88.56\n",
      "Epoch: [6/10], Step: [201/625], Validation Acc: 88.78\n",
      "Epoch: [6/10], Step: [301/625], Validation Acc: 88.82\n",
      "Epoch: [6/10], Step: [401/625], Validation Acc: 88.7\n",
      "Epoch: [6/10], Step: [501/625], Validation Acc: 88.72\n",
      "Epoch: [6/10], Step: [601/625], Validation Acc: 88.64\n",
      "Epoch: [7/10], Step: [101/625], Validation Acc: 88.48\n",
      "Epoch: [7/10], Step: [201/625], Validation Acc: 88.52\n",
      "Epoch: [7/10], Step: [301/625], Validation Acc: 88.46\n",
      "Epoch: [7/10], Step: [401/625], Validation Acc: 88.42\n",
      "Epoch: [7/10], Step: [501/625], Validation Acc: 88.5\n",
      "Epoch: [7/10], Step: [601/625], Validation Acc: 88.46\n",
      "Epoch: [8/10], Step: [101/625], Validation Acc: 88.36\n",
      "Epoch: [8/10], Step: [201/625], Validation Acc: 88.44\n",
      "Epoch: [8/10], Step: [301/625], Validation Acc: 88.46\n",
      "Epoch: [8/10], Step: [401/625], Validation Acc: 88.5\n",
      "Epoch: [8/10], Step: [501/625], Validation Acc: 88.48\n",
      "Epoch: [8/10], Step: [601/625], Validation Acc: 88.46\n",
      "Epoch: [9/10], Step: [101/625], Validation Acc: 88.52\n",
      "Epoch: [9/10], Step: [201/625], Validation Acc: 88.54\n",
      "Epoch: [9/10], Step: [301/625], Validation Acc: 88.58\n",
      "Epoch: [9/10], Step: [401/625], Validation Acc: 88.54\n",
      "Epoch: [9/10], Step: [501/625], Validation Acc: 88.54\n",
      "Epoch: [9/10], Step: [601/625], Validation Acc: 88.6\n",
      "Epoch: [10/10], Step: [101/625], Validation Acc: 88.5\n",
      "Epoch: [10/10], Step: [201/625], Validation Acc: 88.58\n",
      "Epoch: [10/10], Step: [301/625], Validation Acc: 88.58\n",
      "Epoch: [10/10], Step: [401/625], Validation Acc: 88.54\n",
      "Epoch: [10/10], Step: [501/625], Validation Acc: 88.56\n",
      "Epoch: [10/10], Step: [601/625], Validation Acc: 88.54\n",
      "Epoch: [1/10], Step: [101/625], Validation Acc: 84.18\n",
      "Epoch: [1/10], Step: [201/625], Validation Acc: 83.3\n",
      "Epoch: [1/10], Step: [301/625], Validation Acc: 87.18\n",
      "Epoch: [1/10], Step: [401/625], Validation Acc: 87.72\n",
      "Epoch: [1/10], Step: [501/625], Validation Acc: 88.12\n",
      "Epoch: [1/10], Step: [601/625], Validation Acc: 87.98\n",
      "Epoch: [2/10], Step: [101/625], Validation Acc: 88.74\n",
      "Epoch: [2/10], Step: [201/625], Validation Acc: 88.84\n",
      "Epoch: [2/10], Step: [301/625], Validation Acc: 86.6\n",
      "Epoch: [2/10], Step: [401/625], Validation Acc: 87.28\n",
      "Epoch: [2/10], Step: [501/625], Validation Acc: 87.42\n",
      "Epoch: [2/10], Step: [601/625], Validation Acc: 86.82\n",
      "Epoch: [3/10], Step: [101/625], Validation Acc: 87.6\n",
      "Epoch: [3/10], Step: [201/625], Validation Acc: 87.58\n",
      "Epoch: [3/10], Step: [301/625], Validation Acc: 87.76\n",
      "Epoch: [3/10], Step: [401/625], Validation Acc: 87.72\n",
      "Epoch: [3/10], Step: [501/625], Validation Acc: 87.94\n",
      "Epoch: [3/10], Step: [601/625], Validation Acc: 87.62\n",
      "Epoch: [4/10], Step: [101/625], Validation Acc: 87.58\n",
      "Epoch: [4/10], Step: [201/625], Validation Acc: 87.78\n",
      "Epoch: [4/10], Step: [301/625], Validation Acc: 87.6\n",
      "Epoch: [4/10], Step: [401/625], Validation Acc: 87.82\n",
      "Epoch: [4/10], Step: [501/625], Validation Acc: 87.7\n",
      "Epoch: [4/10], Step: [601/625], Validation Acc: 87.68\n",
      "Epoch: [5/10], Step: [101/625], Validation Acc: 87.7\n",
      "Epoch: [5/10], Step: [201/625], Validation Acc: 87.78\n",
      "Epoch: [5/10], Step: [301/625], Validation Acc: 87.7\n",
      "Epoch: [5/10], Step: [401/625], Validation Acc: 87.68\n",
      "Epoch: [5/10], Step: [501/625], Validation Acc: 87.7\n",
      "Epoch: [5/10], Step: [601/625], Validation Acc: 87.78\n",
      "Epoch: [6/10], Step: [101/625], Validation Acc: 87.72\n",
      "Epoch: [6/10], Step: [201/625], Validation Acc: 87.72\n",
      "Epoch: [6/10], Step: [301/625], Validation Acc: 87.7\n",
      "Epoch: [6/10], Step: [401/625], Validation Acc: 87.7\n",
      "Epoch: [6/10], Step: [501/625], Validation Acc: 87.76\n",
      "Epoch: [6/10], Step: [601/625], Validation Acc: 87.74\n",
      "Epoch: [7/10], Step: [101/625], Validation Acc: 87.8\n",
      "Epoch: [7/10], Step: [201/625], Validation Acc: 87.78\n",
      "Epoch: [7/10], Step: [301/625], Validation Acc: 87.78\n",
      "Epoch: [7/10], Step: [401/625], Validation Acc: 87.84\n",
      "Epoch: [7/10], Step: [501/625], Validation Acc: 87.78\n",
      "Epoch: [7/10], Step: [601/625], Validation Acc: 87.8\n",
      "Epoch: [8/10], Step: [101/625], Validation Acc: 87.78\n",
      "Epoch: [8/10], Step: [201/625], Validation Acc: 87.78\n",
      "Epoch: [8/10], Step: [301/625], Validation Acc: 87.78\n",
      "Epoch: [8/10], Step: [401/625], Validation Acc: 87.84\n",
      "Epoch: [8/10], Step: [501/625], Validation Acc: 87.88\n",
      "Epoch: [8/10], Step: [601/625], Validation Acc: 87.88\n",
      "Epoch: [9/10], Step: [101/625], Validation Acc: 87.84\n",
      "Epoch: [9/10], Step: [201/625], Validation Acc: 87.84\n",
      "Epoch: [9/10], Step: [301/625], Validation Acc: 87.86\n",
      "Epoch: [9/10], Step: [401/625], Validation Acc: 87.86\n",
      "Epoch: [9/10], Step: [501/625], Validation Acc: 87.86\n",
      "Epoch: [9/10], Step: [601/625], Validation Acc: 87.88\n",
      "Epoch: [10/10], Step: [101/625], Validation Acc: 87.86\n",
      "Epoch: [10/10], Step: [201/625], Validation Acc: 87.86\n",
      "Epoch: [10/10], Step: [301/625], Validation Acc: 87.84\n",
      "Epoch: [10/10], Step: [401/625], Validation Acc: 87.9\n",
      "Epoch: [10/10], Step: [501/625], Validation Acc: 87.94\n",
      "Epoch: [10/10], Step: [601/625], Validation Acc: 87.88\n"
     ]
    }
   ],
   "source": [
    "BATCH_SIZE = 32\n",
    "MAX_SENTENCE_LENGTH = 200\n",
    "max_vocab_size = 100000\n",
    "num_epochs = 10 \n",
    "learning_rate = 0.01\n",
    "\n",
    "\n",
    "token2id, id2token = build_vocab(all_train_tokens)\n",
    "train_data_indices = token2index_dataset(train_data_tokens)\n",
    "val_data_indices = token2index_dataset(val_data_tokens)\n",
    "test_data_indices = token2index_dataset(test_data_tokens)\n",
    "\n",
    "print (\"Train dataset size is {}\".format(len(train_data_indices)))\n",
    "print (\"Val dataset size is {}\".format(len(val_data_indices)))\n",
    "print (\"Test dataset size is {}\".format(len(test_data_indices)))\n",
    "print('\\n')\n",
    "\n",
    "train_dataset = NewsGroupDataset(train_data_indices, train_targets_class)\n",
    "train_loader = torch.utils.data.DataLoader(dataset=train_dataset, \n",
    "                                       batch_size=BATCH_SIZE,\n",
    "                                       collate_fn=newsgroup_collate_func,\n",
    "                                       shuffle=True)\n",
    "\n",
    "val_dataset = NewsGroupDataset(val_data_indices, val_targets_class)\n",
    "val_loader = torch.utils.data.DataLoader(dataset=val_dataset, \n",
    "                                       batch_size=BATCH_SIZE,\n",
    "                                       collate_fn=newsgroup_collate_func,\n",
    "                                       shuffle=True)\n",
    "\n",
    "    \n",
    "experiment_embed_validation_accuracy_list = [[],[],[],[],[]]\n",
    "for i in range(len(experiment_embed_size)):\n",
    "    emb_dim = experiment_embed_size[i]\n",
    "    \n",
    "    model = BagOfWords(len(id2token), emb_dim)\n",
    "    \n",
    "    criterion = torch.nn.CrossEntropyLoss()  \n",
    "    optimizer = torch.optim.Adam(model.parameters(), lr=learning_rate)\n",
    "    \n",
    "    for epoch in range(num_epochs):\n",
    "        for j, (data, lengths, labels) in enumerate(train_loader):\n",
    "            model.train()\n",
    "            data_batch, length_batch, label_batch = data, lengths, labels\n",
    "            optimizer.zero_grad()\n",
    "            outputs = model(data_batch, length_batch)\n",
    "            loss = criterion(outputs, label_batch)\n",
    "            loss.backward()\n",
    "            optimizer.step()\n",
    "            # validate every 100 iterations\n",
    "            if j > 0 and j % 100 == 0:\n",
    "                # validate\n",
    "                val_acc = test_model(val_loader, model)\n",
    "                experiment_embed_validation_accuracy_list[i].append(val_acc)\n",
    "                print('Epoch: [{}/{}], Step: [{}/{}], Validation Acc: {}'.format( \n",
    "                           epoch+1, num_epochs, j+1, len(train_loader), val_acc))\n",
    "\n",
    "\n",
    "    "
   ]
  },
  {
   "cell_type": "code",
   "execution_count": 132,
   "metadata": {},
   "outputs": [
    {
     "data": {
      "text/plain": [
       "<matplotlib.legend.Legend at 0x1a73ea048>"
      ]
     },
     "execution_count": 132,
     "metadata": {},
     "output_type": "execute_result"
    },
    {
     "data": {
      "image/png": "[encoded data removed]",
      "text/plain": [
       "<Figure size 432x288 with 1 Axes>"
      ]
     },
     "metadata": {
      "needs_background": "light"
     },
     "output_type": "display_data"
    }
   ],
   "source": [
    "plt.figure()\n",
    "plt.plot(list(range(len(experiment_embed_validation_accuracy_list[0]))),experiment_embed_validation_accuracy_list[0], label = 'scheme3_4gram_Maxvocab100000_embed50')\n",
    "plt.plot(list(range(len(experiment_embed_validation_accuracy_list[0]))),experiment_embed_validation_accuracy_list[1], label = 'scheme3_4gram_Maxvocab100000_embed100')\n",
    "plt.plot(list(range(len(experiment_embed_validation_accuracy_list[0]))),experiment_embed_validation_accuracy_list[2], label = 'scheme3_4gram_Maxvocab100000_embed200')\n",
    "plt.plot(list(range(len(experiment_embed_validation_accuracy_list[0]))),experiment_embed_validation_accuracy_list[3], label = 'scheme3_4gram_Maxvocab100000_embed300')\n",
    "plt.plot(list(range(len(experiment_embed_validation_accuracy_list[0]))),experiment_embed_validation_accuracy_list[4], label = 'scheme3_4gram_Maxvocab100000_embed500')\n",
    "plt.xlabel('hundred iterations')\n",
    "plt.ylabel('validation accuracy')\n",
    "plt.legend()"
   ]
  },
  {
   "cell_type": "code",
   "execution_count": null,
   "metadata": {},
   "outputs": [],
   "source": [
    "#conclusion: choose embed200"
   ]
  },
  {
   "cell_type": "code",
   "execution_count": 146,
   "metadata": {},
   "outputs": [
    {
     "name": "stdout",
     "output_type": "stream",
     "text": [
      "max validation accuracy achieved for embed50 is 89.26\n",
      "max validation accuracy achieved for embed100 is 89.28\n",
      "max validation accuracy achieved for embed200 is 89.26\n",
      "max validation accuracy achieved for embed300 is 88.82\n",
      "max validation accuracy achieved for embed500 is 88.82\n"
     ]
    }
   ],
   "source": [
    "print('max validation accuracy achieved for embed50 is {}'.format(np.max(experiment_embed_validation_accuracy_list[0])))\n",
    "print('max validation accuracy achieved for embed100 is {}'.format(np.max(experiment_embed_validation_accuracy_list[1])))\n",
    "print('max validation accuracy achieved for embed200 is {}'.format(np.max(experiment_embed_validation_accuracy_list[2])))\n",
    "print('max validation accuracy achieved for embed300 is {}'.format(np.max(experiment_embed_validation_accuracy_list[3])))\n",
    "print('max validation accuracy achieved for embed500 is {}'.format(np.max(experiment_embed_validation_accuracy_list[3])))"
   ]
  },
  {
   "cell_type": "markdown",
   "metadata": {},
   "source": [
    "## Experiment with Optimizer"
   ]
  },
  {
   "cell_type": "code",
   "execution_count": null,
   "metadata": {},
   "outputs": [],
   "source": []
  },
  {
   "cell_type": "code",
   "execution_count": 143,
   "metadata": {},
   "outputs": [],
   "source": [
    "train_targets_class = pkl.load(open(\"train_targets_class.p\", \"rb\"))\n",
    "train_targets_values = pkl.load(open(\"train_targets_values.p\", \"rb\"))\n",
    "val_targets_class = pkl.load(open(\"val_targets_class.p\", \"rb\"))\n",
    "val_targets_values = pkl.load(open(\"val_targets_values.p\", \"rb\"))\n",
    "test_targets_class = pkl.load(open(\"test_targets_class.p\", \"rb\"))\n",
    "test_targets_values = pkl.load(open(\"test_targets_values.p\", \"rb\"))\n",
    "\n",
    "#convert 'pos' into 1, 'neg' into 0\n",
    "train_targets_class = convert(train_targets_class)\n",
    "val_targets_class = convert(val_targets_class)\n",
    "test_targets_class = convert(test_targets_class)"
   ]
  },
  {
   "cell_type": "code",
   "execution_count": 144,
   "metadata": {},
   "outputs": [
    {
     "name": "stdout",
     "output_type": "stream",
     "text": [
      "Train dataset size is 20000\n",
      "Val dataset size is 5000\n",
      "Test dataset size is 25000\n",
      "Total number of tokens in train dataset is 16579672\n"
     ]
    }
   ],
   "source": [
    "train_data_tokens = pkl.load(open(\"train_data_tokens_scheme3_4gram.p\", \"rb\"))\n",
    "all_train_tokens = pkl.load(open(\"all_train_tokens_scheme3_4gram.p\", \"rb\"))\n",
    "\n",
    "val_data_tokens = pkl.load(open(\"val_data_tokens_scheme3_4gram.p\", \"rb\"))\n",
    "test_data_tokens = pkl.load(open(\"test_data_tokens_scheme3_4gram.p\", \"rb\"))\n",
    "\n",
    "# double checking\n",
    "print (\"Train dataset size is {}\".format(len(train_data_tokens)))\n",
    "print (\"Val dataset size is {}\".format(len(val_data_tokens)))\n",
    "print (\"Test dataset size is {}\".format(len(test_data_tokens)))\n",
    "\n",
    "print (\"Total number of tokens in train dataset is {}\".format(len(all_train_tokens)))"
   ]
  },
  {
   "cell_type": "code",
   "execution_count": null,
   "metadata": {},
   "outputs": [],
   "source": []
  },
  {
   "cell_type": "code",
   "execution_count": 155,
   "metadata": {},
   "outputs": [
    {
     "name": "stdout",
     "output_type": "stream",
     "text": [
      "Train dataset size is 20000\n",
      "Val dataset size is 5000\n",
      "Test dataset size is 25000\n",
      "\n",
      "\n",
      "Epoch: [1/10], Step: [101/625], Validation Acc: 83.82\n",
      "Epoch: [1/10], Step: [201/625], Validation Acc: 86.98\n",
      "Epoch: [1/10], Step: [301/625], Validation Acc: 81.24\n",
      "Epoch: [1/10], Step: [401/625], Validation Acc: 87.98\n",
      "Epoch: [1/10], Step: [501/625], Validation Acc: 88.7\n",
      "Epoch: [1/10], Step: [601/625], Validation Acc: 87.94\n",
      "Epoch: [2/10], Step: [101/625], Validation Acc: 89.02\n",
      "Epoch: [2/10], Step: [201/625], Validation Acc: 88.94\n",
      "Epoch: [2/10], Step: [301/625], Validation Acc: 88.82\n",
      "Epoch: [2/10], Step: [401/625], Validation Acc: 88.0\n",
      "Epoch: [2/10], Step: [501/625], Validation Acc: 87.88\n",
      "Epoch: [2/10], Step: [601/625], Validation Acc: 87.92\n",
      "Epoch: [3/10], Step: [101/625], Validation Acc: 87.88\n",
      "Epoch: [3/10], Step: [201/625], Validation Acc: 88.0\n",
      "Epoch: [3/10], Step: [301/625], Validation Acc: 88.28\n",
      "Epoch: [3/10], Step: [401/625], Validation Acc: 88.06\n",
      "Epoch: [3/10], Step: [501/625], Validation Acc: 88.24\n",
      "Epoch: [3/10], Step: [601/625], Validation Acc: 88.28\n",
      "Epoch: [4/10], Step: [101/625], Validation Acc: 88.32\n",
      "Epoch: [4/10], Step: [201/625], Validation Acc: 88.22\n",
      "Epoch: [4/10], Step: [301/625], Validation Acc: 88.14\n",
      "Epoch: [4/10], Step: [401/625], Validation Acc: 88.22\n",
      "Epoch: [4/10], Step: [501/625], Validation Acc: 88.36\n",
      "Epoch: [4/10], Step: [601/625], Validation Acc: 88.4\n",
      "Epoch: [5/10], Step: [101/625], Validation Acc: 88.38\n",
      "Epoch: [5/10], Step: [201/625], Validation Acc: 88.34\n",
      "Epoch: [5/10], Step: [301/625], Validation Acc: 88.4\n",
      "Epoch: [5/10], Step: [401/625], Validation Acc: 88.34\n",
      "Epoch: [5/10], Step: [501/625], Validation Acc: 88.4\n",
      "Epoch: [5/10], Step: [601/625], Validation Acc: 88.34\n",
      "Epoch: [6/10], Step: [101/625], Validation Acc: 88.38\n",
      "Epoch: [6/10], Step: [201/625], Validation Acc: 88.36\n",
      "Epoch: [6/10], Step: [301/625], Validation Acc: 88.4\n",
      "Epoch: [6/10], Step: [401/625], Validation Acc: 88.38\n",
      "Epoch: [6/10], Step: [501/625], Validation Acc: 88.34\n",
      "Epoch: [6/10], Step: [601/625], Validation Acc: 88.4\n",
      "Epoch: [7/10], Step: [101/625], Validation Acc: 88.32\n",
      "Epoch: [7/10], Step: [201/625], Validation Acc: 88.32\n",
      "Epoch: [7/10], Step: [301/625], Validation Acc: 88.28\n",
      "Epoch: [7/10], Step: [401/625], Validation Acc: 88.28\n",
      "Epoch: [7/10], Step: [501/625], Validation Acc: 88.36\n",
      "Epoch: [7/10], Step: [601/625], Validation Acc: 88.32\n",
      "Epoch: [8/10], Step: [101/625], Validation Acc: 88.24\n",
      "Epoch: [8/10], Step: [201/625], Validation Acc: 88.3\n",
      "Epoch: [8/10], Step: [301/625], Validation Acc: 88.26\n",
      "Epoch: [8/10], Step: [401/625], Validation Acc: 88.26\n",
      "Epoch: [8/10], Step: [501/625], Validation Acc: 88.26\n",
      "Epoch: [8/10], Step: [601/625], Validation Acc: 88.24\n",
      "Epoch: [9/10], Step: [101/625], Validation Acc: 88.28\n",
      "Epoch: [9/10], Step: [201/625], Validation Acc: 88.26\n",
      "Epoch: [9/10], Step: [301/625], Validation Acc: 88.24\n",
      "Epoch: [9/10], Step: [401/625], Validation Acc: 88.28\n",
      "Epoch: [9/10], Step: [501/625], Validation Acc: 88.28\n",
      "Epoch: [9/10], Step: [601/625], Validation Acc: 88.22\n",
      "Epoch: [10/10], Step: [101/625], Validation Acc: 88.28\n",
      "Epoch: [10/10], Step: [201/625], Validation Acc: 88.24\n",
      "Epoch: [10/10], Step: [301/625], Validation Acc: 88.26\n",
      "Epoch: [10/10], Step: [401/625], Validation Acc: 88.26\n",
      "Epoch: [10/10], Step: [501/625], Validation Acc: 88.24\n",
      "Epoch: [10/10], Step: [601/625], Validation Acc: 88.2\n",
      "Epoch: [1/10], Step: [101/625], Validation Acc: 52.98\n",
      "Epoch: [1/10], Step: [201/625], Validation Acc: 51.9\n",
      "Epoch: [1/10], Step: [301/625], Validation Acc: 53.4\n",
      "Epoch: [1/10], Step: [401/625], Validation Acc: 54.48\n",
      "Epoch: [1/10], Step: [501/625], Validation Acc: 54.02\n",
      "Epoch: [1/10], Step: [601/625], Validation Acc: 53.18\n",
      "Epoch: [2/10], Step: [101/625], Validation Acc: 56.88\n",
      "Epoch: [2/10], Step: [201/625], Validation Acc: 57.5\n",
      "Epoch: [2/10], Step: [301/625], Validation Acc: 58.9\n",
      "Epoch: [2/10], Step: [401/625], Validation Acc: 59.26\n",
      "Epoch: [2/10], Step: [501/625], Validation Acc: 59.38\n",
      "Epoch: [2/10], Step: [601/625], Validation Acc: 59.32\n",
      "Epoch: [3/10], Step: [101/625], Validation Acc: 59.38\n",
      "Epoch: [3/10], Step: [201/625], Validation Acc: 59.96\n",
      "Epoch: [3/10], Step: [301/625], Validation Acc: 59.6\n",
      "Epoch: [3/10], Step: [401/625], Validation Acc: 60.74\n",
      "Epoch: [3/10], Step: [501/625], Validation Acc: 60.08\n",
      "Epoch: [3/10], Step: [601/625], Validation Acc: 59.8\n",
      "Epoch: [4/10], Step: [101/625], Validation Acc: 61.62\n",
      "Epoch: [4/10], Step: [201/625], Validation Acc: 62.44\n",
      "Epoch: [4/10], Step: [301/625], Validation Acc: 62.42\n",
      "Epoch: [4/10], Step: [401/625], Validation Acc: 62.34\n",
      "Epoch: [4/10], Step: [501/625], Validation Acc: 59.36\n",
      "Epoch: [4/10], Step: [601/625], Validation Acc: 60.4\n",
      "Epoch: [5/10], Step: [101/625], Validation Acc: 59.94\n",
      "Epoch: [5/10], Step: [201/625], Validation Acc: 62.34\n",
      "Epoch: [5/10], Step: [301/625], Validation Acc: 62.64\n",
      "Epoch: [5/10], Step: [401/625], Validation Acc: 62.82\n",
      "Epoch: [5/10], Step: [501/625], Validation Acc: 61.76\n",
      "Epoch: [5/10], Step: [601/625], Validation Acc: 63.44\n",
      "Epoch: [6/10], Step: [101/625], Validation Acc: 63.44\n",
      "Epoch: [6/10], Step: [201/625], Validation Acc: 63.74\n",
      "Epoch: [6/10], Step: [301/625], Validation Acc: 63.6\n",
      "Epoch: [6/10], Step: [401/625], Validation Acc: 59.56\n",
      "Epoch: [6/10], Step: [501/625], Validation Acc: 62.88\n",
      "Epoch: [6/10], Step: [601/625], Validation Acc: 62.96\n",
      "Epoch: [7/10], Step: [101/625], Validation Acc: 63.8\n",
      "Epoch: [7/10], Step: [201/625], Validation Acc: 63.42\n",
      "Epoch: [7/10], Step: [301/625], Validation Acc: 63.12\n",
      "Epoch: [7/10], Step: [401/625], Validation Acc: 62.78\n",
      "Epoch: [7/10], Step: [501/625], Validation Acc: 63.14\n",
      "Epoch: [7/10], Step: [601/625], Validation Acc: 64.24\n",
      "Epoch: [8/10], Step: [101/625], Validation Acc: 63.4\n",
      "Epoch: [8/10], Step: [201/625], Validation Acc: 62.3\n",
      "Epoch: [8/10], Step: [301/625], Validation Acc: 64.48\n",
      "Epoch: [8/10], Step: [401/625], Validation Acc: 64.38\n",
      "Epoch: [8/10], Step: [501/625], Validation Acc: 63.26\n",
      "Epoch: [8/10], Step: [601/625], Validation Acc: 64.96\n",
      "Epoch: [9/10], Step: [101/625], Validation Acc: 64.56\n",
      "Epoch: [9/10], Step: [201/625], Validation Acc: 64.76\n",
      "Epoch: [9/10], Step: [301/625], Validation Acc: 62.88\n",
      "Epoch: [9/10], Step: [401/625], Validation Acc: 64.98\n",
      "Epoch: [9/10], Step: [501/625], Validation Acc: 62.52\n",
      "Epoch: [9/10], Step: [601/625], Validation Acc: 61.96\n",
      "Epoch: [10/10], Step: [101/625], Validation Acc: 65.14\n",
      "Epoch: [10/10], Step: [201/625], Validation Acc: 62.32\n",
      "Epoch: [10/10], Step: [301/625], Validation Acc: 65.32\n",
      "Epoch: [10/10], Step: [401/625], Validation Acc: 65.56\n",
      "Epoch: [10/10], Step: [501/625], Validation Acc: 65.36\n",
      "Epoch: [10/10], Step: [601/625], Validation Acc: 64.68\n"
     ]
    }
   ],
   "source": [
    "MAX_SENTENCE_LENGTH = 200\n",
    "BATCH_SIZE = 32\n",
    "max_vocab_size = 100000\n",
    "emb_dim = 200\n",
    "num_epochs = 10 \n",
    "learning_rate = 0.01\n",
    "\n",
    "\n",
    "token2id, id2token = build_vocab(all_train_tokens)\n",
    "train_data_indices = token2index_dataset(train_data_tokens)\n",
    "val_data_indices = token2index_dataset(val_data_tokens)\n",
    "test_data_indices = token2index_dataset(test_data_tokens)\n",
    "\n",
    "print (\"Train dataset size is {}\".format(len(train_data_indices)))\n",
    "print (\"Val dataset size is {}\".format(len(val_data_indices)))\n",
    "print (\"Test dataset size is {}\".format(len(test_data_indices)))\n",
    "print('\\n')\n",
    "\n",
    "train_dataset = NewsGroupDataset(train_data_indices, train_targets_class)\n",
    "train_loader = torch.utils.data.DataLoader(dataset=train_dataset, \n",
    "                                       batch_size=BATCH_SIZE,\n",
    "                                       collate_fn=newsgroup_collate_func,\n",
    "                                       shuffle=True)\n",
    "\n",
    "val_dataset = NewsGroupDataset(val_data_indices, val_targets_class)\n",
    "val_loader = torch.utils.data.DataLoader(dataset=val_dataset, \n",
    "                                       batch_size=BATCH_SIZE,\n",
    "                                       collate_fn=newsgroup_collate_func,\n",
    "                                       shuffle=True)\n",
    "\n",
    "   \n",
    "experiment_optimizer_validation_accuracy_list = [[],[]]\n",
    "optimizer_time = []\n",
    "for i in range(len(experiment_optimizer)):\n",
    "    \n",
    "    model = BagOfWords(len(id2token), emb_dim) \n",
    "    criterion = torch.nn.CrossEntropyLoss()  \n",
    "    if i ==0:\n",
    "        optimizer = torch.optim.Adam(model.parameters(), lr=learning_rate)\n",
    "    elif i == 1:\n",
    "        optimizer = torch.optim.SGD(model.parameters(), lr=learning_rate)\n",
    "    start_time = time.time()\n",
    "    for epoch in range(num_epochs):\n",
    "        for j, (data, lengths, labels) in enumerate(train_loader):\n",
    "            model.train()\n",
    "            data_batch, length_batch, label_batch = data, lengths, labels\n",
    "            optimizer.zero_grad()\n",
    "            outputs = model(data_batch, length_batch)\n",
    "            loss = criterion(outputs, label_batch)\n",
    "            loss.backward()\n",
    "            optimizer.step()\n",
    "            # validate every 100 iterations\n",
    "            if j > 0 and j % 100 == 0:\n",
    "                # validate\n",
    "                val_acc = test_model(val_loader, model)\n",
    "                experiment_optimizer_validation_accuracy_list[i].append(val_acc)\n",
    "                print('Epoch: [{}/{}], Step: [{}/{}], Validation Acc: {}'.format( \n",
    "                           epoch+1, num_epochs, j+1, len(train_loader), val_acc))\n",
    "    end_time = time.time()\n",
    "    optimizer_time.append(end_time - start_time)\n",
    "        \n",
    "\n",
    "    "
   ]
  },
  {
   "cell_type": "code",
   "execution_count": 156,
   "metadata": {},
   "outputs": [
    {
     "data": {
      "text/plain": [
       "<matplotlib.legend.Legend at 0x114479828>"
      ]
     },
     "execution_count": 156,
     "metadata": {},
     "output_type": "execute_result"
    },
    {
     "data": {
      "image/png": "[encoded data removed]",
      "text/plain": [
       "<Figure size 432x288 with 1 Axes>"
      ]
     },
     "metadata": {
      "needs_background": "light"
     },
     "output_type": "display_data"
    }
   ],
   "source": [
    "plt.figure()\n",
    "plt.plot(list(range(len(experiment_optimizer_validation_accuracy_list[0]))),experiment_optimizer_validation_accuracy_list[0], label = 'scheme3_4gram_Maxvocab100000_embed200_Adam')\n",
    "plt.plot(list(range(len(experiment_optimizer_validation_accuracy_list[0]))),experiment_optimizer_validation_accuracy_list[1], label = 'scheme3_4gram_Maxvocab100000_embed200_SGD')\n",
    "plt.xlabel('hundred iterations')\n",
    "plt.ylabel('validation accuracy')\n",
    "plt.legend()"
   ]
  },
  {
   "cell_type": "code",
   "execution_count": 157,
   "metadata": {},
   "outputs": [
    {
     "name": "stdout",
     "output_type": "stream",
     "text": [
      "it takes Adam 1381.2450008392334 seconds to train 10 epochs\n",
      "it takes SGD 442.7786819934845 seconds to train 10 epochs\n"
     ]
    }
   ],
   "source": [
    "print('it takes Adam {} seconds to train 10 epochs'.format(optimizer_time[0]))\n",
    "print('it takes SGD {} seconds to train 10 epochs'.format(optimizer_time[1]))"
   ]
  },
  {
   "cell_type": "markdown",
   "metadata": {},
   "source": [
    "## Experiment with Learning rate"
   ]
  },
  {
   "cell_type": "code",
   "execution_count": 158,
   "metadata": {},
   "outputs": [],
   "source": [
    "train_targets_class = pkl.load(open(\"train_targets_class.p\", \"rb\"))\n",
    "train_targets_values = pkl.load(open(\"train_targets_values.p\", \"rb\"))\n",
    "val_targets_class = pkl.load(open(\"val_targets_class.p\", \"rb\"))\n",
    "val_targets_values = pkl.load(open(\"val_targets_values.p\", \"rb\"))\n",
    "test_targets_class = pkl.load(open(\"test_targets_class.p\", \"rb\"))\n",
    "test_targets_values = pkl.load(open(\"test_targets_values.p\", \"rb\"))\n",
    "\n",
    "#convert 'pos' into 1, 'neg' into 0\n",
    "train_targets_class = convert(train_targets_class)\n",
    "val_targets_class = convert(val_targets_class)\n",
    "test_targets_class = convert(test_targets_class)"
   ]
  },
  {
   "cell_type": "code",
   "execution_count": 159,
   "metadata": {},
   "outputs": [
    {
     "name": "stdout",
     "output_type": "stream",
     "text": [
      "Train dataset size is 20000\n",
      "Val dataset size is 5000\n",
      "Test dataset size is 25000\n",
      "Total number of tokens in train dataset is 16579672\n"
     ]
    }
   ],
   "source": [
    "train_data_tokens = pkl.load(open(\"train_data_tokens_scheme3_4gram.p\", \"rb\"))\n",
    "all_train_tokens = pkl.load(open(\"all_train_tokens_scheme3_4gram.p\", \"rb\"))\n",
    "\n",
    "val_data_tokens = pkl.load(open(\"val_data_tokens_scheme3_4gram.p\", \"rb\"))\n",
    "test_data_tokens = pkl.load(open(\"test_data_tokens_scheme3_4gram.p\", \"rb\"))\n",
    "\n",
    "# double checking\n",
    "print (\"Train dataset size is {}\".format(len(train_data_tokens)))\n",
    "print (\"Val dataset size is {}\".format(len(val_data_tokens)))\n",
    "print (\"Test dataset size is {}\".format(len(test_data_tokens)))\n",
    "\n",
    "print (\"Total number of tokens in train dataset is {}\".format(len(all_train_tokens)))"
   ]
  },
  {
   "cell_type": "code",
   "execution_count": 160,
   "metadata": {},
   "outputs": [],
   "source": [
    "experiment_lr = [0.001, 0.01, 0.05, 0.1]"
   ]
  },
  {
   "cell_type": "code",
   "execution_count": 161,
   "metadata": {},
   "outputs": [
    {
     "name": "stdout",
     "output_type": "stream",
     "text": [
      "Train dataset size is 20000\n",
      "Val dataset size is 5000\n",
      "Test dataset size is 25000\n",
      "\n",
      "\n",
      "current learning_rate is 0.001:\n",
      "Epoch: [1/5], Step: [101/625], Validation Acc: 62.72\n",
      "Epoch: [1/5], Step: [201/625], Validation Acc: 63.38\n",
      "Epoch: [1/5], Step: [301/625], Validation Acc: 79.22\n",
      "Epoch: [1/5], Step: [401/625], Validation Acc: 82.06\n",
      "Epoch: [1/5], Step: [501/625], Validation Acc: 84.04\n",
      "Epoch: [1/5], Step: [601/625], Validation Acc: 84.96\n",
      "Epoch: [2/5], Step: [101/625], Validation Acc: 85.96\n",
      "Epoch: [2/5], Step: [201/625], Validation Acc: 86.8\n",
      "Epoch: [2/5], Step: [301/625], Validation Acc: 87.0\n",
      "Epoch: [2/5], Step: [401/625], Validation Acc: 87.36\n",
      "Epoch: [2/5], Step: [501/625], Validation Acc: 87.6\n",
      "Epoch: [2/5], Step: [601/625], Validation Acc: 87.94\n",
      "Epoch: [3/5], Step: [101/625], Validation Acc: 88.22\n",
      "Epoch: [3/5], Step: [201/625], Validation Acc: 87.94\n",
      "Epoch: [3/5], Step: [301/625], Validation Acc: 88.68\n",
      "Epoch: [3/5], Step: [401/625], Validation Acc: 88.78\n",
      "Epoch: [3/5], Step: [501/625], Validation Acc: 88.82\n",
      "Epoch: [3/5], Step: [601/625], Validation Acc: 88.8\n",
      "Epoch: [4/5], Step: [101/625], Validation Acc: 89.3\n",
      "Epoch: [4/5], Step: [201/625], Validation Acc: 89.04\n",
      "Epoch: [4/5], Step: [301/625], Validation Acc: 89.2\n",
      "Epoch: [4/5], Step: [401/625], Validation Acc: 89.18\n",
      "Epoch: [4/5], Step: [501/625], Validation Acc: 89.16\n",
      "Epoch: [4/5], Step: [601/625], Validation Acc: 89.38\n",
      "Epoch: [5/5], Step: [101/625], Validation Acc: 89.08\n",
      "Epoch: [5/5], Step: [201/625], Validation Acc: 89.08\n",
      "Epoch: [5/5], Step: [301/625], Validation Acc: 89.04\n",
      "Epoch: [5/5], Step: [401/625], Validation Acc: 88.98\n",
      "Epoch: [5/5], Step: [501/625], Validation Acc: 89.16\n",
      "Epoch: [5/5], Step: [601/625], Validation Acc: 89.16\n",
      "current learning_rate is 0.01:\n",
      "Epoch: [1/5], Step: [101/625], Validation Acc: 83.66\n",
      "Epoch: [1/5], Step: [201/625], Validation Acc: 87.26\n",
      "Epoch: [1/5], Step: [301/625], Validation Acc: 87.7\n",
      "Epoch: [1/5], Step: [401/625], Validation Acc: 88.16\n",
      "Epoch: [1/5], Step: [501/625], Validation Acc: 87.98\n",
      "Epoch: [1/5], Step: [601/625], Validation Acc: 89.02\n",
      "Epoch: [2/5], Step: [101/625], Validation Acc: 88.64\n",
      "Epoch: [2/5], Step: [201/625], Validation Acc: 89.18\n",
      "Epoch: [2/5], Step: [301/625], Validation Acc: 86.86\n",
      "Epoch: [2/5], Step: [401/625], Validation Acc: 89.06\n",
      "Epoch: [2/5], Step: [501/625], Validation Acc: 87.96\n",
      "Epoch: [2/5], Step: [601/625], Validation Acc: 87.74\n",
      "Epoch: [3/5], Step: [101/625], Validation Acc: 88.46\n",
      "Epoch: [3/5], Step: [201/625], Validation Acc: 88.34\n",
      "Epoch: [3/5], Step: [301/625], Validation Acc: 88.54\n",
      "Epoch: [3/5], Step: [401/625], Validation Acc: 88.24\n",
      "Epoch: [3/5], Step: [501/625], Validation Acc: 88.32\n",
      "Epoch: [3/5], Step: [601/625], Validation Acc: 88.7\n",
      "Epoch: [4/5], Step: [101/625], Validation Acc: 88.8\n",
      "Epoch: [4/5], Step: [201/625], Validation Acc: 88.6\n",
      "Epoch: [4/5], Step: [301/625], Validation Acc: 88.76\n",
      "Epoch: [4/5], Step: [401/625], Validation Acc: 88.68\n",
      "Epoch: [4/5], Step: [501/625], Validation Acc: 88.84\n",
      "Epoch: [4/5], Step: [601/625], Validation Acc: 88.56\n",
      "Epoch: [5/5], Step: [101/625], Validation Acc: 88.6\n",
      "Epoch: [5/5], Step: [201/625], Validation Acc: 88.6\n",
      "Epoch: [5/5], Step: [301/625], Validation Acc: 88.62\n",
      "Epoch: [5/5], Step: [401/625], Validation Acc: 88.58\n",
      "Epoch: [5/5], Step: [501/625], Validation Acc: 88.54\n",
      "Epoch: [5/5], Step: [601/625], Validation Acc: 88.58\n",
      "current learning_rate is 0.05:\n",
      "Epoch: [1/5], Step: [101/625], Validation Acc: 83.64\n",
      "Epoch: [1/5], Step: [201/625], Validation Acc: 86.2\n",
      "Epoch: [1/5], Step: [301/625], Validation Acc: 86.86\n",
      "Epoch: [1/5], Step: [401/625], Validation Acc: 84.7\n",
      "Epoch: [1/5], Step: [501/625], Validation Acc: 87.04\n",
      "Epoch: [1/5], Step: [601/625], Validation Acc: 88.18\n",
      "Epoch: [2/5], Step: [101/625], Validation Acc: 88.74\n",
      "Epoch: [2/5], Step: [201/625], Validation Acc: 87.66\n",
      "Epoch: [2/5], Step: [301/625], Validation Acc: 87.98\n",
      "Epoch: [2/5], Step: [401/625], Validation Acc: 87.22\n",
      "Epoch: [2/5], Step: [501/625], Validation Acc: 87.18\n",
      "Epoch: [2/5], Step: [601/625], Validation Acc: 86.06\n",
      "Epoch: [3/5], Step: [101/625], Validation Acc: 85.34\n",
      "Epoch: [3/5], Step: [201/625], Validation Acc: 85.62\n",
      "Epoch: [3/5], Step: [301/625], Validation Acc: 85.48\n",
      "Epoch: [3/5], Step: [401/625], Validation Acc: 86.4\n",
      "Epoch: [3/5], Step: [501/625], Validation Acc: 85.1\n",
      "Epoch: [3/5], Step: [601/625], Validation Acc: 86.12\n",
      "Epoch: [4/5], Step: [101/625], Validation Acc: 86.2\n",
      "Epoch: [4/5], Step: [201/625], Validation Acc: 85.8\n",
      "Epoch: [4/5], Step: [301/625], Validation Acc: 86.62\n",
      "Epoch: [4/5], Step: [401/625], Validation Acc: 85.9\n",
      "Epoch: [4/5], Step: [501/625], Validation Acc: 86.2\n",
      "Epoch: [4/5], Step: [601/625], Validation Acc: 86.44\n",
      "Epoch: [5/5], Step: [101/625], Validation Acc: 86.5\n",
      "Epoch: [5/5], Step: [201/625], Validation Acc: 85.38\n",
      "Epoch: [5/5], Step: [301/625], Validation Acc: 86.62\n",
      "Epoch: [5/5], Step: [401/625], Validation Acc: 85.78\n",
      "Epoch: [5/5], Step: [501/625], Validation Acc: 86.42\n",
      "Epoch: [5/5], Step: [601/625], Validation Acc: 86.94\n",
      "current learning_rate is 0.1:\n",
      "Epoch: [1/5], Step: [101/625], Validation Acc: 84.36\n",
      "Epoch: [1/5], Step: [201/625], Validation Acc: 85.52\n",
      "Epoch: [1/5], Step: [301/625], Validation Acc: 85.48\n",
      "Epoch: [1/5], Step: [401/625], Validation Acc: 84.62\n",
      "Epoch: [1/5], Step: [501/625], Validation Acc: 84.96\n",
      "Epoch: [1/5], Step: [601/625], Validation Acc: 86.86\n",
      "Epoch: [2/5], Step: [101/625], Validation Acc: 86.68\n",
      "Epoch: [2/5], Step: [201/625], Validation Acc: 86.2\n",
      "Epoch: [2/5], Step: [301/625], Validation Acc: 85.24\n",
      "Epoch: [2/5], Step: [401/625], Validation Acc: 85.84\n",
      "Epoch: [2/5], Step: [501/625], Validation Acc: 83.62\n",
      "Epoch: [2/5], Step: [601/625], Validation Acc: 85.22\n",
      "Epoch: [3/5], Step: [101/625], Validation Acc: 86.02\n",
      "Epoch: [3/5], Step: [201/625], Validation Acc: 86.62\n",
      "Epoch: [3/5], Step: [301/625], Validation Acc: 85.8\n",
      "Epoch: [3/5], Step: [401/625], Validation Acc: 83.56\n",
      "Epoch: [3/5], Step: [501/625], Validation Acc: 85.86\n",
      "Epoch: [3/5], Step: [601/625], Validation Acc: 84.48\n",
      "Epoch: [4/5], Step: [101/625], Validation Acc: 86.26\n",
      "Epoch: [4/5], Step: [201/625], Validation Acc: 86.72\n",
      "Epoch: [4/5], Step: [301/625], Validation Acc: 86.08\n",
      "Epoch: [4/5], Step: [401/625], Validation Acc: 86.92\n",
      "Epoch: [4/5], Step: [501/625], Validation Acc: 86.5\n",
      "Epoch: [4/5], Step: [601/625], Validation Acc: 86.86\n",
      "Epoch: [5/5], Step: [101/625], Validation Acc: 86.08\n",
      "Epoch: [5/5], Step: [201/625], Validation Acc: 86.12\n",
      "Epoch: [5/5], Step: [301/625], Validation Acc: 86.56\n",
      "Epoch: [5/5], Step: [401/625], Validation Acc: 85.68\n",
      "Epoch: [5/5], Step: [501/625], Validation Acc: 86.94\n",
      "Epoch: [5/5], Step: [601/625], Validation Acc: 85.66\n"
     ]
    }
   ],
   "source": [
    "BATCH_SIZE = 32\n",
    "max_vocab_size = 100000\n",
    "num_epochs = 5 \n",
    "emb_dim = 200\n",
    "MAX_SENTENCE_LENGTH = 200\n",
    "\n",
    "\n",
    "token2id, id2token = build_vocab(all_train_tokens)\n",
    "train_data_indices = token2index_dataset(train_data_tokens)\n",
    "val_data_indices = token2index_dataset(val_data_tokens)\n",
    "test_data_indices = token2index_dataset(test_data_tokens)\n",
    "\n",
    "print (\"Train dataset size is {}\".format(len(train_data_indices)))\n",
    "print (\"Val dataset size is {}\".format(len(val_data_indices)))\n",
    "print (\"Test dataset size is {}\".format(len(test_data_indices)))\n",
    "print('\\n')\n",
    "\n",
    "train_dataset = NewsGroupDataset(train_data_indices, train_targets_class)\n",
    "train_loader = torch.utils.data.DataLoader(dataset=train_dataset, \n",
    "                                       batch_size=BATCH_SIZE,\n",
    "                                       collate_fn=newsgroup_collate_func,\n",
    "                                       shuffle=True)\n",
    "\n",
    "val_dataset = NewsGroupDataset(val_data_indices, val_targets_class)\n",
    "val_loader = torch.utils.data.DataLoader(dataset=val_dataset, \n",
    "                                       batch_size=BATCH_SIZE,\n",
    "                                       collate_fn=newsgroup_collate_func,\n",
    "                                       shuffle=True)\n",
    "\n",
    "    \n",
    "experiment_lr_validation_accuracy_list = [[],[],[],[]]\n",
    "for i in range(len(experiment_lr)):\n",
    "    learning_rate = experiment_lr[i]\n",
    "    print('current learning_rate is {}:'.format(learning_rate))\n",
    "    model = BagOfWords(len(id2token), emb_dim)\n",
    "    \n",
    "    criterion = torch.nn.CrossEntropyLoss()  \n",
    "    optimizer = torch.optim.Adam(model.parameters(), lr=learning_rate)\n",
    "    \n",
    "    for epoch in range(num_epochs):\n",
    "        for j, (data, lengths, labels) in enumerate(train_loader):\n",
    "            model.train()\n",
    "            data_batch, length_batch, label_batch = data, lengths, labels\n",
    "            optimizer.zero_grad()\n",
    "            outputs = model(data_batch, length_batch)\n",
    "            loss = criterion(outputs, label_batch)\n",
    "            loss.backward()\n",
    "            optimizer.step()\n",
    "            # validate every 100 iterations\n",
    "            if j > 0 and j % 100 == 0:\n",
    "                # validate\n",
    "                val_acc = test_model(val_loader, model)\n",
    "                experiment_lr_validation_accuracy_list[i].append(val_acc)\n",
    "                print('Epoch: [{}/{}], Step: [{}/{}], Validation Acc: {}'.format( \n",
    "                           epoch+1, num_epochs, j+1, len(train_loader), val_acc))\n",
    "\n",
    "\n",
    "    "
   ]
  },
  {
   "cell_type": "code",
   "execution_count": 164,
   "metadata": {},
   "outputs": [
    {
     "data": {
      "text/plain": [
       "<matplotlib.legend.Legend at 0x13022fa58>"
      ]
     },
     "execution_count": 164,
     "metadata": {},
     "output_type": "execute_result"
    },
    {
     "data": {
      "image/png": "[encoded data removed]",
      "text/plain": [
       "<Figure size 432x288 with 1 Axes>"
      ]
     },
     "metadata": {
      "needs_background": "light"
     },
     "output_type": "display_data"
    }
   ],
   "source": [
    "plt.figure()\n",
    "plt.plot(list(range(len(experiment_lr_validation_accuracy_list[0]))),experiment_lr_validation_accuracy_list[0], label = 'scheme3_4gram_Maxvocab100000_embed200_Adam_0.001')\n",
    "plt.plot(list(range(len(experiment_lr_validation_accuracy_list[0]))),experiment_lr_validation_accuracy_list[1], label = 'scheme3_4gram_Maxvocab100000_embed200_Adam_0.01')\n",
    "plt.plot(list(range(len(experiment_lr_validation_accuracy_list[0]))),experiment_lr_validation_accuracy_list[2], label = 'scheme3_4gram_Maxvocab100000_embed200_Adam_0.05')\n",
    "plt.plot(list(range(len(experiment_lr_validation_accuracy_list[0]))),experiment_lr_validation_accuracy_list[3], label = 'scheme3_4gram_Maxvocab100000_embed200_Adam_0.1')\n",
    "plt.xlabel('hundred iterations')\n",
    "plt.ylabel('validation accuracy')\n",
    "plt.legend()"
   ]
  },
  {
   "cell_type": "markdown",
   "metadata": {},
   "source": [
    "## Experiment with linear annealing learning rate "
   ]
  },
  {
   "cell_type": "code",
   "execution_count": 158,
   "metadata": {},
   "outputs": [],
   "source": [
    "train_targets_class = pkl.load(open(\"train_targets_class.p\", \"rb\"))\n",
    "train_targets_values = pkl.load(open(\"train_targets_values.p\", \"rb\"))\n",
    "val_targets_class = pkl.load(open(\"val_targets_class.p\", \"rb\"))\n",
    "val_targets_values = pkl.load(open(\"val_targets_values.p\", \"rb\"))\n",
    "test_targets_class = pkl.load(open(\"test_targets_class.p\", \"rb\"))\n",
    "test_targets_values = pkl.load(open(\"test_targets_values.p\", \"rb\"))\n",
    "\n",
    "#convert 'pos' into 1, 'neg' into 0\n",
    "train_targets_class = convert(train_targets_class)\n",
    "val_targets_class = convert(val_targets_class)\n",
    "test_targets_class = convert(test_targets_class)"
   ]
  },
  {
   "cell_type": "code",
   "execution_count": 159,
   "metadata": {},
   "outputs": [
    {
     "name": "stdout",
     "output_type": "stream",
     "text": [
      "Train dataset size is 20000\n",
      "Val dataset size is 5000\n",
      "Test dataset size is 25000\n",
      "Total number of tokens in train dataset is 16579672\n"
     ]
    }
   ],
   "source": [
    "train_data_tokens = pkl.load(open(\"train_data_tokens_scheme3_4gram.p\", \"rb\"))\n",
    "all_train_tokens = pkl.load(open(\"all_train_tokens_scheme3_4gram.p\", \"rb\"))\n",
    "\n",
    "val_data_tokens = pkl.load(open(\"val_data_tokens_scheme3_4gram.p\", \"rb\"))\n",
    "test_data_tokens = pkl.load(open(\"test_data_tokens_scheme3_4gram.p\", \"rb\"))\n",
    "\n",
    "# double checking\n",
    "print (\"Train dataset size is {}\".format(len(train_data_tokens)))\n",
    "print (\"Val dataset size is {}\".format(len(val_data_tokens)))\n",
    "print (\"Test dataset size is {}\".format(len(test_data_tokens)))\n",
    "\n",
    "print (\"Total number of tokens in train dataset is {}\".format(len(all_train_tokens)))"
   ]
  },
  {
   "cell_type": "code",
   "execution_count": 160,
   "metadata": {},
   "outputs": [],
   "source": []
  },
  {
   "cell_type": "code",
   "execution_count": 180,
   "metadata": {},
   "outputs": [
    {
     "name": "stdout",
     "output_type": "stream",
     "text": [
      "Train dataset size is 20000\n",
      "Val dataset size is 5000\n",
      "Test dataset size is 25000\n",
      "\n",
      "\n",
      "current learning_rate is 0.095\n",
      "Epoch: [1/5], Step: [301/625], Validation Acc: 79.3\n",
      "current learning_rate is 0.09\n",
      "Epoch: [1/5], Step: [601/625], Validation Acc: 84.58\n",
      "current learning_rate is 0.08499999999999999\n",
      "Epoch: [2/5], Step: [301/625], Validation Acc: 86.94\n",
      "current learning_rate is 0.07999999999999999\n",
      "Epoch: [2/5], Step: [601/625], Validation Acc: 82.88\n",
      "current learning_rate is 0.07499999999999998\n",
      "Epoch: [3/5], Step: [301/625], Validation Acc: 87.1\n",
      "current learning_rate is 0.06999999999999998\n",
      "Epoch: [3/5], Step: [601/625], Validation Acc: 86.28\n",
      "current learning_rate is 0.06499999999999997\n",
      "Epoch: [4/5], Step: [301/625], Validation Acc: 86.5\n",
      "current learning_rate is 0.05999999999999998\n",
      "Epoch: [4/5], Step: [601/625], Validation Acc: 87.42\n",
      "current learning_rate is 0.05499999999999998\n",
      "Epoch: [5/5], Step: [301/625], Validation Acc: 86.94\n",
      "current learning_rate is 0.04999999999999998\n",
      "Epoch: [5/5], Step: [601/625], Validation Acc: 86.86\n"
     ]
    }
   ],
   "source": [
    "BATCH_SIZE = 32\n",
    "max_vocab_size = 100000\n",
    "num_epochs = 5 \n",
    "emb_dim = 200\n",
    "MAX_SENTENCE_LENGTH = 200\n",
    "\n",
    "\n",
    "token2id, id2token = build_vocab(all_train_tokens)\n",
    "train_data_indices = token2index_dataset(train_data_tokens)\n",
    "val_data_indices = token2index_dataset(val_data_tokens)\n",
    "test_data_indices = token2index_dataset(test_data_tokens)\n",
    "\n",
    "print (\"Train dataset size is {}\".format(len(train_data_indices)))\n",
    "print (\"Val dataset size is {}\".format(len(val_data_indices)))\n",
    "print (\"Test dataset size is {}\".format(len(test_data_indices)))\n",
    "print('\\n')\n",
    "\n",
    "train_dataset = NewsGroupDataset(train_data_indices, train_targets_class)\n",
    "train_loader = torch.utils.data.DataLoader(dataset=train_dataset, \n",
    "                                       batch_size=BATCH_SIZE,\n",
    "                                       collate_fn=newsgroup_collate_func,\n",
    "                                       shuffle=True)\n",
    "\n",
    "val_dataset = NewsGroupDataset(val_data_indices, val_targets_class)\n",
    "val_loader = torch.utils.data.DataLoader(dataset=val_dataset, \n",
    "                                       batch_size=BATCH_SIZE,\n",
    "                                       collate_fn=newsgroup_collate_func,\n",
    "                                       shuffle=True)\n",
    "\n",
    "    \n",
    "experiment_lr_linear_validation_accuracy_list = []\n",
    "learning_rate = 0.1\n",
    "model = BagOfWords(len(id2token), emb_dim)\n",
    "criterion = torch.nn.CrossEntropyLoss()  \n",
    "\n",
    "#every 300 iteration reduce learning rate by 0.005\n",
    "count = 0\n",
    "for epoch in range(num_epochs):\n",
    "    for j, (data, lengths, labels) in enumerate(train_loader):\n",
    "        model.train()\n",
    "        count +=1\n",
    "        if count % 300 == 0 :\n",
    "            learning_rate = learning_rate - 0.005 \n",
    "            print('current learning_rate is {}'.format(learning_rate))\n",
    "        optimizer = torch.optim.Adam(model.parameters(), lr=learning_rate)\n",
    "        data_batch, length_batch, label_batch = data, lengths, labels\n",
    "        optimizer.zero_grad()\n",
    "        outputs = model(data_batch, length_batch)\n",
    "        loss = criterion(outputs, label_batch)\n",
    "        loss.backward()\n",
    "        optimizer.step()\n",
    "        # validate every 300 iterations\n",
    "        if j > 0 and j % 300 == 0:\n",
    "            # validate\n",
    "            val_acc = test_model(val_loader, model)\n",
    "            experiment_lr_linear_validation_accuracy_list.append(val_acc)\n",
    "            print('Epoch: [{}/{}], Step: [{}/{}], Validation Acc: {}'.format( \n",
    "                       epoch+1, num_epochs, j+1, len(train_loader), val_acc))\n",
    "\n",
    "\n",
    "    "
   ]
  },
  {
   "cell_type": "code",
   "execution_count": 182,
   "metadata": {},
   "outputs": [
    {
     "data": {
      "text/plain": [
       "<matplotlib.legend.Legend at 0x176dd9a58>"
      ]
     },
     "execution_count": 182,
     "metadata": {},
     "output_type": "execute_result"
    },
    {
     "data": {
      "image/png": "[encoded data removed]",
      "text/plain": [
       "<Figure size 432x288 with 1 Axes>"
      ]
     },
     "metadata": {
      "needs_background": "light"
     },
     "output_type": "display_data"
    }
   ],
   "source": [
    "plt.plot(list(range(len(experiment_lr_linear_validation_accuracy_list))),experiment_lr_linear_validation_accuracy_list, label = 'scheme3_4gram_Maxvocab100000_embed200_Adam_linearReduction')\n",
    "plt.xlabel('hundred iterations')\n",
    "plt.ylabel('validation accuracy')\n",
    "plt.legend()\n"
   ]
  },
  {
   "cell_type": "code",
   "execution_count": null,
   "metadata": {},
   "outputs": [],
   "source": []
  },
  {
   "cell_type": "markdown",
   "metadata": {},
   "source": [
    "## Final Model"
   ]
  },
  {
   "cell_type": "code",
   "execution_count": 165,
   "metadata": {},
   "outputs": [],
   "source": [
    "train_targets_class = pkl.load(open(\"train_targets_class.p\", \"rb\"))\n",
    "train_targets_values = pkl.load(open(\"train_targets_values.p\", \"rb\"))\n",
    "val_targets_class = pkl.load(open(\"val_targets_class.p\", \"rb\"))\n",
    "val_targets_values = pkl.load(open(\"val_targets_values.p\", \"rb\"))\n",
    "test_targets_class = pkl.load(open(\"test_targets_class.p\", \"rb\"))\n",
    "test_targets_values = pkl.load(open(\"test_targets_values.p\", \"rb\"))\n",
    "\n",
    "#convert 'pos' into 1, 'neg' into 0\n",
    "train_targets_class = convert(train_targets_class)\n",
    "val_targets_class = convert(val_targets_class)\n",
    "test_targets_class = convert(test_targets_class)\n"
   ]
  },
  {
   "cell_type": "code",
   "execution_count": 166,
   "metadata": {},
   "outputs": [
    {
     "name": "stdout",
     "output_type": "stream",
     "text": [
      "Train dataset size is 20000\n",
      "Val dataset size is 5000\n",
      "Test dataset size is 25000\n",
      "Total number of tokens in train dataset is 16579672\n"
     ]
    }
   ],
   "source": [
    "train_data_tokens = pkl.load(open(\"train_data_tokens_scheme3_4gram.p\", \"rb\"))\n",
    "all_train_tokens = pkl.load(open(\"all_train_tokens_scheme3_4gram.p\", \"rb\"))\n",
    "\n",
    "val_data_tokens = pkl.load(open(\"val_data_tokens_scheme3_4gram.p\", \"rb\"))\n",
    "test_data_tokens = pkl.load(open(\"test_data_tokens_scheme3_4gram.p\", \"rb\"))\n",
    "\n",
    "# double checking\n",
    "print (\"Train dataset size is {}\".format(len(train_data_tokens)))\n",
    "print (\"Val dataset size is {}\".format(len(val_data_tokens)))\n",
    "print (\"Test dataset size is {}\".format(len(test_data_tokens)))\n",
    "\n",
    "print (\"Total number of tokens in train dataset is {}\".format(len(all_train_tokens)))"
   ]
  },
  {
   "cell_type": "code",
   "execution_count": 170,
   "metadata": {},
   "outputs": [
    {
     "name": "stdout",
     "output_type": "stream",
     "text": [
      "Train dataset size is 20000\n",
      "Val dataset size is 5000\n",
      "Test dataset size is 25000\n",
      "\n",
      "\n",
      "Epoch: [1/50], Step: [301/625], Validation Acc: 76.08\n",
      "Epoch: [1/50], Step: [601/625], Validation Acc: 84.96\n",
      "find new record, save the model!\n",
      "Epoch: [2/50], Step: [301/625], Validation Acc: 87.18\n",
      "find new record, save the model!\n",
      "Epoch: [2/50], Step: [601/625], Validation Acc: 88.2\n",
      "find new record, save the model!\n",
      "Epoch: [3/50], Step: [301/625], Validation Acc: 88.76\n",
      "find new record, save the model!\n",
      "Epoch: [3/50], Step: [601/625], Validation Acc: 88.9\n",
      "find new record, save the model!\n",
      "Epoch: [4/50], Step: [301/625], Validation Acc: 89.22\n",
      "find new record, save the model!\n",
      "Epoch: [4/50], Step: [601/625], Validation Acc: 89.3\n",
      "find new record, save the model!\n",
      "Epoch: [5/50], Step: [301/625], Validation Acc: 89.5\n",
      "find new record, save the model!\n",
      "Epoch: [5/50], Step: [601/625], Validation Acc: 89.42\n",
      "Epoch: [6/50], Step: [301/625], Validation Acc: 89.3\n",
      "Epoch: [6/50], Step: [601/625], Validation Acc: 89.54\n",
      "find new record, save the model!\n",
      "Epoch: [7/50], Step: [301/625], Validation Acc: 89.38\n",
      "Epoch: [7/50], Step: [601/625], Validation Acc: 89.34\n",
      "Epoch: [8/50], Step: [301/625], Validation Acc: 89.32\n",
      "Epoch: [8/50], Step: [601/625], Validation Acc: 89.2\n",
      "Epoch: [9/50], Step: [301/625], Validation Acc: 89.28\n",
      "Epoch: [9/50], Step: [601/625], Validation Acc: 89.18\n",
      "Epoch: [10/50], Step: [301/625], Validation Acc: 89.12\n",
      "Epoch: [10/50], Step: [601/625], Validation Acc: 89.14\n",
      "Epoch: [11/50], Step: [301/625], Validation Acc: 89.04\n",
      "Epoch: [11/50], Step: [601/625], Validation Acc: 89.06\n",
      "Epoch: [12/50], Step: [301/625], Validation Acc: 89.12\n",
      "Epoch: [12/50], Step: [601/625], Validation Acc: 89.12\n",
      "Epoch: [13/50], Step: [301/625], Validation Acc: 89.04\n",
      "Epoch: [13/50], Step: [601/625], Validation Acc: 89.06\n",
      "Epoch: [14/50], Step: [301/625], Validation Acc: 88.94\n",
      "Epoch: [14/50], Step: [601/625], Validation Acc: 89.06\n",
      "Epoch: [15/50], Step: [301/625], Validation Acc: 89.02\n",
      "Epoch: [15/50], Step: [601/625], Validation Acc: 89.0\n",
      "Epoch: [16/50], Step: [301/625], Validation Acc: 88.96\n",
      "Epoch: [16/50], Step: [601/625], Validation Acc: 89.0\n",
      "Epoch: [17/50], Step: [301/625], Validation Acc: 88.88\n",
      "Epoch: [17/50], Step: [601/625], Validation Acc: 88.92\n",
      "Epoch: [18/50], Step: [301/625], Validation Acc: 88.84\n",
      "Epoch: [18/50], Step: [601/625], Validation Acc: 88.96\n",
      "Epoch: [19/50], Step: [301/625], Validation Acc: 88.9\n",
      "Epoch: [19/50], Step: [601/625], Validation Acc: 88.88\n",
      "Epoch: [20/50], Step: [301/625], Validation Acc: 88.84\n",
      "Epoch: [20/50], Step: [601/625], Validation Acc: 88.88\n",
      "Epoch: [21/50], Step: [301/625], Validation Acc: 88.94\n",
      "Epoch: [21/50], Step: [601/625], Validation Acc: 88.92\n",
      "Epoch: [22/50], Step: [301/625], Validation Acc: 88.86\n",
      "Epoch: [22/50], Step: [601/625], Validation Acc: 88.88\n",
      "Epoch: [23/50], Step: [301/625], Validation Acc: 88.8\n",
      "Epoch: [23/50], Step: [601/625], Validation Acc: 88.84\n",
      "Epoch: [24/50], Step: [301/625], Validation Acc: 88.78\n",
      "Epoch: [24/50], Step: [601/625], Validation Acc: 88.88\n",
      "Epoch: [25/50], Step: [301/625], Validation Acc: 88.9\n",
      "Epoch: [25/50], Step: [601/625], Validation Acc: 88.78\n",
      "Epoch: [26/50], Step: [301/625], Validation Acc: 88.84\n",
      "Epoch: [26/50], Step: [601/625], Validation Acc: 88.72\n",
      "Epoch: [27/50], Step: [301/625], Validation Acc: 88.82\n",
      "Epoch: [27/50], Step: [601/625], Validation Acc: 88.8\n",
      "Epoch: [28/50], Step: [301/625], Validation Acc: 88.76\n",
      "Epoch: [28/50], Step: [601/625], Validation Acc: 88.76\n",
      "Epoch: [29/50], Step: [301/625], Validation Acc: 88.82\n",
      "Epoch: [29/50], Step: [601/625], Validation Acc: 88.8\n",
      "Epoch: [30/50], Step: [301/625], Validation Acc: 88.86\n",
      "Epoch: [30/50], Step: [601/625], Validation Acc: 88.84\n",
      "Epoch: [31/50], Step: [301/625], Validation Acc: 88.82\n",
      "Epoch: [31/50], Step: [601/625], Validation Acc: 88.74\n",
      "Epoch: [32/50], Step: [301/625], Validation Acc: 88.82\n",
      "Epoch: [32/50], Step: [601/625], Validation Acc: 88.82\n",
      "Epoch: [33/50], Step: [301/625], Validation Acc: 88.84\n",
      "Epoch: [33/50], Step: [601/625], Validation Acc: 88.86\n",
      "Epoch: [34/50], Step: [301/625], Validation Acc: 88.84\n",
      "Epoch: [34/50], Step: [601/625], Validation Acc: 88.78\n",
      "Epoch: [35/50], Step: [301/625], Validation Acc: 88.78\n",
      "Epoch: [35/50], Step: [601/625], Validation Acc: 88.8\n",
      "Epoch: [36/50], Step: [301/625], Validation Acc: 88.8\n",
      "Epoch: [36/50], Step: [601/625], Validation Acc: 88.78\n",
      "Epoch: [37/50], Step: [301/625], Validation Acc: 88.78\n",
      "Epoch: [37/50], Step: [601/625], Validation Acc: 88.76\n",
      "Epoch: [38/50], Step: [301/625], Validation Acc: 88.82\n",
      "Epoch: [38/50], Step: [601/625], Validation Acc: 88.76\n",
      "Epoch: [39/50], Step: [301/625], Validation Acc: 88.78\n",
      "Epoch: [39/50], Step: [601/625], Validation Acc: 88.78\n",
      "Epoch: [40/50], Step: [301/625], Validation Acc: 88.84\n",
      "Epoch: [40/50], Step: [601/625], Validation Acc: 88.8\n",
      "Epoch: [41/50], Step: [301/625], Validation Acc: 88.78\n",
      "Epoch: [41/50], Step: [601/625], Validation Acc: 88.78\n",
      "Epoch: [42/50], Step: [301/625], Validation Acc: 88.78\n",
      "Epoch: [42/50], Step: [601/625], Validation Acc: 88.76\n",
      "Epoch: [43/50], Step: [301/625], Validation Acc: 88.76\n",
      "Epoch: [43/50], Step: [601/625], Validation Acc: 88.8\n",
      "Epoch: [44/50], Step: [301/625], Validation Acc: 88.76\n",
      "Epoch: [44/50], Step: [601/625], Validation Acc: 88.78\n",
      "Epoch: [45/50], Step: [301/625], Validation Acc: 88.78\n",
      "Epoch: [45/50], Step: [601/625], Validation Acc: 88.76\n",
      "Epoch: [46/50], Step: [301/625], Validation Acc: 88.76\n",
      "Epoch: [46/50], Step: [601/625], Validation Acc: 88.74\n",
      "Epoch: [47/50], Step: [301/625], Validation Acc: 88.82\n",
      "Epoch: [47/50], Step: [601/625], Validation Acc: 88.76\n",
      "Epoch: [48/50], Step: [301/625], Validation Acc: 88.76\n",
      "Epoch: [48/50], Step: [601/625], Validation Acc: 88.78\n",
      "Epoch: [49/50], Step: [301/625], Validation Acc: 88.8\n",
      "Epoch: [49/50], Step: [601/625], Validation Acc: 88.78\n",
      "Epoch: [50/50], Step: [301/625], Validation Acc: 88.78\n",
      "Epoch: [50/50], Step: [601/625], Validation Acc: 88.8\n"
     ]
    }
   ],
   "source": [
    "#best configuration from above experiment:\n",
    "\n",
    "#set batch_size to a large number, but save only the best model according to validation\n",
    "num_epochs = 50\n",
    "BATCH_SIZE = 32\n",
    "max_vocab_size = 100000\n",
    "emb_dim = 200\n",
    "learning_rate = 0.001\n",
    "MAX_SENTENCE_LENGTH = 200\n",
    "\n",
    "\n",
    "token2id, id2token = build_vocab(all_train_tokens)\n",
    "train_data_indices = token2index_dataset(train_data_tokens)\n",
    "val_data_indices = token2index_dataset(val_data_tokens)\n",
    "test_data_indices = token2index_dataset(test_data_tokens)\n",
    "\n",
    "print (\"Train dataset size is {}\".format(len(train_data_indices)))\n",
    "print (\"Val dataset size is {}\".format(len(val_data_indices)))\n",
    "print (\"Test dataset size is {}\".format(len(test_data_indices)))\n",
    "print('\\n')\n",
    "\n",
    "train_dataset = NewsGroupDataset(train_data_indices, train_targets_class)\n",
    "train_loader = torch.utils.data.DataLoader(dataset=train_dataset, \n",
    "                                       batch_size=BATCH_SIZE,\n",
    "                                       collate_fn=newsgroup_collate_func,\n",
    "                                       shuffle=True)\n",
    "\n",
    "val_dataset = NewsGroupDataset(val_data_indices, val_targets_class)\n",
    "val_loader = torch.utils.data.DataLoader(dataset=val_dataset, \n",
    "                                       batch_size=BATCH_SIZE,\n",
    "                                       collate_fn=newsgroup_collate_func,\n",
    "                                       shuffle=True)\n",
    "\n",
    "test_dataset = NewsGroupDataset(test_data_indices, test_targets_class)\n",
    "test_loader = torch.utils.data.DataLoader(dataset=test_dataset, \n",
    "                                           batch_size=BATCH_SIZE,\n",
    "                                           collate_fn=newsgroup_collate_func,\n",
    "                                           shuffle=False)\n",
    "    \n",
    "\n",
    "model = BagOfWords(len(id2token), emb_dim)\n",
    "    \n",
    "criterion = torch.nn.CrossEntropyLoss()  \n",
    "optimizer = torch.optim.Adam(model.parameters(), lr=learning_rate)\n",
    "best_acc = 0 \n",
    "\n",
    "validation_accuracy = []\n",
    "training_accuracy = []\n",
    "for epoch in range(num_epochs):\n",
    "    for j, (data, lengths, labels) in enumerate(train_loader):\n",
    "        model.train()\n",
    "        data_batch, length_batch, label_batch = data, lengths, labels\n",
    "        optimizer.zero_grad()\n",
    "        outputs = model(data_batch, length_batch)\n",
    "        loss = criterion(outputs, label_batch)\n",
    "        loss.backward()\n",
    "        optimizer.step()\n",
    "        # validate every 100 iterations\n",
    "        if j > 0 and j % 300 == 0:\n",
    "            # validate\n",
    "            val_acc = test_model(val_loader, model)\n",
    "            train_acc = test_model(train_loader, model)\n",
    "            validation_accuracy.append(val_acc)\n",
    "            training_accuracy.append(train_acc)\n",
    "            print('Epoch: [{}/{}], Step: [{}/{}], Validation Acc: {}'.format( \n",
    "                       epoch+1, num_epochs, j+1, len(train_loader), val_acc))\n",
    "            if val_acc > best_error:\n",
    "                best_error = val_acc\n",
    "                print('find new record, save the model!')\n",
    "                torch.save(model.state_dict(), 'current_best_model.pkl')\n",
    "                \n",
    "            \n",
    "\n",
    "\n"
   ]
  },
  {
   "cell_type": "code",
   "execution_count": 171,
   "metadata": {},
   "outputs": [],
   "source": [
    "#load the model for testing\n",
    "best_model = BagOfWords(len(id2token), emb_dim)\n",
    "best_model.load_state_dict(torch.load('current_best_model.pkl'))"
   ]
  },
  {
   "cell_type": "code",
   "execution_count": 183,
   "metadata": {},
   "outputs": [
    {
     "data": {
      "text/plain": [
       "<matplotlib.legend.Legend at 0x1fce42b70>"
      ]
     },
     "execution_count": 183,
     "metadata": {},
     "output_type": "execute_result"
    },
    {
     "data": {
      "image/png": "[encoded data removed]",
      "text/plain": [
       "<Figure size 432x288 with 1 Axes>"
      ]
     },
     "metadata": {
      "needs_background": "light"
     },
     "output_type": "display_data"
    }
   ],
   "source": [
    "plt.figure()\n",
    "plt.plot(list(range(len(validation_accuracy))),validation_accuracy, label = 'final_model_Validation')\n",
    "plt.plot(list(range(len(training_accuracy))),training_accuracy, label = 'final_model_training')\n",
    "plt.xlabel('hundred iterations')\n",
    "plt.ylabel('accuracy')\n",
    "plt.legend()"
   ]
  },
  {
   "cell_type": "code",
   "execution_count": 172,
   "metadata": {},
   "outputs": [],
   "source": [
    "correct = 0\n",
    "total = 0\n",
    "best_model.eval()\n",
    "for data, lengths, labels in test_loader:\n",
    "    data_batch, length_batch, label_batch = data, lengths, labels\n",
    "    outputs = F.softmax(best_model(data_batch, length_batch), dim=1)\n",
    "    predicted = outputs.max(1, keepdim=True)[1]\n",
    "\n",
    "    total += labels.size(0)\n",
    "    correct += predicted.eq(labels.view_as(predicted)).sum().item()\n",
    "    acc = 100 * correct / total\n",
    "    "
   ]
  },
  {
   "cell_type": "code",
   "execution_count": 174,
   "metadata": {},
   "outputs": [
    {
     "name": "stdout",
     "output_type": "stream",
     "text": [
      "testing accuracy: 87.996 \n"
     ]
    }
   ],
   "source": [
    "print('testing accuracy: {} '.format(acc))"
   ]
  },
  {
   "cell_type": "code",
   "execution_count": 191,
   "metadata": {
    "scrolled": true
   },
   "outputs": [
    {
     "name": "stdout",
     "output_type": "stream",
     "text": [
      "data_batch is tensor([[   14,     5,  3045,  ...,  6304, 14965, 16311],\n",
      "        [ 3323,  1034,     3,  ...,     1,     1, 51926],\n",
      "        [ 1516,  5450,  4873,  ...,     1,     1,     1],\n",
      "        ...,\n",
      "        [   67,     3,  3523,  ..., 43069,     1,     1],\n",
      "        [    2,     8,    61,  ...,  4623, 57279,  1251],\n",
      "        [ 2303,     2,   638,  ...,     1,     1,  1852]])\n",
      "label_batch is tensor([0, 0, 0, 0, 1, 0, 0, 0, 1, 0, 1, 1, 1, 1, 1, 0, 0, 0, 0, 0, 0, 1, 0, 1,\n",
      "        1, 1, 1, 0, 0, 1, 0, 1])\n",
      "predicted labels is tensor([0, 1, 0, 0, 1, 0, 0, 0, 1, 1, 1, 1, 1, 1, 1, 0, 0, 0, 0, 0, 1, 1, 0, 1,\n",
      "        1, 1, 1, 0, 0, 1, 1, 1])\n",
      "tensor([1, 0, 1, 1, 1, 1, 1, 1, 1, 0, 1, 1, 1, 1, 1, 1, 1, 1, 1, 1, 0, 1, 1, 1,\n",
      "        1, 1, 1, 1, 1, 1, 0, 1], dtype=torch.uint8)\n"
     ]
    }
   ],
   "source": [
    "#print 3 correct and 3 incorrect prediction of the final model on validation set\n",
    "count = 0\n",
    "for data, lengths, labels in val_loader:\n",
    "    if count == 1:\n",
    "        break\n",
    "    data_batch, length_batch, label_batch = data, lengths, labels\n",
    "    print('data_batch is {}'.format(data_batch))\n",
    "    print('label_batch is {}'.format(label_batch))\n",
    "    \n",
    "    outputs = F.softmax(best_model(data_batch, length_batch), dim=1)\n",
    "    predicted = outputs.max(1, keepdim=True)[1]\n",
    "    print('predicted labels is {}'.format(predicted.view_as(labels)))\n",
    "    \n",
    "    print((predicted.view_as(labels)==labels))\n",
    "    \n",
    "    count+=1\n",
    "    "
   ]
  },
  {
   "cell_type": "code",
   "execution_count": 201,
   "metadata": {},
   "outputs": [],
   "source": [
    "#map back id to tokens\n",
    "#so 3 incorrect prediction is data_batch[1], data_batch[9], data_batch[20]\n",
    "#   3 correct prediction is data_batch[0], data_batch[2], data_batch[3]                          \n",
    "\n",
    "incorrect_example = [1, 9, 20]\n",
    "correct_example = [0, 2, 3]"
   ]
  },
  {
   "cell_type": "code",
   "execution_count": 206,
   "metadata": {},
   "outputs": [
    {
     "name": "stdout",
     "output_type": "stream",
     "text": [
      "example:\n",
      "true label is 0 predicted to be 1\n",
      "\n",
      "\n",
      "since review 's film screening 's seen decade 's ago i 'd like add recent film open 's stock footage <unk> 's bombing germany film cut 's <unk> werner 's <unk> captain <unk> character aide running cover making way hitler 's <unk> bunker inside <unk> bunker staff personnel film cut 's conference scene 's <unk> <unk> giving decent impression adolf hitler <unk> officer 's ultimate victory werner 's character shown slowly coming realize bunker <unk> 's caught fantasy world non bunker event 's depicted notable <unk> subway system prevent russian advance minor subplot involving young member <unk> unit 's family 's difficulty surviving film suffer 's number detail inaccuracies german film 10 year 's ww2 included actor portraying goebbels willy krause wear 's uniform hitler including arm <unk> goebbels wore brown nazi party uniform <unk> <unk> ss soldier 's wear german army <unk> documented scene hitler <unk> iron cross boy 's hitler youth shown having taken place inside bunker outside courtyard lastly hitler 's suicide weapon clearly shown belgian <unk> model <unk> account 's agree <unk> <unk> bit 's acting wholly inaccurate drunken dance scene near end film notable bit shown cabaret skit intoxicated wounded soldier arm <unk> <unk> goose\n",
      "\n",
      "\n",
      "example:\n",
      "true label is 0 predicted to be 1\n",
      "\n",
      "\n",
      "linda <unk> victim sadistic woman hater chuck <unk> i n't understand having sex dog animal abuse found entertaining funny linda <unk> virtual prisoner <unk> making films i know people criticize comment i feel strongly types films fuel fire hatred misogynistic feelings women this society continues portray women sexual objects opposed human beings we civilized i feel long way scratch surface civilized <unk> <unk> was_the the_victim victim_of of_a a_sadistic <unk> <unk> <unk> <unk> <unk> i_do do_n't n't_understand understand_how <unk> having_sex sex_with with_a a_dog <unk> which_is <unk> <unk> <unk> as_well <unk> can_be be_found found_to to_be be_entertaining entertaining_or or_funny <unk> <unk> <unk> was_a a_virtual <unk> <unk> who_was <unk> <unk> into_making <unk> these_films films_i i_know know_some some_people people_will <unk> <unk> this_comment <unk> but_i i_feel <unk> <unk> that_these these_types types_of of_films <unk> <unk> the_fire <unk> <unk> hatred_and and_further <unk> <unk> <unk> <unk> <unk> <unk> <unk> continues_to to_portray <unk> women_as <unk> <unk> <unk> as_opposed opposed_to <unk> human_beings <unk> we_call <unk> <unk> <unk> however_i i_feel <unk> we_have have_a a_long long_way way_to to_go <unk> before_we we_can can_ever <unk> <unk> the_surface surface_of of_being <unk> <unk> <unk> <unk> the_victim_of <unk> <unk> <unk> <unk> <unk> <unk> <unk> <unk> i_do_n't do_n't_understand n't_understand_how <unk> <unk> having_sex_with sex_with_a <unk> <unk> <unk> <unk> <unk> <unk>\n",
      "\n",
      "\n",
      "example:\n",
      "true label is 0 predicted to be 1\n",
      "\n",
      "\n",
      "when employees theater find old reel film decide midnight screening night living dead assuming 's old preview reel unfortunately 's actually old nazi mind control experiment turns audience <unk> mindless <unk> zombies i n't understand hate movie it low budget independent production lot camp n't deserve <unk> imdb it fun it obvious filmmakers reasonable knowledge love old horror movies created entertaining tribute sprinkled references homages variety it feel things night living dead ways similar evil dead 2 army darkness i liked explanation zombies hypnotized thinking zombies actually come physical attributes living dead unbelievable i appreciate effort writers explain the gore effects decent budget acting right story entertaining i liked when_the <unk> <unk> of_a a_theater <unk> find_an an_old <unk> <unk> of_film film_they they_decide decide_to to_show show_it it_at at_the <unk> <unk> screening_of of_night night_of of_the the_living living_dead <unk> <unk> it_'s 's_an an_old <unk> <unk> <unk> unfortunately_it it_'s 's_actually actually_an an_old <unk> <unk> mind_control <unk> <unk> that_turns turns_the the_audience audience_into into_a <unk> <unk> <unk> <unk> <unk> <unk> i_ca ca_n't n't_understand understand_the <unk> <unk> for_this this_movie movie_it it_is is_a a_low low_budget <unk> <unk> production_with with_a a_lot lot_of of_camp <unk> but_it it_does does_n't n't_deserve deserve_a <unk> <unk> here_on on_imdb <unk> it_is is_just just_so so_much much_fun\n",
      "\n",
      "\n"
     ]
    }
   ],
   "source": [
    "#1: pos, 0:neg\n",
    "for i in incorrect_example:\n",
    "    sent_ex = [id2token[j] for j in data_batch[i]]\n",
    "    print('example:')\n",
    "    print('true label is {} predicted to be {}'.format(label_batch[i],predicted[i].data[0]))\n",
    "    print('\\n')\n",
    "    print(' '.join(sent_ex))\n",
    "    print('\\n')"
   ]
  },
  {
   "cell_type": "code",
   "execution_count": 207,
   "metadata": {},
   "outputs": [
    {
     "name": "stdout",
     "output_type": "stream",
     "text": [
      "example:\n",
      "true label is 0 predicted to be 0\n",
      "\n",
      "\n",
      "this movie absolute worst movie seen my sister boyfriend went rent zodiac 2007 got accident thought joke actual movie terrible waiting scary movie actual facts real zodiac killer the filmmakers clearly n't bother research killings ... liked ... decided write script true i upset n't realize n't movie sooner i try like movie n't hate movies ... ... if given stars definitely 1 10 this_movie movie_must must_have have_been been_the the_absolute absolute_worst worst_movie movie_i i_have have_ever ever_seen seen_my my_sister sister_and and_her her_boyfriend <unk> went_to to_rent <unk> <unk> <unk> and_got got_this this_one one_by by_accident <unk> thought_it it_was was_a a_joke <unk> before_the the_actual actual_movie movie_this this_was was_terrible terrible_i i_was was_waiting waiting_for for_it it_to to_get <unk> scary_and and_it it_never never_did did_this this_movie movie_had had_not <unk> <unk> <unk> about_the the_real <unk> zodiac_killer killer_the the_filmmakers <unk> <unk> did_n't n't_even even_bother bother_to to_research <unk> <unk> on_the the_killings <unk> ..._they they_only <unk> liked_the the_name <unk> ..._so so_they they_decided decided_to to_write write_a a_script <unk> about_nothing <unk> true_to to_its its_name name_i i_am <unk> <unk> i_did did_n't n't_realize realize_it it_was was_n't n't_the the_movie <unk> <unk> i_try try_to to_like like_something something_out out_of of_every every_movie movie_i i_do do_n't n't_hate <unk> movies_... <unk> <unk> ..._except <unk> this_one one_if if_you you_could could_have have_given given_it it_no\n",
      "\n",
      "\n",
      "example:\n",
      "true label is 0 predicted to be 0\n",
      "\n",
      "\n",
      "jane russell proved delightful musical comedy performer similarly titled gentlemen prefer blondes ",
      "  sadly film <unk> skills there budget nice paris photography film n't work ms. russell playing marilyn monroe that leaves adequately play jane russell some players way element there embarrassing scenes warned musical number <unk> african cannibals cook <unk> pot alan young sings gorilla suit this interesting times embarrassing waste resources gentlemen marry <unk> <unk> richard sale jane russell jeanne crain alan young scott brady <unk> <unk> proved_to to_be be_a a_delightful <unk> musical_comedy <unk> <unk> in_the <unk> <unk> <unk> <unk> <unk> <unk> <unk> but_sadly sadly_this this_film <unk> <unk> <unk> <unk> there_is is_a a_budget budget_and and_nice <unk> <unk> photography_but but_the the_film film_just just_does does_n't n't_work <unk> <unk> <unk> seems_to to_be be_playing <unk> marilyn_monroe <unk> that_leaves <unk> nobody_to <unk> <unk> <unk> <unk> <unk> some_of of_the the_other <unk> players_are are_way way_out out_of of_their <unk> <unk> there_are are_several <unk> <unk> <unk> most_of of_all all_be be_warned <unk> there_is is_a a_musical musical_number <unk> <unk> <unk> <unk> <unk> <unk> <unk> <unk> in_a <unk> <unk> <unk> <unk> <unk> <unk> in_a <unk> <unk> <unk> this_is is_an an_interesting interesting_at at_times <unk> <unk> waste_of <unk> <unk> <unk> <unk> <unk> <unk> <unk> <unk> <unk> <unk> <unk> <unk> <unk> <unk> <unk>\n",
      "\n",
      "\n",
      "example:\n",
      "true label is 0 predicted to be 0\n",
      "\n",
      "\n",
      "so that´s i called bad bad film ... poor acting poor directing terrible writing i can´t stop laughing scenes story meaningless don´t waste time watching film ... well i recognize good ideas it´s sooooo badly <unk> ... <unk> <unk> what_i <unk> called_a a_bad bad_bad bad_film film_... <unk> poor_acting <unk> poor_directing <unk> <unk> writing_i i_just <unk> <unk> stop_laughing laughing_at at_some some_scenes <unk> because_the the_story story_is <unk> <unk> <unk> waste_your your_time time_watching watching_this this_film film_... ..._well well_i i_must <unk> <unk> it_has has_one one_or or_two two_good good_ideas ideas_but <unk> <unk> <unk> <unk> <unk> <unk> <unk> <unk> <unk> <unk> a_bad_bad <unk> <unk> <unk> <unk> <unk> <unk> <unk> <unk> <unk> <unk> <unk> <unk> <unk> <unk> <unk> <unk> <unk> <unk> because_the_story the_story_is <unk> <unk> <unk> <unk> waste_your_time your_time_watching time_watching_this watching_this_film this_film_... <unk> ..._well_i <unk> <unk> <unk> <unk> it_has_one <unk> one_or_two <unk> <unk> <unk> <unk> <unk> <unk> <unk> <unk> <unk> <unk> <unk> <unk> <unk> <unk> <unk> <unk> <unk> <unk> <unk> <unk> <unk> <unk> <unk> <unk> <unk> <unk> <unk> <unk> <unk> <unk> <unk> <unk> <unk> <unk> <unk> <unk> <unk> <unk> waste_your_time_watching your_time_watching_this <unk> <unk> <unk> <unk> <unk> <unk> <unk> <unk> <unk> <unk> <unk> <unk> <unk> <unk> <unk> <unk> <unk> <unk> <unk> <pad> <pad> <pad> <pad> <pad> <pad> <pad>\n",
      "\n",
      "\n"
     ]
    }
   ],
   "source": [
    "#1: pos, 0:neg\n",
    "for i in correct_example:\n",
    "    sent_ex = [id2token[j] for j in data_batch[i]]\n",
    "    print('example:')\n",
    "    print('true label is {} predicted to be {}'.format(label_batch[i],predicted[i].data[0]))\n",
    "    print('\\n')\n",
    "    print(' '.join(sent_ex))\n",
    "    print('\\n')"
   ]
  },
  {
   "cell_type": "code",
   "execution_count": null,
   "metadata": {},
   "outputs": [],
   "source": []
  }
 ],
 "metadata": {
  "kernelspec": {
   "display_name": "Python 3",
   "language": "python",
   "name": "python3"
  }
 },
 "nbformat": 4,
 "nbformat_minor": 2
}
